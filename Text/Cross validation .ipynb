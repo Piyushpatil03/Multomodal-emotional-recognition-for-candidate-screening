{
 "cells": [
  {
   "cell_type": "code",
   "execution_count": 82,
   "id": "aedfa3c2",
   "metadata": {},
   "outputs": [],
   "source": [
    "import pandas as pd\n",
    "#import essay\n",
    "import numpy as np\n",
    "import pickle\n",
    "import re"
   ]
  },
  {
   "cell_type": "code",
   "execution_count": 83,
   "id": "ca702df1",
   "metadata": {},
   "outputs": [],
   "source": [
    "data = pd.read_csv(\"mypersonality_final.csv\",encoding='cp1252', delimiter=',', quotechar='\"')"
   ]
  },
  {
   "cell_type": "code",
   "execution_count": 84,
   "id": "140c1d96",
   "metadata": {},
   "outputs": [],
   "source": [
    "data = data[['STATUS','cEXT','cNEU','cAGR','cCON','cOPN']]"
   ]
  },
  {
   "cell_type": "code",
   "execution_count": 85,
   "id": "c7f43784",
   "metadata": {},
   "outputs": [
    {
     "data": {
      "text/html": [
       "<div>\n",
       "<style scoped>\n",
       "    .dataframe tbody tr th:only-of-type {\n",
       "        vertical-align: middle;\n",
       "    }\n",
       "\n",
       "    .dataframe tbody tr th {\n",
       "        vertical-align: top;\n",
       "    }\n",
       "\n",
       "    .dataframe thead th {\n",
       "        text-align: right;\n",
       "    }\n",
       "</style>\n",
       "<table border=\"1\" class=\"dataframe\">\n",
       "  <thead>\n",
       "    <tr style=\"text-align: right;\">\n",
       "      <th></th>\n",
       "      <th>STATUS</th>\n",
       "      <th>cEXT</th>\n",
       "      <th>cNEU</th>\n",
       "      <th>cAGR</th>\n",
       "      <th>cCON</th>\n",
       "      <th>cOPN</th>\n",
       "    </tr>\n",
       "  </thead>\n",
       "  <tbody>\n",
       "    <tr>\n",
       "      <th>0</th>\n",
       "      <td>likes the sound of thunder.</td>\n",
       "      <td>n</td>\n",
       "      <td>y</td>\n",
       "      <td>n</td>\n",
       "      <td>n</td>\n",
       "      <td>y</td>\n",
       "    </tr>\n",
       "    <tr>\n",
       "      <th>1</th>\n",
       "      <td>is so sleepy it's not even funny that's she ca...</td>\n",
       "      <td>n</td>\n",
       "      <td>y</td>\n",
       "      <td>n</td>\n",
       "      <td>n</td>\n",
       "      <td>y</td>\n",
       "    </tr>\n",
       "    <tr>\n",
       "      <th>2</th>\n",
       "      <td>is sore and wants the knot of muscles at the b...</td>\n",
       "      <td>n</td>\n",
       "      <td>y</td>\n",
       "      <td>n</td>\n",
       "      <td>n</td>\n",
       "      <td>y</td>\n",
       "    </tr>\n",
       "    <tr>\n",
       "      <th>3</th>\n",
       "      <td>likes how the day sounds in this new song.</td>\n",
       "      <td>n</td>\n",
       "      <td>y</td>\n",
       "      <td>n</td>\n",
       "      <td>n</td>\n",
       "      <td>y</td>\n",
       "    </tr>\n",
       "    <tr>\n",
       "      <th>4</th>\n",
       "      <td>is home. &lt;3</td>\n",
       "      <td>n</td>\n",
       "      <td>y</td>\n",
       "      <td>n</td>\n",
       "      <td>n</td>\n",
       "      <td>y</td>\n",
       "    </tr>\n",
       "  </tbody>\n",
       "</table>\n",
       "</div>"
      ],
      "text/plain": [
       "                                              STATUS cEXT cNEU cAGR cCON cOPN\n",
       "0                        likes the sound of thunder.    n    y    n    n    y\n",
       "1  is so sleepy it's not even funny that's she ca...    n    y    n    n    y\n",
       "2  is sore and wants the knot of muscles at the b...    n    y    n    n    y\n",
       "3         likes how the day sounds in this new song.    n    y    n    n    y\n",
       "4                                        is home. <3    n    y    n    n    y"
      ]
     },
     "execution_count": 85,
     "metadata": {},
     "output_type": "execute_result"
    }
   ],
   "source": [
    "data.head()"
   ]
  },
  {
   "cell_type": "code",
   "execution_count": 86,
   "id": "3886291b",
   "metadata": {},
   "outputs": [
    {
     "data": {
      "text/html": [
       "<div>\n",
       "<style scoped>\n",
       "    .dataframe tbody tr th:only-of-type {\n",
       "        vertical-align: middle;\n",
       "    }\n",
       "\n",
       "    .dataframe tbody tr th {\n",
       "        vertical-align: top;\n",
       "    }\n",
       "\n",
       "    .dataframe thead th {\n",
       "        text-align: right;\n",
       "    }\n",
       "</style>\n",
       "<table border=\"1\" class=\"dataframe\">\n",
       "  <thead>\n",
       "    <tr style=\"text-align: right;\">\n",
       "      <th></th>\n",
       "      <th>STATUS</th>\n",
       "      <th>cEXT</th>\n",
       "      <th>cNEU</th>\n",
       "      <th>cAGR</th>\n",
       "      <th>cCON</th>\n",
       "      <th>cOPN</th>\n",
       "    </tr>\n",
       "  </thead>\n",
       "  <tbody>\n",
       "    <tr>\n",
       "      <th>0</th>\n",
       "      <td>likes the sound of thunder.</td>\n",
       "      <td>0</td>\n",
       "      <td>1</td>\n",
       "      <td>0</td>\n",
       "      <td>0</td>\n",
       "      <td>1</td>\n",
       "    </tr>\n",
       "    <tr>\n",
       "      <th>1</th>\n",
       "      <td>is so sleepy it's not even funny that's she ca...</td>\n",
       "      <td>0</td>\n",
       "      <td>1</td>\n",
       "      <td>0</td>\n",
       "      <td>0</td>\n",
       "      <td>1</td>\n",
       "    </tr>\n",
       "    <tr>\n",
       "      <th>2</th>\n",
       "      <td>is sore and wants the knot of muscles at the b...</td>\n",
       "      <td>0</td>\n",
       "      <td>1</td>\n",
       "      <td>0</td>\n",
       "      <td>0</td>\n",
       "      <td>1</td>\n",
       "    </tr>\n",
       "    <tr>\n",
       "      <th>3</th>\n",
       "      <td>likes how the day sounds in this new song.</td>\n",
       "      <td>0</td>\n",
       "      <td>1</td>\n",
       "      <td>0</td>\n",
       "      <td>0</td>\n",
       "      <td>1</td>\n",
       "    </tr>\n",
       "    <tr>\n",
       "      <th>4</th>\n",
       "      <td>is home. &lt;3</td>\n",
       "      <td>0</td>\n",
       "      <td>1</td>\n",
       "      <td>0</td>\n",
       "      <td>0</td>\n",
       "      <td>1</td>\n",
       "    </tr>\n",
       "  </tbody>\n",
       "</table>\n",
       "</div>"
      ],
      "text/plain": [
       "                                              STATUS  cEXT  cNEU  cAGR  cCON  \\\n",
       "0                        likes the sound of thunder.     0     1     0     0   \n",
       "1  is so sleepy it's not even funny that's she ca...     0     1     0     0   \n",
       "2  is sore and wants the knot of muscles at the b...     0     1     0     0   \n",
       "3         likes how the day sounds in this new song.     0     1     0     0   \n",
       "4                                        is home. <3     0     1     0     0   \n",
       "\n",
       "   cOPN  \n",
       "0     1  \n",
       "1     1  \n",
       "2     1  \n",
       "3     1  \n",
       "4     1  "
      ]
     },
     "execution_count": 86,
     "metadata": {},
     "output_type": "execute_result"
    }
   ],
   "source": [
    "for e in data.columns[1:6]:\n",
    "    data[e] = data[e].replace('n', '0')\n",
    "    data[e] = data[e].replace('y', '1')\n",
    "    data[e] = pd.to_numeric(data[e])\n",
    "\n",
    "data.head()"
   ]
  },
  {
   "cell_type": "code",
   "execution_count": 87,
   "id": "e94208b1",
   "metadata": {},
   "outputs": [
    {
     "name": "stderr",
     "output_type": "stream",
     "text": [
      "[nltk_data] Downloading package stopwords to\n",
      "[nltk_data]     C:\\Users\\Piyush\\AppData\\Roaming\\nltk_data...\n",
      "[nltk_data]   Package stopwords is already up-to-date!\n",
      "[nltk_data] Downloading package punkt to\n",
      "[nltk_data]     C:\\Users\\Piyush\\AppData\\Roaming\\nltk_data...\n",
      "[nltk_data]   Package punkt is already up-to-date!\n"
     ]
    }
   ],
   "source": [
    "import re\n",
    "import nltk\n",
    "nltk.download('stopwords')\n",
    "nltk.download('punkt')\n",
    "from nltk.corpus import stopwords\n",
    "from nltk.stem import PorterStemmer, WordNetLemmatizer\n",
    "from nltk.tokenize import word_tokenize, sent_tokenize\n",
    "\n",
    "import gensim\n",
    "from gensim.utils import simple_preprocess\n",
    "from gensim.parsing.preprocessing import STOPWORDS\n",
    "\n",
    "stop_words = stopwords.words(\"english\")\n",
    "\n",
    "def preprocess(text):\n",
    "    corpus = []\n",
    "    \n",
    "    for token in gensim.utils.simple_preprocess(text):\n",
    "        if token not in gensim.parsing.preprocessing.STOPWORDS and len(token)>2 and token not in stop_words:\n",
    "            corpus.append(token)\n",
    "    return corpus"
   ]
  },
  {
   "cell_type": "code",
   "execution_count": 88,
   "id": "da35aba2",
   "metadata": {},
   "outputs": [
    {
     "data": {
      "text/html": [
       "<div>\n",
       "<style scoped>\n",
       "    .dataframe tbody tr th:only-of-type {\n",
       "        vertical-align: middle;\n",
       "    }\n",
       "\n",
       "    .dataframe tbody tr th {\n",
       "        vertical-align: top;\n",
       "    }\n",
       "\n",
       "    .dataframe thead th {\n",
       "        text-align: right;\n",
       "    }\n",
       "</style>\n",
       "<table border=\"1\" class=\"dataframe\">\n",
       "  <thead>\n",
       "    <tr style=\"text-align: right;\">\n",
       "      <th></th>\n",
       "      <th>STATUS</th>\n",
       "      <th>cEXT</th>\n",
       "      <th>cNEU</th>\n",
       "      <th>cAGR</th>\n",
       "      <th>cCON</th>\n",
       "      <th>cOPN</th>\n",
       "      <th>clean</th>\n",
       "      <th>clean_text</th>\n",
       "    </tr>\n",
       "  </thead>\n",
       "  <tbody>\n",
       "    <tr>\n",
       "      <th>0</th>\n",
       "      <td>likes the sound of thunder.</td>\n",
       "      <td>0</td>\n",
       "      <td>1</td>\n",
       "      <td>0</td>\n",
       "      <td>0</td>\n",
       "      <td>1</td>\n",
       "      <td>[likes, sound, thunder]</td>\n",
       "      <td>likes sound thunder</td>\n",
       "    </tr>\n",
       "    <tr>\n",
       "      <th>1</th>\n",
       "      <td>is so sleepy it's not even funny that's she ca...</td>\n",
       "      <td>0</td>\n",
       "      <td>1</td>\n",
       "      <td>0</td>\n",
       "      <td>0</td>\n",
       "      <td>1</td>\n",
       "      <td>[sleepy, funny, sleep]</td>\n",
       "      <td>sleepy funny sleep</td>\n",
       "    </tr>\n",
       "    <tr>\n",
       "      <th>2</th>\n",
       "      <td>is sore and wants the knot of muscles at the b...</td>\n",
       "      <td>0</td>\n",
       "      <td>1</td>\n",
       "      <td>0</td>\n",
       "      <td>0</td>\n",
       "      <td>1</td>\n",
       "      <td>[sore, wants, knot, muscles, base, neck, stop,...</td>\n",
       "      <td>sore wants knot muscles base neck stop hurting...</td>\n",
       "    </tr>\n",
       "    <tr>\n",
       "      <th>3</th>\n",
       "      <td>likes how the day sounds in this new song.</td>\n",
       "      <td>0</td>\n",
       "      <td>1</td>\n",
       "      <td>0</td>\n",
       "      <td>0</td>\n",
       "      <td>1</td>\n",
       "      <td>[likes, day, sounds, new, song]</td>\n",
       "      <td>likes day sounds new song</td>\n",
       "    </tr>\n",
       "    <tr>\n",
       "      <th>4</th>\n",
       "      <td>is home. &lt;3</td>\n",
       "      <td>0</td>\n",
       "      <td>1</td>\n",
       "      <td>0</td>\n",
       "      <td>0</td>\n",
       "      <td>1</td>\n",
       "      <td>[home]</td>\n",
       "      <td>home</td>\n",
       "    </tr>\n",
       "  </tbody>\n",
       "</table>\n",
       "</div>"
      ],
      "text/plain": [
       "                                              STATUS  cEXT  cNEU  cAGR  cCON  \\\n",
       "0                        likes the sound of thunder.     0     1     0     0   \n",
       "1  is so sleepy it's not even funny that's she ca...     0     1     0     0   \n",
       "2  is sore and wants the knot of muscles at the b...     0     1     0     0   \n",
       "3         likes how the day sounds in this new song.     0     1     0     0   \n",
       "4                                        is home. <3     0     1     0     0   \n",
       "\n",
       "   cOPN                                              clean  \\\n",
       "0     1                            [likes, sound, thunder]   \n",
       "1     1                             [sleepy, funny, sleep]   \n",
       "2     1  [sore, wants, knot, muscles, base, neck, stop,...   \n",
       "3     1                    [likes, day, sounds, new, song]   \n",
       "4     1                                             [home]   \n",
       "\n",
       "                                          clean_text  \n",
       "0                                likes sound thunder  \n",
       "1                                 sleepy funny sleep  \n",
       "2  sore wants knot muscles base neck stop hurting...  \n",
       "3                          likes day sounds new song  \n",
       "4                                               home  "
      ]
     },
     "execution_count": 88,
     "metadata": {},
     "output_type": "execute_result"
    }
   ],
   "source": [
    "data['clean'] = data['STATUS'].apply(preprocess)\n",
    "data['clean_text'] = data['clean'].apply(lambda x:\" \".join(x))\n",
    "data.head()"
   ]
  },
  {
   "cell_type": "code",
   "execution_count": 89,
   "id": "456314bf",
   "metadata": {},
   "outputs": [
    {
     "name": "stderr",
     "output_type": "stream",
     "text": [
      "c:\\users\\piyush\\appdata\\local\\programs\\python\\python39\\lib\\site-packages\\sklearn\\base.py:310: UserWarning: Trying to unpickle estimator SVC from version 0.22.2.post1 when using version 0.24.2. This might lead to breaking code or invalid results. Use at your own risk.\n",
      "  warnings.warn(\n",
      "c:\\users\\piyush\\appdata\\local\\programs\\python\\python39\\lib\\site-packages\\sklearn\\base.py:310: UserWarning: Trying to unpickle estimator LogisticRegression from version 0.22.2.post1 when using version 0.24.2. This might lead to breaking code or invalid results. Use at your own risk.\n",
      "  warnings.warn(\n"
     ]
    }
   ],
   "source": [
    "cNEU = pickle.load( open(\"pickles/cNEU_project.p\", \"rb\"))\n",
    "cAGR = pickle.load( open(\"pickles/cAGR_project (1).p\", \"rb\"))\n",
    "cCON = pickle.load( open(\"pickles/cCON_project (1).p\", \"rb\"))\n",
    "cOPN = pickle.load( open(\"pickles/cOPN_project (1).p\", \"rb\"))\n",
    "cEXT = pickle.load( open(\"pickles/cEXT_project (1).p\", \"rb\"))"
   ]
  },
  {
   "cell_type": "code",
   "execution_count": 90,
   "id": "9f49f017",
   "metadata": {},
   "outputs": [
    {
     "name": "stderr",
     "output_type": "stream",
     "text": [
      "c:\\users\\piyush\\appdata\\local\\programs\\python\\python39\\lib\\site-packages\\sklearn\\base.py:310: UserWarning: Trying to unpickle estimator CountVectorizer from version 0.22.2.post1 when using version 0.24.2. This might lead to breaking code or invalid results. Use at your own risk.\n",
      "  warnings.warn(\n"
     ]
    }
   ],
   "source": [
    "with open('pickles/bow_vectorizer_project.p', 'rb') as f1:\n",
    "    bow_transformer = pickle.load(f1)"
   ]
  },
  {
   "cell_type": "code",
   "execution_count": 91,
   "id": "e15e4ae7",
   "metadata": {},
   "outputs": [
    {
     "name": "stderr",
     "output_type": "stream",
     "text": [
      "c:\\users\\piyush\\appdata\\local\\programs\\python\\python39\\lib\\site-packages\\sklearn\\base.py:310: UserWarning: Trying to unpickle estimator TfidfTransformer from version 0.22.2.post1 when using version 0.24.2. This might lead to breaking code or invalid results. Use at your own risk.\n",
      "  warnings.warn(\n",
      "c:\\users\\piyush\\appdata\\local\\programs\\python\\python39\\lib\\site-packages\\sklearn\\base.py:310: UserWarning: Trying to unpickle estimator TfidfVectorizer from version 0.22.2.post1 when using version 0.24.2. This might lead to breaking code or invalid results. Use at your own risk.\n",
      "  warnings.warn(\n"
     ]
    }
   ],
   "source": [
    "with open('pickles/tfidf_vectorizer_project (1).p', 'rb') as f:\n",
    "    tfidf_transformer = pickle.load(f)"
   ]
  },
  {
   "cell_type": "code",
   "execution_count": 92,
   "id": "500b19bb",
   "metadata": {},
   "outputs": [],
   "source": [
    "def predict_personality(text):\n",
    "    sentences = re.split(\"(?<=[.!?]) +\", text)\n",
    "    text_vector_31 = tfidf_transformer.transform(sentences)\n",
    "    text_vector_32 = bow_transformer.transform(sentences)\n",
    "    EXT = cEXT.predict(text_vector_31)\n",
    "    AGR = cAGR.predict(text_vector_31)\n",
    "    CON = cCON.predict(text_vector_31)\n",
    "    OPN = cOPN.predict(text_vector_31)\n",
    "    return [EXT[0]]\n"
   ]
  },
  {
   "cell_type": "code",
   "execution_count": 93,
   "id": "362172aa",
   "metadata": {},
   "outputs": [],
   "source": [
    "def predict_final(text):\n",
    "  predictions = predict_personality(text)\n",
    "  ll = []\n",
    "  if predictions[0] == 0:\n",
    "    ll.append('Not Extraversion')\n",
    "  elif predictions[0] == 1:\n",
    "    ll.append('Extraversion')\n",
    "\n",
    "  if predictions[1] == 0:\n",
    "    ll.append('Not Neuroticism')\n",
    "  elif predictions[1] == 1:\n",
    "    ll.append('Neuroticism')\n",
    "\n",
    "  if predictions[2] == 0:\n",
    "    ll.append('Not Agreeableness')\n",
    "  elif predictions[2] == 1:\n",
    "    ll.append('Agreeableness')\n",
    "\n",
    "  if predictions[3] == 0:\n",
    "    ll.append('Not Conscientiousness')\n",
    "  elif predictions[3] == 1:\n",
    "    ll.append('Conscientiousness')\n",
    "  \n",
    "  if predictions[4] == 0:\n",
    "    ll.append('Not Openness')\n",
    "  elif predictions[4] == 1:\n",
    "    ll.append('Openness')\n",
    "  \n",
    "  return ll"
   ]
  },
  {
   "cell_type": "code",
   "execution_count": 94,
   "id": "79823ecc",
   "metadata": {},
   "outputs": [
    {
     "data": {
      "text/plain": [
       "0                                     likes sound thunder\n",
       "1                                      sleepy funny sleep\n",
       "2       sore wants knot muscles base neck stop hurting...\n",
       "3                               likes day sounds new song\n",
       "4                                                    home\n",
       "                              ...                        \n",
       "9912                                   little things away\n",
       "9913                                     wishing saturday\n",
       "9914                                        studying hard\n",
       "9915                                         snipers head\n",
       "9916    night amazing propname propname performance re...\n",
       "Name: clean_text, Length: 9917, dtype: object"
      ]
     },
     "execution_count": 94,
     "metadata": {},
     "output_type": "execute_result"
    }
   ],
   "source": [
    "data['clean_text']"
   ]
  },
  {
   "cell_type": "code",
   "execution_count": 95,
   "id": "6cfc6f08",
   "metadata": {},
   "outputs": [],
   "source": [
    "from sklearn.model_selection import train_test_split\n",
    "training, test = train_test_split(data, test_size=0.20, random_state=42)"
   ]
  },
  {
   "cell_type": "code",
   "execution_count": 96,
   "id": "3b7d9e93",
   "metadata": {},
   "outputs": [],
   "source": [
    "train_x = training.clean_text\n",
    "\n",
    "train_y_cEXT = training['cEXT']\n",
    "train_y_cNEU = training['cNEU']\n",
    "train_y_cAGR = training['cAGR']\n",
    "train_y_cCON = training['cCON']\n",
    "train_y_cOPN = training['cOPN']\n",
    "\n",
    "\n",
    "test_x = test.clean_text\n",
    "\n",
    "test_y_cEXT = test['cEXT']\n",
    "test_y_cNEU = test['cNEU']\n",
    "test_y_cAGR = test['cAGR']\n",
    "test_y_cCON = test['cCON']\n",
    "test_y_cOPN = test['cOPN']"
   ]
  },
  {
   "cell_type": "code",
   "execution_count": 97,
   "id": "d93f6a37",
   "metadata": {},
   "outputs": [],
   "source": [
    "# for evaluation save some data for later:\n",
    "evaluation = []\n",
    "evaluation_tf = []\n",
    "data_length = len(data)\n",
    "vec_name = \"MBTI\""
   ]
  },
  {
   "cell_type": "code",
   "execution_count": 98,
   "id": "39d83492",
   "metadata": {},
   "outputs": [],
   "source": [
    "train_x_vectors = bow_transformer.transform(train_x)\n",
    "test_x_vectors = bow_transformer.transform(test_x)"
   ]
  },
  {
   "cell_type": "code",
   "execution_count": 99,
   "id": "6c6100e7",
   "metadata": {},
   "outputs": [],
   "source": [
    "train_x_vectors_tf = tfidf_transformer.transform(train_x)\n",
    "test_x_vectors_tf = tfidf_transformer.transform(test_x)"
   ]
  },
  {
   "cell_type": "code",
   "execution_count": 101,
   "id": "77e19833",
   "metadata": {},
   "outputs": [],
   "source": [
    "EXT = cEXT.predict(train_x_vectors_tf)"
   ]
  },
  {
   "cell_type": "code",
   "execution_count": 105,
   "id": "8e67ea91",
   "metadata": {},
   "outputs": [
    {
     "data": {
      "text/plain": [
       "array([0, 0, 1, ..., 0, 0, 0], dtype=int64)"
      ]
     },
     "execution_count": 105,
     "metadata": {},
     "output_type": "execute_result"
    }
   ],
   "source": [
    "EXT"
   ]
  },
  {
   "cell_type": "code",
   "execution_count": 106,
   "id": "5f2a70b3",
   "metadata": {},
   "outputs": [],
   "source": [
    "from sklearn.metrics import accuracy_score\n",
    "ac = accuracy_score(train_y_cEXT, EXT)"
   ]
  },
  {
   "cell_type": "code",
   "execution_count": 107,
   "id": "56bed1de",
   "metadata": {},
   "outputs": [
    {
     "data": {
      "text/plain": [
       "0.554519097441069"
      ]
     },
     "execution_count": 107,
     "metadata": {},
     "output_type": "execute_result"
    }
   ],
   "source": [
    "ac"
   ]
  },
  {
   "cell_type": "code",
   "execution_count": 108,
   "id": "727ab641",
   "metadata": {},
   "outputs": [],
   "source": [
    "OPN = cOPN.predict(train_x_vectors_tf)"
   ]
  },
  {
   "cell_type": "code",
   "execution_count": 110,
   "id": "9d6d3e76",
   "metadata": {},
   "outputs": [
    {
     "data": {
      "text/plain": [
       "0.7224253119878986"
      ]
     },
     "execution_count": 110,
     "metadata": {},
     "output_type": "execute_result"
    }
   ],
   "source": [
    "from sklearn.metrics import accuracy_score\n",
    "ac = accuracy_score(train_y_cOPN, OPN)\n",
    "ac"
   ]
  },
  {
   "cell_type": "code",
   "execution_count": 115,
   "id": "90e13b15",
   "metadata": {},
   "outputs": [
    {
     "data": {
      "text/plain": [
       "0.48329761754695577"
      ]
     },
     "execution_count": 115,
     "metadata": {},
     "output_type": "execute_result"
    }
   ],
   "source": [
    "AGR = cAGR.predict(train_x_vectors_tf)\n",
    "from sklearn.metrics import accuracy_score\n",
    "ac = accuracy_score(train_y_cAGR, AGR)\n",
    "ac"
   ]
  },
  {
   "cell_type": "code",
   "execution_count": 116,
   "id": "d3e06d26",
   "metadata": {},
   "outputs": [
    {
     "data": {
      "text/plain": [
       "0.5406529686121265"
      ]
     },
     "execution_count": 116,
     "metadata": {},
     "output_type": "execute_result"
    }
   ],
   "source": [
    "CON = cCON.predict(train_x_vectors_tf)\n",
    "from sklearn.metrics import accuracy_score\n",
    "ac = accuracy_score(train_y_cCON, CON)\n",
    "ac"
   ]
  },
  {
   "cell_type": "code",
   "execution_count": null,
   "id": "8ec8a3c7",
   "metadata": {},
   "outputs": [],
   "source": []
  }
 ],
 "metadata": {
  "kernelspec": {
   "display_name": "Python 3 (ipykernel)",
   "language": "python",
   "name": "python3"
  },
  "language_info": {
   "codemirror_mode": {
    "name": "ipython",
    "version": 3
   },
   "file_extension": ".py",
   "mimetype": "text/x-python",
   "name": "python",
   "nbconvert_exporter": "python",
   "pygments_lexer": "ipython3",
   "version": "3.9.6"
  }
 },
 "nbformat": 4,
 "nbformat_minor": 5
}
