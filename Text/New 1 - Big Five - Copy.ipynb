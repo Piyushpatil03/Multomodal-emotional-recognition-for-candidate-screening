{
 "cells": [
  {
   "cell_type": "code",
   "execution_count": 1,
   "id": "26b3ae74",
   "metadata": {},
   "outputs": [],
   "source": [
    "import pandas as pd\n",
    "import essay\n",
    "import numpy as np\n",
    "import pickle\n",
    "import re"
   ]
  },
  {
   "cell_type": "code",
   "execution_count": 2,
   "id": "d622bfb4",
   "metadata": {},
   "outputs": [
    {
     "data": {
      "text/html": [
       "<div>\n",
       "<style scoped>\n",
       "    .dataframe tbody tr th:only-of-type {\n",
       "        vertical-align: middle;\n",
       "    }\n",
       "\n",
       "    .dataframe tbody tr th {\n",
       "        vertical-align: top;\n",
       "    }\n",
       "\n",
       "    .dataframe thead th {\n",
       "        text-align: right;\n",
       "    }\n",
       "</style>\n",
       "<table border=\"1\" class=\"dataframe\">\n",
       "  <thead>\n",
       "    <tr style=\"text-align: right;\">\n",
       "      <th></th>\n",
       "      <th>TEXT</th>\n",
       "      <th>cEXT</th>\n",
       "      <th>cNEU</th>\n",
       "      <th>cAGR</th>\n",
       "      <th>cCON</th>\n",
       "      <th>cOPN</th>\n",
       "    </tr>\n",
       "  </thead>\n",
       "  <tbody>\n",
       "    <tr>\n",
       "      <th>0</th>\n",
       "      <td>Well, right now I just woke up from a mid-day ...</td>\n",
       "      <td>0</td>\n",
       "      <td>1</td>\n",
       "      <td>1</td>\n",
       "      <td>0</td>\n",
       "      <td>1</td>\n",
       "    </tr>\n",
       "    <tr>\n",
       "      <th>1</th>\n",
       "      <td>Well, here we go with the stream of consciousn...</td>\n",
       "      <td>0</td>\n",
       "      <td>0</td>\n",
       "      <td>1</td>\n",
       "      <td>0</td>\n",
       "      <td>0</td>\n",
       "    </tr>\n",
       "    <tr>\n",
       "      <th>2</th>\n",
       "      <td>An open keyboard and buttons to push. The thin...</td>\n",
       "      <td>0</td>\n",
       "      <td>1</td>\n",
       "      <td>0</td>\n",
       "      <td>1</td>\n",
       "      <td>1</td>\n",
       "    </tr>\n",
       "    <tr>\n",
       "      <th>3</th>\n",
       "      <td>I can't believe it!  It's really happening!  M...</td>\n",
       "      <td>1</td>\n",
       "      <td>0</td>\n",
       "      <td>1</td>\n",
       "      <td>1</td>\n",
       "      <td>0</td>\n",
       "    </tr>\n",
       "    <tr>\n",
       "      <th>4</th>\n",
       "      <td>Well, here I go with the good old stream of co...</td>\n",
       "      <td>1</td>\n",
       "      <td>0</td>\n",
       "      <td>1</td>\n",
       "      <td>0</td>\n",
       "      <td>1</td>\n",
       "    </tr>\n",
       "  </tbody>\n",
       "</table>\n",
       "</div>"
      ],
      "text/plain": [
       "                                                TEXT  cEXT  cNEU  cAGR  cCON  \\\n",
       "0  Well, right now I just woke up from a mid-day ...     0     1     1     0   \n",
       "1  Well, here we go with the stream of consciousn...     0     0     1     0   \n",
       "2  An open keyboard and buttons to push. The thin...     0     1     0     1   \n",
       "3  I can't believe it!  It's really happening!  M...     1     0     1     1   \n",
       "4  Well, here I go with the good old stream of co...     1     0     1     0   \n",
       "\n",
       "   cOPN  \n",
       "0     1  \n",
       "1     0  \n",
       "2     1  \n",
       "3     0  \n",
       "4     1  "
      ]
     },
     "execution_count": 2,
     "metadata": {},
     "output_type": "execute_result"
    }
   ],
   "source": [
    "df_essays = pd.read_csv('data/training/essays.csv', encoding='cp1252', delimiter=',', quotechar='\"')\n",
    "\n",
    "# for every essay, we replace the personalitiy categories \n",
    "# of the essay wich are \"y\" and \"n\" with \"1\" and \"0\" \n",
    "for e in df_essays.columns[2:7]:\n",
    "    df_essays[e] = df_essays[e].replace('n', '0')\n",
    "    df_essays[e] = df_essays[e].replace('y', '1')\n",
    "    # not sure if we need this line: furter investigation possible:\n",
    "    df_essays[e] = pd.to_numeric(df_essays[e])\n",
    "\n",
    "df_essays = df_essays[[\"TEXT\", \"cEXT\", \"cNEU\", \"cAGR\", \"cCON\", \"cOPN\"]]\n",
    "df_essays.head()"
   ]
  },
  {
   "cell_type": "code",
   "execution_count": 3,
   "id": "396daab4",
   "metadata": {},
   "outputs": [
    {
     "data": {
      "text/html": [
       "<div>\n",
       "<style scoped>\n",
       "    .dataframe tbody tr th:only-of-type {\n",
       "        vertical-align: middle;\n",
       "    }\n",
       "\n",
       "    .dataframe tbody tr th {\n",
       "        vertical-align: top;\n",
       "    }\n",
       "\n",
       "    .dataframe thead th {\n",
       "        text-align: right;\n",
       "    }\n",
       "</style>\n",
       "<table border=\"1\" class=\"dataframe\">\n",
       "  <thead>\n",
       "    <tr style=\"text-align: right;\">\n",
       "      <th></th>\n",
       "      <th>type</th>\n",
       "      <th>posts</th>\n",
       "    </tr>\n",
       "  </thead>\n",
       "  <tbody>\n",
       "    <tr>\n",
       "      <th>0</th>\n",
       "      <td>INFJ</td>\n",
       "      <td>'http://www.youtube.com/watch?v=qsXHcwe3krw|||...</td>\n",
       "    </tr>\n",
       "    <tr>\n",
       "      <th>1</th>\n",
       "      <td>ENTP</td>\n",
       "      <td>'I'm finding the lack of me in these posts ver...</td>\n",
       "    </tr>\n",
       "    <tr>\n",
       "      <th>2</th>\n",
       "      <td>INTP</td>\n",
       "      <td>'Good one  _____   https://www.youtube.com/wat...</td>\n",
       "    </tr>\n",
       "    <tr>\n",
       "      <th>3</th>\n",
       "      <td>INTJ</td>\n",
       "      <td>'Dear INTP,   I enjoyed our conversation the o...</td>\n",
       "    </tr>\n",
       "    <tr>\n",
       "      <th>4</th>\n",
       "      <td>ENTJ</td>\n",
       "      <td>'You're fired.|||That's another silly misconce...</td>\n",
       "    </tr>\n",
       "    <tr>\n",
       "      <th>...</th>\n",
       "      <td>...</td>\n",
       "      <td>...</td>\n",
       "    </tr>\n",
       "    <tr>\n",
       "      <th>8670</th>\n",
       "      <td>ISFP</td>\n",
       "      <td>'https://www.youtube.com/watch?v=t8edHB_h908||...</td>\n",
       "    </tr>\n",
       "    <tr>\n",
       "      <th>8671</th>\n",
       "      <td>ENFP</td>\n",
       "      <td>'So...if this thread already exists someplace ...</td>\n",
       "    </tr>\n",
       "    <tr>\n",
       "      <th>8672</th>\n",
       "      <td>INTP</td>\n",
       "      <td>'So many questions when i do these things.  I ...</td>\n",
       "    </tr>\n",
       "    <tr>\n",
       "      <th>8673</th>\n",
       "      <td>INFP</td>\n",
       "      <td>'I am very conflicted right now when it comes ...</td>\n",
       "    </tr>\n",
       "    <tr>\n",
       "      <th>8674</th>\n",
       "      <td>INFP</td>\n",
       "      <td>'It has been too long since I have been on per...</td>\n",
       "    </tr>\n",
       "  </tbody>\n",
       "</table>\n",
       "<p>8675 rows × 2 columns</p>\n",
       "</div>"
      ],
      "text/plain": [
       "      type                                              posts\n",
       "0     INFJ  'http://www.youtube.com/watch?v=qsXHcwe3krw|||...\n",
       "1     ENTP  'I'm finding the lack of me in these posts ver...\n",
       "2     INTP  'Good one  _____   https://www.youtube.com/wat...\n",
       "3     INTJ  'Dear INTP,   I enjoyed our conversation the o...\n",
       "4     ENTJ  'You're fired.|||That's another silly misconce...\n",
       "...    ...                                                ...\n",
       "8670  ISFP  'https://www.youtube.com/watch?v=t8edHB_h908||...\n",
       "8671  ENFP  'So...if this thread already exists someplace ...\n",
       "8672  INTP  'So many questions when i do these things.  I ...\n",
       "8673  INFP  'I am very conflicted right now when it comes ...\n",
       "8674  INFP  'It has been too long since I have been on per...\n",
       "\n",
       "[8675 rows x 2 columns]"
      ]
     },
     "execution_count": 3,
     "metadata": {},
     "output_type": "execute_result"
    }
   ],
   "source": [
    "df_kaggle = pd.read_csv('data/training/mbti_1.csv',  skiprows=0 )\n",
    "df_kaggle"
   ]
  },
  {
   "cell_type": "code",
   "execution_count": 4,
   "id": "1e5d12b4",
   "metadata": {},
   "outputs": [],
   "source": [
    "def mbti_to_big5(mbti):\n",
    "    # check https://en.wikipedia.org/wiki/Myers%E2%80%93Briggs_Type_Indicator\n",
    "    # in mbti (myers briggs) ther is invrovert vs. extrovert\n",
    "    # which corellates with Extroversion in BIG FIVE\n",
    "    mbti = mbti.lower()\n",
    "    cEXT, cNEU, cAGR, cCON, cOPN = 0,np.NaN,0,0,0\n",
    "    if mbti[0] == \"i\":\n",
    "        cEXT = 0\n",
    "    elif mbti[0] == \"e\":\n",
    "        cEXT = 1\n",
    "\n",
    "    # in mbti (myers briggs) ther is I*N*TUITION vs SENSING\n",
    "    # which corellates with OPENNESS in BIG FIVE\n",
    "    if mbti[1] == \"n\":\n",
    "        cOPN = 1\n",
    "    elif mbti[1] == \"s\":\n",
    "        cOPN = 0   \n",
    "\n",
    "    # in mbti (myers briggs) ther is THINKER vs FEELER\n",
    "    # which corellates with AGREEABLENESS in BIG FIVE\n",
    "    if mbti[2] == \"t\":\n",
    "        cAGR = 0\n",
    "    elif mbti[2] == \"f\":\n",
    "        cAGR = 1\n",
    "\n",
    "    # in mbti (myers briggs) ther is JUDGER vs PERCEIVER\n",
    "    # which corellates with CONSCIENTIOUSNESS in BIG FIVE (worst corellation)\n",
    "    # especially bec. orderlyness corellates with conscientiousness\n",
    "    if mbti[3] == \"p\":\n",
    "        cCON = 0\n",
    "    elif mbti[3] == \"j\":\n",
    "        cCON = 1\n",
    "\n",
    "    return cEXT, cNEU, cAGR, cCON, cOPN"
   ]
  },
  {
   "cell_type": "code",
   "execution_count": 5,
   "id": "38ef8f61",
   "metadata": {},
   "outputs": [
    {
     "data": {
      "text/plain": [
       "(0, nan, 0, 1, 1)"
      ]
     },
     "execution_count": 5,
     "metadata": {},
     "output_type": "execute_result"
    }
   ],
   "source": [
    "mbti_to_big5(df_kaggle['type'][5])"
   ]
  },
  {
   "cell_type": "code",
   "execution_count": 6,
   "id": "224d7e5f",
   "metadata": {},
   "outputs": [],
   "source": [
    "df_kaggle[\"cEXT\"] =   df_kaggle.apply(lambda x: mbti_to_big5(x.type)[0], 1)\n",
    "df_kaggle[\"cNEU\"] =   df_kaggle.apply(lambda x: mbti_to_big5(x.type)[1], 1)\n",
    "df_kaggle[\"cAGR\"] =   df_kaggle.apply(lambda x: mbti_to_big5(x.type)[2], 1)\n",
    "df_kaggle[\"cCON\"] =   df_kaggle.apply(lambda x: mbti_to_big5(x.type)[3], 1)\n",
    "df_kaggle[\"cOPN\"] =   df_kaggle.apply(lambda x: mbti_to_big5(x.type)[4], 1)"
   ]
  },
  {
   "cell_type": "code",
   "execution_count": 7,
   "id": "e5f98e44",
   "metadata": {},
   "outputs": [
    {
     "name": "stderr",
     "output_type": "stream",
     "text": [
      "C:\\Users\\Piyush\\AppData\\Local\\Temp/ipykernel_14456/4078397535.py:4: SettingWithCopyWarning: \n",
      "A value is trying to be set on a copy of a slice from a DataFrame.\n",
      "Try using .loc[row_indexer,col_indexer] = value instead\n",
      "\n",
      "See the caveats in the documentation: https://pandas.pydata.org/pandas-docs/stable/user_guide/indexing.html#returning-a-view-versus-a-copy\n",
      "  df_kaggle[\"TEXT\"] = df_kaggle.apply(lambda x: x.TEXT.replace(\"|||\", \" \")[:], 1)\n"
     ]
    },
    {
     "data": {
      "text/html": [
       "<div>\n",
       "<style scoped>\n",
       "    .dataframe tbody tr th:only-of-type {\n",
       "        vertical-align: middle;\n",
       "    }\n",
       "\n",
       "    .dataframe tbody tr th {\n",
       "        vertical-align: top;\n",
       "    }\n",
       "\n",
       "    .dataframe thead th {\n",
       "        text-align: right;\n",
       "    }\n",
       "</style>\n",
       "<table border=\"1\" class=\"dataframe\">\n",
       "  <thead>\n",
       "    <tr style=\"text-align: right;\">\n",
       "      <th></th>\n",
       "      <th>TEXT</th>\n",
       "      <th>cEXT</th>\n",
       "      <th>cNEU</th>\n",
       "      <th>cAGR</th>\n",
       "      <th>cCON</th>\n",
       "      <th>cOPN</th>\n",
       "    </tr>\n",
       "  </thead>\n",
       "  <tbody>\n",
       "    <tr>\n",
       "      <th>0</th>\n",
       "      <td>'http://www.youtube.com/watch?v=qsXHcwe3krw ht...</td>\n",
       "      <td>0</td>\n",
       "      <td>NaN</td>\n",
       "      <td>1</td>\n",
       "      <td>1</td>\n",
       "      <td>1</td>\n",
       "    </tr>\n",
       "    <tr>\n",
       "      <th>1</th>\n",
       "      <td>'I'm finding the lack of me in these posts ver...</td>\n",
       "      <td>1</td>\n",
       "      <td>NaN</td>\n",
       "      <td>0</td>\n",
       "      <td>0</td>\n",
       "      <td>1</td>\n",
       "    </tr>\n",
       "    <tr>\n",
       "      <th>2</th>\n",
       "      <td>'Good one  _____   https://www.youtube.com/wat...</td>\n",
       "      <td>0</td>\n",
       "      <td>NaN</td>\n",
       "      <td>0</td>\n",
       "      <td>0</td>\n",
       "      <td>1</td>\n",
       "    </tr>\n",
       "    <tr>\n",
       "      <th>3</th>\n",
       "      <td>'Dear INTP,   I enjoyed our conversation the o...</td>\n",
       "      <td>0</td>\n",
       "      <td>NaN</td>\n",
       "      <td>0</td>\n",
       "      <td>1</td>\n",
       "      <td>1</td>\n",
       "    </tr>\n",
       "    <tr>\n",
       "      <th>4</th>\n",
       "      <td>'You're fired. That's another silly misconcept...</td>\n",
       "      <td>1</td>\n",
       "      <td>NaN</td>\n",
       "      <td>0</td>\n",
       "      <td>1</td>\n",
       "      <td>1</td>\n",
       "    </tr>\n",
       "  </tbody>\n",
       "</table>\n",
       "</div>"
      ],
      "text/plain": [
       "                                                TEXT  cEXT  cNEU  cAGR  cCON  \\\n",
       "0  'http://www.youtube.com/watch?v=qsXHcwe3krw ht...     0   NaN     1     1   \n",
       "1  'I'm finding the lack of me in these posts ver...     1   NaN     0     0   \n",
       "2  'Good one  _____   https://www.youtube.com/wat...     0   NaN     0     0   \n",
       "3  'Dear INTP,   I enjoyed our conversation the o...     0   NaN     0     1   \n",
       "4  'You're fired. That's another silly misconcept...     1   NaN     0     1   \n",
       "\n",
       "   cOPN  \n",
       "0     1  \n",
       "1     1  \n",
       "2     1  \n",
       "3     1  \n",
       "4     1  "
      ]
     },
     "execution_count": 7,
     "metadata": {},
     "output_type": "execute_result"
    }
   ],
   "source": [
    "df_kaggle = df_kaggle[[\"posts\", \"cEXT\", \"cNEU\", \"cAGR\", \"cCON\", \"cOPN\"]]\n",
    "df_kaggle.columns = [\"TEXT\", \"cEXT\", \"cNEU\", \"cAGR\", \"cCON\", \"cOPN\"]\n",
    "# remove som fancy ||| things\n",
    "df_kaggle[\"TEXT\"] = df_kaggle.apply(lambda x: x.TEXT.replace(\"|||\", \" \")[:], 1)\n",
    "\n",
    "df_kaggle.head()"
   ]
  },
  {
   "cell_type": "code",
   "execution_count": 8,
   "id": "768100fe",
   "metadata": {},
   "outputs": [],
   "source": [
    "## Load Emotional Lexicon to substract from data\n",
    "\n",
    "# also from \"Emotional_Lexicon.csv\" we read in the data, which is a list of words and \n",
    "# has several categories of emotions. \n",
    "# anger - anticipation - disgust - fear - joy - negative - positive \n",
    "# - sadness - surprise - trust - Charged\n",
    "df_lexicon = pd.read_csv('data/training/Emotion_Lexicon.csv', index_col=0)\n",
    "\n",
    "\n",
    "# some of the words have no emotional category, \n",
    "# so let's remove them as they have no use to us.\n",
    "# can be improved by not even loading them when all columns are 0. maybe later.\n",
    "df_lexicon = df_lexicon[(df_lexicon.T != 0).any()]\n",
    "emotional_words = df_lexicon.index.tolist()"
   ]
  },
  {
   "cell_type": "code",
   "execution_count": 9,
   "id": "0068ecdb",
   "metadata": {},
   "outputs": [],
   "source": [
    "# simply put every row of our read dataframe into a list of \n",
    "# the object \"Essay\"\n",
    "# remove data from list substract\n",
    "def create_essays(df, subtract=None):\n",
    "    essays = []\n",
    "    for index, row in df.iterrows():\n",
    "        essays.append(essay.Essay(row.TEXT, row.cEXT, row.cNEU, row.cAGR, row.cCON, row.cOPN))  \n",
    "\n",
    "    # remove scentences which do not contain emotionally charged words \n",
    "    # from the emotional lexicon\n",
    "    if subtract != None:\n",
    "        for x in essays:\n",
    "            x.filtered_text = remove_unemotional_scentences(emotional_words, x.clean_text)\n",
    "\n",
    "    return essays\n",
    "\n",
    "def remove_unemotional_scentences(emotional_words, text_as_one_string):\n",
    "    reduced_s = \"\"\n",
    "    scentences = re.split('(?<=[.!?]) +', text_as_one_string)\n",
    "    for s in scentences:\n",
    "        if any(e in s for e in emotional_words):\n",
    "            reduced_s = reduced_s + s + \" \"\n",
    "        else:\n",
    "            pass\n",
    "    return reduced_s"
   ]
  },
  {
   "cell_type": "code",
   "execution_count": 10,
   "id": "5f02622c",
   "metadata": {},
   "outputs": [],
   "source": [
    "# save preprocessed data by converting into OBJECT essay and save with pickle and removing non emotional scentences\n",
    "#essays = create_essays(df_essays, emotional_words)\n",
    "#pickle.dump(essays, open( \"essays/essays2467.p\", \"wb\"))\n",
    "#print(\"saved entries: \", len(essays))"
   ]
  },
  {
   "cell_type": "code",
   "execution_count": 11,
   "id": "206b35c3",
   "metadata": {},
   "outputs": [],
   "source": [
    "## Bag of words\n",
    "\n",
    "import essay\n",
    "import pickle"
   ]
  },
  {
   "cell_type": "code",
   "execution_count": 12,
   "id": "68a15869",
   "metadata": {},
   "outputs": [
    {
     "name": "stdout",
     "output_type": "stream",
     "text": [
      "loaded count of essays: 2467\n"
     ]
    }
   ],
   "source": [
    "essays = df_essays\n",
    "print(\"loaded count of essays:\", len(essays))"
   ]
  },
  {
   "cell_type": "code",
   "execution_count": 13,
   "id": "91016361",
   "metadata": {},
   "outputs": [
    {
     "name": "stderr",
     "output_type": "stream",
     "text": [
      "[nltk_data] Downloading package stopwords to\n",
      "[nltk_data]     C:\\Users\\Piyush\\AppData\\Roaming\\nltk_data...\n",
      "[nltk_data]   Package stopwords is already up-to-date!\n",
      "[nltk_data] Downloading package punkt to\n",
      "[nltk_data]     C:\\Users\\Piyush\\AppData\\Roaming\\nltk_data...\n",
      "[nltk_data]   Package punkt is already up-to-date!\n"
     ]
    }
   ],
   "source": [
    "import re\n",
    "import nltk\n",
    "nltk.download('stopwords')\n",
    "nltk.download('punkt')\n",
    "from nltk.corpus import stopwords\n",
    "from nltk.stem import PorterStemmer, WordNetLemmatizer\n",
    "from nltk.tokenize import word_tokenize, sent_tokenize\n",
    "#from wordcloud import WordCloud\n",
    "\n",
    "import gensim\n",
    "from gensim.utils import simple_preprocess\n",
    "from gensim.parsing.preprocessing import STOPWORDS\n",
    "\n",
    "stop_words = stopwords.words(\"english\")\n",
    "\n",
    "def preprocess(text):\n",
    "    corpus = []\n",
    "    \n",
    "    for token in gensim.utils.simple_preprocess(text):\n",
    "        if token not in gensim.parsing.preprocessing.STOPWORDS and len(token)>2 and token not in stop_words:\n",
    "            corpus.append(token)\n",
    "    return corpus"
   ]
  },
  {
   "cell_type": "code",
   "execution_count": 14,
   "id": "fc468509",
   "metadata": {},
   "outputs": [
    {
     "data": {
      "text/html": [
       "<div>\n",
       "<style scoped>\n",
       "    .dataframe tbody tr th:only-of-type {\n",
       "        vertical-align: middle;\n",
       "    }\n",
       "\n",
       "    .dataframe tbody tr th {\n",
       "        vertical-align: top;\n",
       "    }\n",
       "\n",
       "    .dataframe thead th {\n",
       "        text-align: right;\n",
       "    }\n",
       "</style>\n",
       "<table border=\"1\" class=\"dataframe\">\n",
       "  <thead>\n",
       "    <tr style=\"text-align: right;\">\n",
       "      <th></th>\n",
       "      <th>TEXT</th>\n",
       "      <th>cEXT</th>\n",
       "      <th>cNEU</th>\n",
       "      <th>cAGR</th>\n",
       "      <th>cCON</th>\n",
       "      <th>cOPN</th>\n",
       "      <th>clean</th>\n",
       "      <th>clean_text</th>\n",
       "    </tr>\n",
       "  </thead>\n",
       "  <tbody>\n",
       "    <tr>\n",
       "      <th>0</th>\n",
       "      <td>Well, right now I just woke up from a mid-day ...</td>\n",
       "      <td>0</td>\n",
       "      <td>1</td>\n",
       "      <td>1</td>\n",
       "      <td>0</td>\n",
       "      <td>1</td>\n",
       "      <td>[right, woke, mid, day, nap, sort, weird, move...</td>\n",
       "      <td>right woke mid day nap sort weird moved texas ...</td>\n",
       "    </tr>\n",
       "    <tr>\n",
       "      <th>1</th>\n",
       "      <td>Well, here we go with the stream of consciousn...</td>\n",
       "      <td>0</td>\n",
       "      <td>0</td>\n",
       "      <td>1</td>\n",
       "      <td>0</td>\n",
       "      <td>0</td>\n",
       "      <td>[stream, consciousness, essay, things, like, h...</td>\n",
       "      <td>stream consciousness essay things like high sc...</td>\n",
       "    </tr>\n",
       "    <tr>\n",
       "      <th>2</th>\n",
       "      <td>An open keyboard and buttons to push. The thin...</td>\n",
       "      <td>0</td>\n",
       "      <td>1</td>\n",
       "      <td>0</td>\n",
       "      <td>1</td>\n",
       "      <td>1</td>\n",
       "      <td>[open, keyboard, buttons, push, thing, finally...</td>\n",
       "      <td>open keyboard buttons push thing finally worke...</td>\n",
       "    </tr>\n",
       "    <tr>\n",
       "      <th>3</th>\n",
       "      <td>I can't believe it!  It's really happening!  M...</td>\n",
       "      <td>1</td>\n",
       "      <td>0</td>\n",
       "      <td>1</td>\n",
       "      <td>1</td>\n",
       "      <td>0</td>\n",
       "      <td>[believe, happening, pulse, racing, like, mad,...</td>\n",
       "      <td>believe happening pulse racing like mad like f...</td>\n",
       "    </tr>\n",
       "    <tr>\n",
       "      <th>4</th>\n",
       "      <td>Well, here I go with the good old stream of co...</td>\n",
       "      <td>1</td>\n",
       "      <td>0</td>\n",
       "      <td>1</td>\n",
       "      <td>0</td>\n",
       "      <td>1</td>\n",
       "      <td>[good, old, stream, consciousness, assignment,...</td>\n",
       "      <td>good old stream consciousness assignment feel ...</td>\n",
       "    </tr>\n",
       "  </tbody>\n",
       "</table>\n",
       "</div>"
      ],
      "text/plain": [
       "                                                TEXT  cEXT  cNEU  cAGR  cCON  \\\n",
       "0  Well, right now I just woke up from a mid-day ...     0     1     1     0   \n",
       "1  Well, here we go with the stream of consciousn...     0     0     1     0   \n",
       "2  An open keyboard and buttons to push. The thin...     0     1     0     1   \n",
       "3  I can't believe it!  It's really happening!  M...     1     0     1     1   \n",
       "4  Well, here I go with the good old stream of co...     1     0     1     0   \n",
       "\n",
       "   cOPN                                              clean  \\\n",
       "0     1  [right, woke, mid, day, nap, sort, weird, move...   \n",
       "1     0  [stream, consciousness, essay, things, like, h...   \n",
       "2     1  [open, keyboard, buttons, push, thing, finally...   \n",
       "3     0  [believe, happening, pulse, racing, like, mad,...   \n",
       "4     1  [good, old, stream, consciousness, assignment,...   \n",
       "\n",
       "                                          clean_text  \n",
       "0  right woke mid day nap sort weird moved texas ...  \n",
       "1  stream consciousness essay things like high sc...  \n",
       "2  open keyboard buttons push thing finally worke...  \n",
       "3  believe happening pulse racing like mad like f...  \n",
       "4  good old stream consciousness assignment feel ...  "
      ]
     },
     "execution_count": 14,
     "metadata": {},
     "output_type": "execute_result"
    }
   ],
   "source": [
    "essays['clean'] = essays['TEXT'].apply(preprocess)\n",
    "essays['clean_text'] = essays['clean'].apply(lambda x:\" \".join(x))\n",
    "essays.head()"
   ]
  },
  {
   "cell_type": "code",
   "execution_count": 15,
   "id": "84ed5d27",
   "metadata": {},
   "outputs": [],
   "source": [
    "from sklearn.model_selection import train_test_split\n",
    "training, test = train_test_split(essays, test_size=0.20, random_state=42)"
   ]
  },
  {
   "cell_type": "code",
   "execution_count": 16,
   "id": "d0952478",
   "metadata": {},
   "outputs": [
    {
     "data": {
      "text/plain": [
       "1124    1\n",
       "856     1\n",
       "1807    0\n",
       "219     1\n",
       "445     0\n",
       "       ..\n",
       "1638    1\n",
       "1095    1\n",
       "1130    0\n",
       "1294    0\n",
       "860     1\n",
       "Name: cEXT, Length: 1973, dtype: int64"
      ]
     },
     "execution_count": 16,
     "metadata": {},
     "output_type": "execute_result"
    }
   ],
   "source": [
    "training['cEXT']"
   ]
  },
  {
   "cell_type": "code",
   "execution_count": 17,
   "id": "d88db3a7",
   "metadata": {},
   "outputs": [],
   "source": [
    "train_x = training.clean_text\n",
    "\n",
    "train_y_cEXT = training['cEXT']\n",
    "train_y_cNEU = training['cNEU']\n",
    "train_y_cAGR = training['cAGR']\n",
    "train_y_cCON = training['cCON']\n",
    "train_y_cOPN = training['cOPN']\n",
    "\n",
    "\n",
    "test_x = test.clean_text\n",
    "\n",
    "test_y_cEXT = test['cEXT']\n",
    "test_y_cNEU = test['cNEU']\n",
    "test_y_cAGR = test['cAGR']\n",
    "test_y_cCON = test['cCON']\n",
    "test_y_cOPN = test['cOPN']"
   ]
  },
  {
   "cell_type": "code",
   "execution_count": 18,
   "id": "0a8501a8",
   "metadata": {},
   "outputs": [],
   "source": [
    "## BAG OF WORDS"
   ]
  },
  {
   "cell_type": "code",
   "execution_count": 19,
   "id": "7373103d",
   "metadata": {},
   "outputs": [],
   "source": [
    "from sklearn.feature_extraction.text import CountVectorizer\n",
    "bow_vectorizer = CountVectorizer()\n",
    "\n",
    "# create vectors from our words\n",
    "train_x_vectors = bow_vectorizer.fit_transform(train_x)\n",
    "test_x_vectors = bow_vectorizer.transform(test_x)\n",
    "# # now that's a big thing :-O"
   ]
  },
  {
   "cell_type": "code",
   "execution_count": 20,
   "id": "1cd24b01",
   "metadata": {},
   "outputs": [],
   "source": [
    "## TFIDF VECTORIZER\n",
    "\n",
    "from sklearn.feature_extraction.text import TfidfVectorizer\n",
    "\n",
    "cv = TfidfVectorizer()\n",
    "train_x_vectors_tf = cv.fit_transform(train_x)\n",
    "test_x_vectors_tf = cv.transform(test_x)"
   ]
  },
  {
   "cell_type": "code",
   "execution_count": 21,
   "id": "650d11ab",
   "metadata": {},
   "outputs": [],
   "source": [
    "pickle.dump(bow_vectorizer, open('bow_vectorizer_project.p', 'wb'))"
   ]
  },
  {
   "cell_type": "code",
   "execution_count": 22,
   "id": "39ae7941",
   "metadata": {},
   "outputs": [],
   "source": [
    "# for evaluation save some data for later:\n",
    "evaluation = []\n",
    "evaluation_tf = []\n",
    "data = len(essays)\n",
    "vec_name = \"BoW\""
   ]
  },
  {
   "cell_type": "code",
   "execution_count": 23,
   "id": "f54040d8",
   "metadata": {},
   "outputs": [],
   "source": [
    "## SVM"
   ]
  },
  {
   "cell_type": "code",
   "execution_count": 24,
   "id": "4cee0b32",
   "metadata": {},
   "outputs": [],
   "source": [
    "from sklearn import svm\n",
    "name = \"svm\"\n"
   ]
  },
  {
   "cell_type": "code",
   "execution_count": 25,
   "id": "f4f2dff5",
   "metadata": {},
   "outputs": [
    {
     "name": "stdout",
     "output_type": "stream",
     "text": [
      "training Extraversion cEXT using SVM...\n",
      "cEXT score:  0.5546558704453441\n",
      "training Neuroticism cNEU using SVM...\n",
      "cNEU score:  0.5161943319838057\n",
      "training Agreeableness cAGR using using SVM...\n",
      "cAGR score:  0.52834008097166\n",
      "training Conscientiousness cCON using SVM...\n",
      "cCON score:  0.5080971659919028\n",
      "training Openness to Experience cOPN using SVM...\n",
      "cOPN score:  0.5708502024291497\n"
     ]
    }
   ],
   "source": [
    "print(\"training Extraversion cEXT using SVM...\")\n",
    "clf_svm_cEXT = svm.SVC(kernel='linear')\n",
    "clf_svm_cEXT.fit(train_x_vectors, train_y_cEXT)\n",
    "evaluation.append([data, vec_name, name, \"cEXT\", clf_svm_cEXT.score(test_x_vectors, test_y_cEXT)])\n",
    "print(\"cEXT score: \", clf_svm_cEXT.score(test_x_vectors, test_y_cEXT))\n",
    "\n",
    "print(\"training Neuroticism cNEU using SVM...\")\n",
    "clf_svm_cNEU = svm.SVC(kernel='linear')\n",
    "clf_svm_cNEU.fit(train_x_vectors, train_y_cNEU)\n",
    "evaluation.append([data, vec_name, name, \"cNEU\", clf_svm_cNEU.score(test_x_vectors, test_y_cNEU)])\n",
    "print(\"cNEU score: \", clf_svm_cNEU.score(test_x_vectors, test_y_cNEU))\n",
    "\n",
    "print(\"training Agreeableness cAGR using using SVM...\")\n",
    "clf_svm_cAGR = svm.SVC(kernel='linear')\n",
    "clf_svm_cAGR.fit(train_x_vectors, train_y_cAGR)\n",
    "evaluation.append([data, vec_name, name, \"cAGR\", clf_svm_cAGR.score(test_x_vectors, test_y_cAGR)])\n",
    "print(\"cAGR score: \", clf_svm_cAGR.score(test_x_vectors, test_y_cAGR))\n",
    "\n",
    "print(\"training Conscientiousness cCON using SVM...\")\n",
    "clf_svm_cCON = svm.SVC(kernel='linear')\n",
    "clf_svm_cCON.fit(train_x_vectors, train_y_cCON)\n",
    "evaluation.append([data, vec_name, name, \"cCON\", clf_svm_cCON.score(test_x_vectors, test_y_cCON)])\n",
    "print(\"cCON score: \", clf_svm_cCON.score(test_x_vectors, test_y_cCON))\n",
    "\n",
    "print(\"training Openness to Experience cOPN using SVM...\")\n",
    "clf_svm_cOPN = svm.SVC(kernel='linear')\n",
    "clf_svm_cOPN.fit(train_x_vectors, train_y_cOPN)\n",
    "evaluation.append([data, vec_name, name, \"cOPN\", clf_svm_cOPN.score(test_x_vectors, test_y_cOPN)])\n",
    "print(\"cOPN score: \", clf_svm_cOPN.score(test_x_vectors, test_y_cOPN))"
   ]
  },
  {
   "cell_type": "code",
   "execution_count": 78,
   "id": "f7e80344",
   "metadata": {},
   "outputs": [
    {
     "data": {
      "text/plain": [
       "[[2467, 'BoW', 'svm', 'cEXT', 0.5546558704453441],\n",
       " [2467, 'BoW', 'svm', 'cNEU', 0.5161943319838057],\n",
       " [2467, 'BoW', 'svm', 'cAGR', 0.52834008097166],\n",
       " [2467, 'BoW', 'svm', 'cCON', 0.5080971659919028],\n",
       " [2467, 'BoW', 'svm', 'cOPN', 0.5708502024291497]]"
      ]
     },
     "execution_count": 78,
     "metadata": {},
     "output_type": "execute_result"
    }
   ],
   "source": [
    "evaluation"
   ]
  },
  {
   "cell_type": "code",
   "execution_count": 26,
   "id": "aa6aeee0",
   "metadata": {},
   "outputs": [
    {
     "name": "stdout",
     "output_type": "stream",
     "text": [
      "training Extraversion cEXT using SVM...\n",
      "cEXT score:  0.5384615384615384\n",
      "training Neuroticism cNEU using SVM...\n",
      "cNEU score:  0.5809716599190283\n",
      "training Agreeableness cAGR using using SVM...\n",
      "cAGR score:  0.5607287449392713\n",
      "training Conscientiousness cCON using SVM...\n",
      "cCON score:  0.5465587044534413\n",
      "training Openness to Experience cOPN using SVM...\n",
      "cOPN score:  0.6072874493927125\n"
     ]
    }
   ],
   "source": [
    "### SVM - TFIDF\n",
    "\n",
    "print(\"training Extraversion cEXT using SVM...\")\n",
    "clf_svm_cEXT = svm.SVC(kernel='linear')\n",
    "clf_svm_cEXT.fit(train_x_vectors_tf, train_y_cEXT)\n",
    "evaluation_tf.append([data, vec_name, name, \"cEXT\", clf_svm_cEXT.score(test_x_vectors_tf, test_y_cEXT)])\n",
    "print(\"cEXT score: \", clf_svm_cEXT.score(test_x_vectors_tf, test_y_cEXT))\n",
    "\n",
    "print(\"training Neuroticism cNEU using SVM...\")\n",
    "clf_svm_cNEU = svm.SVC(kernel='linear')\n",
    "clf_svm_cNEU.fit(train_x_vectors_tf, train_y_cNEU)\n",
    "evaluation_tf.append([data, vec_name, name, \"cNEU\", clf_svm_cNEU.score(test_x_vectors_tf, test_y_cNEU)])\n",
    "print(\"cNEU score: \", clf_svm_cNEU.score(test_x_vectors_tf, test_y_cNEU))\n",
    "\n",
    "print(\"training Agreeableness cAGR using using SVM...\")\n",
    "clf_svm_cAGR = svm.SVC(kernel='linear')\n",
    "clf_svm_cAGR.fit(train_x_vectors_tf, train_y_cAGR)\n",
    "evaluation_tf.append([data, vec_name, name, \"cAGR\", clf_svm_cAGR.score(test_x_vectors_tf, test_y_cAGR)])\n",
    "print(\"cAGR score: \", clf_svm_cAGR.score(test_x_vectors_tf, test_y_cAGR))\n",
    "\n",
    "print(\"training Conscientiousness cCON using SVM...\")\n",
    "clf_svm_cCON = svm.SVC(kernel='linear')\n",
    "clf_svm_cCON.fit(train_x_vectors_tf, train_y_cCON)\n",
    "evaluation_tf.append([data, vec_name, name, \"cCON\", clf_svm_cCON.score(test_x_vectors_tf, test_y_cCON)])\n",
    "print(\"cCON score: \", clf_svm_cCON.score(test_x_vectors_tf, test_y_cCON))\n",
    "\n",
    "print(\"training Openness to Experience cOPN using SVM...\")\n",
    "clf_svm_cOPN = svm.SVC(kernel='linear')\n",
    "clf_svm_cOPN.fit(train_x_vectors_tf, train_y_cOPN)\n",
    "evaluation_tf.append([data, vec_name, name, \"cOPN\", clf_svm_cOPN.score(test_x_vectors_tf, test_y_cOPN)])\n",
    "print(\"cOPN score: \", clf_svm_cOPN.score(test_x_vectors_tf, test_y_cOPN))"
   ]
  },
  {
   "cell_type": "code",
   "execution_count": 80,
   "id": "1cb3dc8a",
   "metadata": {},
   "outputs": [
    {
     "data": {
      "text/plain": [
       "[[2467, 'BoW', 'svm', 'cEXT', 0.5384615384615384],\n",
       " [2467, 'BoW', 'svm', 'cNEU', 0.5809716599190283],\n",
       " [2467, 'BoW', 'svm', 'cAGR', 0.5607287449392713],\n",
       " [2467, 'BoW', 'svm', 'cCON', 0.5465587044534413],\n",
       " [2467, 'BoW', 'svm', 'cOPN', 0.6072874493927125]]"
      ]
     },
     "execution_count": 80,
     "metadata": {},
     "output_type": "execute_result"
    }
   ],
   "source": [
    "evaluation_tf"
   ]
  },
  {
   "cell_type": "markdown",
   "id": "3b094291",
   "metadata": {},
   "source": [
    "## HYPERPARAMETER TUNING FOR cNEU"
   ]
  },
  {
   "cell_type": "code",
   "execution_count": 24,
   "id": "0c13b539",
   "metadata": {},
   "outputs": [],
   "source": [
    "from sklearn.svm import SVC\n",
    "from sklearn.model_selection import GridSearchCV\n",
    "param_grid = {'C':[10,100,1000], 'gamma':[0.1,0.001,0.0001]}"
   ]
  },
  {
   "cell_type": "code",
   "execution_count": 25,
   "id": "95175eda",
   "metadata": {},
   "outputs": [],
   "source": [
    "grid = GridSearchCV(SVC(), param_grid, verbose=2)"
   ]
  },
  {
   "cell_type": "code",
   "execution_count": 26,
   "id": "be81fcfa",
   "metadata": {},
   "outputs": [
    {
     "name": "stdout",
     "output_type": "stream",
     "text": [
      "Fitting 5 folds for each of 9 candidates, totalling 45 fits\n",
      "[CV] END ....................................C=10, gamma=0.1; total time=   6.1s\n",
      "[CV] END ....................................C=10, gamma=0.1; total time=   6.0s\n",
      "[CV] END ....................................C=10, gamma=0.1; total time=   6.2s\n",
      "[CV] END ....................................C=10, gamma=0.1; total time=   6.0s\n",
      "[CV] END ....................................C=10, gamma=0.1; total time=   6.2s\n",
      "[CV] END ..................................C=10, gamma=0.001; total time=   6.1s\n",
      "[CV] END ..................................C=10, gamma=0.001; total time=   6.1s\n",
      "[CV] END ..................................C=10, gamma=0.001; total time=   6.0s\n",
      "[CV] END ..................................C=10, gamma=0.001; total time=   6.2s\n",
      "[CV] END ..................................C=10, gamma=0.001; total time=   6.1s\n",
      "[CV] END .................................C=10, gamma=0.0001; total time=   5.7s\n",
      "[CV] END .................................C=10, gamma=0.0001; total time=   5.7s\n",
      "[CV] END .................................C=10, gamma=0.0001; total time=   5.7s\n",
      "[CV] END .................................C=10, gamma=0.0001; total time=   5.8s\n",
      "[CV] END .................................C=10, gamma=0.0001; total time=   5.8s\n",
      "[CV] END ...................................C=100, gamma=0.1; total time=   6.2s\n",
      "[CV] END ...................................C=100, gamma=0.1; total time=   6.1s\n",
      "[CV] END ...................................C=100, gamma=0.1; total time=   6.1s\n",
      "[CV] END ...................................C=100, gamma=0.1; total time=   6.2s\n",
      "[CV] END ...................................C=100, gamma=0.1; total time=   6.0s\n",
      "[CV] END .................................C=100, gamma=0.001; total time=   6.1s\n",
      "[CV] END .................................C=100, gamma=0.001; total time=   6.1s\n",
      "[CV] END .................................C=100, gamma=0.001; total time=   5.8s\n",
      "[CV] END .................................C=100, gamma=0.001; total time=   5.9s\n",
      "[CV] END .................................C=100, gamma=0.001; total time=   4.9s\n",
      "[CV] END ................................C=100, gamma=0.0001; total time=   3.9s\n",
      "[CV] END ................................C=100, gamma=0.0001; total time=   5.6s\n",
      "[CV] END ................................C=100, gamma=0.0001; total time=   5.7s\n",
      "[CV] END ................................C=100, gamma=0.0001; total time=   5.7s\n",
      "[CV] END ................................C=100, gamma=0.0001; total time=   5.7s\n",
      "[CV] END ..................................C=1000, gamma=0.1; total time=   5.8s\n",
      "[CV] END ..................................C=1000, gamma=0.1; total time=   4.0s\n",
      "[CV] END ..................................C=1000, gamma=0.1; total time=   4.4s\n",
      "[CV] END ..................................C=1000, gamma=0.1; total time=   5.6s\n",
      "[CV] END ..................................C=1000, gamma=0.1; total time=   5.9s\n",
      "[CV] END ................................C=1000, gamma=0.001; total time=   5.6s\n",
      "[CV] END ................................C=1000, gamma=0.001; total time=   5.0s\n",
      "[CV] END ................................C=1000, gamma=0.001; total time=   5.6s\n",
      "[CV] END ................................C=1000, gamma=0.001; total time=   5.9s\n",
      "[CV] END ................................C=1000, gamma=0.001; total time=   6.2s\n",
      "[CV] END ...............................C=1000, gamma=0.0001; total time=   5.7s\n",
      "[CV] END ...............................C=1000, gamma=0.0001; total time=   5.8s\n",
      "[CV] END ...............................C=1000, gamma=0.0001; total time=   5.5s\n",
      "[CV] END ...............................C=1000, gamma=0.0001; total time=   5.7s\n",
      "[CV] END ...............................C=1000, gamma=0.0001; total time=   5.8s\n"
     ]
    },
    {
     "data": {
      "text/plain": [
       "GridSearchCV(estimator=SVC(),\n",
       "             param_grid={'C': [10, 100, 1000], 'gamma': [0.1, 0.001, 0.0001]},\n",
       "             verbose=2)"
      ]
     },
     "execution_count": 26,
     "metadata": {},
     "output_type": "execute_result"
    }
   ],
   "source": [
    "grid.fit(train_x_vectors, train_y_cEXT)"
   ]
  },
  {
   "cell_type": "code",
   "execution_count": 27,
   "id": "05c3099c",
   "metadata": {},
   "outputs": [
    {
     "data": {
      "text/plain": [
       "{'C': 10, 'gamma': 0.0001}"
      ]
     },
     "execution_count": 27,
     "metadata": {},
     "output_type": "execute_result"
    }
   ],
   "source": [
    "grid.best_params_"
   ]
  },
  {
   "cell_type": "code",
   "execution_count": 31,
   "id": "35c01424",
   "metadata": {},
   "outputs": [
    {
     "name": "stdout",
     "output_type": "stream",
     "text": [
      "training Extraversion cEXT using SVM...\n",
      "cEXT score:  0.5526315789473685\n",
      "training Neuroticism cNEU using SVM...\n",
      "cNEU score:  0.5890688259109311\n",
      "training Agreeableness cAGR using using SVM...\n",
      "cAGR score:  0.5404858299595142\n",
      "training Conscientiousness cCON using SVM...\n",
      "cCON score:  0.5344129554655871\n",
      "training Openness to Experience cOPN using SVM...\n",
      "cOPN score:  0.5890688259109311\n"
     ]
    }
   ],
   "source": [
    "## SVM HYPERPARAMTER - BOW\n",
    "\n",
    "print(\"training Extraversion cEXT using SVM...\")\n",
    "clf_svm_cEXT = svm.SVC(C=10, gamma=0.0001)\n",
    "clf_svm_cEXT.fit(train_x_vectors, train_y_cEXT)\n",
    "evaluation.append([data, vec_name, name, \"cEXT\", clf_svm_cEXT.score(test_x_vectors, test_y_cEXT)])\n",
    "print(\"cEXT score: \", clf_svm_cEXT.score(test_x_vectors, test_y_cEXT))\n",
    "\n",
    "print(\"training Neuroticism cNEU using SVM...\")\n",
    "clf_svm_cNEU = svm.SVC(C=10, gamma=0.0001)\n",
    "clf_svm_cNEU.fit(train_x_vectors, train_y_cNEU)\n",
    "evaluation.append([data, vec_name, name, \"cNEU\", clf_svm_cNEU.score(test_x_vectors, test_y_cNEU)])\n",
    "print(\"cNEU score: \", clf_svm_cNEU.score(test_x_vectors, test_y_cNEU))\n",
    "\n",
    "print(\"training Agreeableness cAGR using using SVM...\")\n",
    "clf_svm_cAGR = svm.SVC(C=10, gamma=0.0001)\n",
    "clf_svm_cAGR.fit(train_x_vectors, train_y_cAGR)\n",
    "evaluation.append([data, vec_name, name, \"cAGR\", clf_svm_cAGR.score(test_x_vectors, test_y_cAGR)])\n",
    "print(\"cAGR score: \", clf_svm_cAGR.score(test_x_vectors, test_y_cAGR))\n",
    "\n",
    "print(\"training Conscientiousness cCON using SVM...\")\n",
    "clf_svm_cCON = svm.SVC(C=10, gamma=0.0001)\n",
    "clf_svm_cCON.fit(train_x_vectors, train_y_cCON)\n",
    "evaluation.append([data, vec_name, name, \"cCON\", clf_svm_cCON.score(test_x_vectors, test_y_cCON)])\n",
    "print(\"cCON score: \", clf_svm_cCON.score(test_x_vectors, test_y_cCON))\n",
    "\n",
    "print(\"training Openness to Experience cOPN using SVM...\")\n",
    "clf_svm_cOPN = svm.SVC(C=10, gamma=0.0001)\n",
    "clf_svm_cOPN.fit(train_x_vectors, train_y_cOPN)\n",
    "evaluation.append([data, vec_name, name, \"cOPN\", clf_svm_cOPN.score(test_x_vectors, test_y_cOPN)])\n",
    "print(\"cOPN score: \", clf_svm_cOPN.score(test_x_vectors, test_y_cOPN))"
   ]
  },
  {
   "cell_type": "code",
   "execution_count": 32,
   "id": "b8edac58",
   "metadata": {},
   "outputs": [],
   "source": [
    "pickle.dump(clf_svm_cNEU, open('cNEU_project.p', 'wb'))"
   ]
  },
  {
   "cell_type": "code",
   "execution_count": 31,
   "id": "2a0e846c",
   "metadata": {},
   "outputs": [],
   "source": [
    "from sklearn.svm import SVC\n",
    "from sklearn.model_selection import GridSearchCV\n",
    "param_grid = {'C':[10,100,1000], 'gamma':[0.1,0.001,0.0001]}"
   ]
  },
  {
   "cell_type": "code",
   "execution_count": 32,
   "id": "41317041",
   "metadata": {},
   "outputs": [],
   "source": [
    "grid_tf = GridSearchCV(SVC(), param_grid, verbose=2)"
   ]
  },
  {
   "cell_type": "code",
   "execution_count": 33,
   "id": "2733129b",
   "metadata": {},
   "outputs": [
    {
     "name": "stdout",
     "output_type": "stream",
     "text": [
      "Fitting 5 folds for each of 9 candidates, totalling 45 fits\n",
      "[CV] END ....................................C=10, gamma=0.1; total time=   3.9s\n",
      "[CV] END ....................................C=10, gamma=0.1; total time=   3.8s\n",
      "[CV] END ....................................C=10, gamma=0.1; total time=   4.0s\n",
      "[CV] END ....................................C=10, gamma=0.1; total time=   4.1s\n",
      "[CV] END ....................................C=10, gamma=0.1; total time=   3.8s\n",
      "[CV] END ..................................C=10, gamma=0.001; total time=   3.9s\n",
      "[CV] END ..................................C=10, gamma=0.001; total time=   3.8s\n",
      "[CV] END ..................................C=10, gamma=0.001; total time=   3.9s\n",
      "[CV] END ..................................C=10, gamma=0.001; total time=   4.1s\n",
      "[CV] END ..................................C=10, gamma=0.001; total time=   4.0s\n",
      "[CV] END .................................C=10, gamma=0.0001; total time=   4.0s\n",
      "[CV] END .................................C=10, gamma=0.0001; total time=   4.0s\n",
      "[CV] END .................................C=10, gamma=0.0001; total time=   4.1s\n",
      "[CV] END .................................C=10, gamma=0.0001; total time=   4.0s\n",
      "[CV] END .................................C=10, gamma=0.0001; total time=   4.0s\n",
      "[CV] END ...................................C=100, gamma=0.1; total time=   4.0s\n",
      "[CV] END ...................................C=100, gamma=0.1; total time=   4.1s\n",
      "[CV] END ...................................C=100, gamma=0.1; total time=   4.1s\n",
      "[CV] END ...................................C=100, gamma=0.1; total time=   4.2s\n",
      "[CV] END ...................................C=100, gamma=0.1; total time=   4.1s\n",
      "[CV] END .................................C=100, gamma=0.001; total time=   3.9s\n",
      "[CV] END .................................C=100, gamma=0.001; total time=   3.9s\n",
      "[CV] END .................................C=100, gamma=0.001; total time=   3.9s\n",
      "[CV] END .................................C=100, gamma=0.001; total time=   4.1s\n",
      "[CV] END .................................C=100, gamma=0.001; total time=   3.8s\n",
      "[CV] END ................................C=100, gamma=0.0001; total time=   3.8s\n",
      "[CV] END ................................C=100, gamma=0.0001; total time=   3.8s\n",
      "[CV] END ................................C=100, gamma=0.0001; total time=   3.9s\n",
      "[CV] END ................................C=100, gamma=0.0001; total time=   4.2s\n",
      "[CV] END ................................C=100, gamma=0.0001; total time=   4.1s\n",
      "[CV] END ..................................C=1000, gamma=0.1; total time=   4.1s\n",
      "[CV] END ..................................C=1000, gamma=0.1; total time=   4.0s\n",
      "[CV] END ..................................C=1000, gamma=0.1; total time=   4.2s\n",
      "[CV] END ..................................C=1000, gamma=0.1; total time=   3.9s\n",
      "[CV] END ..................................C=1000, gamma=0.1; total time=   3.8s\n",
      "[CV] END ................................C=1000, gamma=0.001; total time=   3.8s\n",
      "[CV] END ................................C=1000, gamma=0.001; total time=   3.8s\n",
      "[CV] END ................................C=1000, gamma=0.001; total time=   3.8s\n",
      "[CV] END ................................C=1000, gamma=0.001; total time=   3.9s\n",
      "[CV] END ................................C=1000, gamma=0.001; total time=   4.1s\n",
      "[CV] END ...............................C=1000, gamma=0.0001; total time=   4.0s\n",
      "[CV] END ...............................C=1000, gamma=0.0001; total time=   4.0s\n",
      "[CV] END ...............................C=1000, gamma=0.0001; total time=   3.8s\n",
      "[CV] END ...............................C=1000, gamma=0.0001; total time=   3.8s\n",
      "[CV] END ...............................C=1000, gamma=0.0001; total time=   3.8s\n"
     ]
    },
    {
     "data": {
      "text/plain": [
       "GridSearchCV(estimator=SVC(),\n",
       "             param_grid={'C': [10, 100, 1000], 'gamma': [0.1, 0.001, 0.0001]},\n",
       "             verbose=2)"
      ]
     },
     "execution_count": 33,
     "metadata": {},
     "output_type": "execute_result"
    }
   ],
   "source": [
    "grid_tf.fit(train_x_vectors_tf, train_y_cNEU)"
   ]
  },
  {
   "cell_type": "code",
   "execution_count": 34,
   "id": "0732d391",
   "metadata": {},
   "outputs": [
    {
     "data": {
      "text/plain": [
       "{'C': 10, 'gamma': 0.1}"
      ]
     },
     "execution_count": 34,
     "metadata": {},
     "output_type": "execute_result"
    }
   ],
   "source": [
    "grid_tf.best_params_"
   ]
  },
  {
   "cell_type": "code",
   "execution_count": 37,
   "id": "9a92c961",
   "metadata": {},
   "outputs": [
    {
     "name": "stdout",
     "output_type": "stream",
     "text": [
      "training Extraversion cEXT using SVM...\n",
      "cEXT score:  0.5566801619433198\n",
      "training Neuroticism cNEU using SVM...\n",
      "cNEU score:  0.5506072874493927\n",
      "training Agreeableness cAGR using using SVM...\n",
      "cAGR score:  0.5607287449392713\n",
      "training Conscientiousness cCON using SVM...\n",
      "cCON score:  0.5344129554655871\n",
      "training Openness to Experience cOPN using SVM...\n",
      "cOPN score:  0.6093117408906883\n"
     ]
    }
   ],
   "source": [
    "### SVM HYPERPARAMETER TUNING - TFIDF\n",
    "\n",
    "print(\"training Extraversion cEXT using SVM...\")\n",
    "clf_svm_cEXT = svm.SVC(C=10, gamma=0.1)\n",
    "clf_svm_cEXT.fit(train_x_vectors_tf, train_y_cEXT)\n",
    "evaluation_tf.append([data, vec_name, name, \"cEXT\", clf_svm_cEXT.score(test_x_vectors_tf, test_y_cEXT)])\n",
    "print(\"cEXT score: \", clf_svm_cEXT.score(test_x_vectors_tf, test_y_cEXT))\n",
    "\n",
    "print(\"training Neuroticism cNEU using SVM...\")\n",
    "clf_svm_cNEU = svm.SVC(C=10, gamma=0.1)\n",
    "clf_svm_cNEU.fit(train_x_vectors_tf, train_y_cNEU)\n",
    "evaluation_tf.append([data, vec_name, name, \"cNEU\", clf_svm_cNEU.score(test_x_vectors_tf, test_y_cNEU)])\n",
    "print(\"cNEU score: \", clf_svm_cNEU.score(test_x_vectors_tf, test_y_cNEU))\n",
    "\n",
    "print(\"training Agreeableness cAGR using using SVM...\")\n",
    "clf_svm_cAGR = svm.SVC(C=10, gamma=0.1)\n",
    "clf_svm_cAGR.fit(train_x_vectors_tf, train_y_cAGR)\n",
    "evaluation_tf.append([data, vec_name, name, \"cAGR\", clf_svm_cAGR.score(test_x_vectors_tf, test_y_cAGR)])\n",
    "print(\"cAGR score: \", clf_svm_cAGR.score(test_x_vectors_tf, test_y_cAGR))\n",
    "\n",
    "print(\"training Conscientiousness cCON using SVM...\")\n",
    "clf_svm_cCON = svm.SVC(C=10, gamma=0.1)\n",
    "clf_svm_cCON.fit(train_x_vectors_tf, train_y_cCON)\n",
    "evaluation_tf.append([data, vec_name, name, \"cCON\", clf_svm_cCON.score(test_x_vectors_tf, test_y_cCON)])\n",
    "print(\"cCON score: \", clf_svm_cCON.score(test_x_vectors_tf, test_y_cCON))\n",
    "\n",
    "print(\"training Openness to Experience cOPN using SVM...\")\n",
    "clf_svm_cOPN = svm.SVC(C=10, gamma=0.1)\n",
    "clf_svm_cOPN.fit(train_x_vectors_tf, train_y_cOPN)\n",
    "evaluation_tf.append([data, vec_name, name, \"cOPN\", clf_svm_cOPN.score(test_x_vectors_tf, test_y_cOPN)])\n",
    "print(\"cOPN score: \", clf_svm_cOPN.score(test_x_vectors_tf, test_y_cOPN))"
   ]
  },
  {
   "cell_type": "code",
   "execution_count": 81,
   "id": "b87e29b3",
   "metadata": {},
   "outputs": [
    {
     "name": "stdout",
     "output_type": "stream",
     "text": [
      "training Extraversion cEXT using dec...\n",
      "cEXT score:  0.5182186234817814\n",
      "training Neuroticism cNEU using dec...\n",
      "cNEU score:  0.5445344129554656\n",
      "training Agreeableness cAGR using using dec...\n",
      "cAGR score:  0.5040485829959515\n",
      "training Conscientiousness cCON using dec...\n",
      "cCON score:  0.5141700404858299\n",
      "training Openness to Experience cOPN using dec...\n",
      "cOPN score:  0.5242914979757085\n"
     ]
    }
   ],
   "source": [
    "## Decision Tree\n",
    "\n",
    "from sklearn import tree\n",
    "name = \"tree\"\n",
    "\n",
    "print(\"training Extraversion cEXT using dec...\")\n",
    "clf_dec_cEXT = tree.DecisionTreeClassifier()\n",
    "clf_dec_cEXT.fit(train_x_vectors, train_y_cEXT)\n",
    "evaluation.append([data, vec_name, name, \"cEXT\", clf_dec_cEXT.score(test_x_vectors, test_y_cEXT)])\n",
    "print(\"cEXT score: \", clf_dec_cEXT.score(test_x_vectors, test_y_cEXT))\n",
    "\n",
    "print(\"training Neuroticism cNEU using dec...\")\n",
    "clf_dec_cNEU = tree.DecisionTreeClassifier()\n",
    "clf_dec_cNEU.fit(train_x_vectors, train_y_cNEU)\n",
    "evaluation.append([data, vec_name, name, \"cNEU\", clf_dec_cNEU.score(test_x_vectors, test_y_cNEU)])\n",
    "print(\"cNEU score: \", clf_dec_cNEU.score(test_x_vectors, test_y_cNEU))\n",
    "\n",
    "print(\"training Agreeableness cAGR using using dec...\")\n",
    "clf_dec_cAGR = tree.DecisionTreeClassifier()\n",
    "clf_dec_cAGR.fit(train_x_vectors, train_y_cAGR)\n",
    "evaluation.append([data, vec_name, name, \"cAGR\", clf_dec_cAGR.score(test_x_vectors, test_y_cAGR)])\n",
    "print(\"cAGR score: \", clf_dec_cAGR.score(test_x_vectors, test_y_cAGR))\n",
    "\n",
    "print(\"training Conscientiousness cCON using dec...\")\n",
    "clf_dec_cCON = tree.DecisionTreeClassifier()\n",
    "clf_dec_cCON.fit(train_x_vectors, train_y_cCON)\n",
    "evaluation.append([data, vec_name, name, \"cCON\", clf_dec_cCON.score(test_x_vectors, test_y_cCON)])\n",
    "print(\"cCON score: \", clf_dec_cCON.score(test_x_vectors, test_y_cCON))\n",
    "\n",
    "print(\"training Openness to Experience cOPN using dec...\")\n",
    "clf_dec_cOPN = tree.DecisionTreeClassifier()\n",
    "clf_dec_cOPN.fit(train_x_vectors, train_y_cOPN)\n",
    "evaluation.append([data, vec_name, name, \"cOPN\", clf_dec_cOPN.score(test_x_vectors, test_y_cOPN)])\n",
    "print(\"cOPN score: \", clf_dec_cOPN.score(test_x_vectors, test_y_cOPN))\n"
   ]
  },
  {
   "cell_type": "code",
   "execution_count": 82,
   "id": "ace38570",
   "metadata": {},
   "outputs": [
    {
     "data": {
      "text/plain": [
       "[[2467, 'BoW', 'svm', 'cEXT', 0.5546558704453441],\n",
       " [2467, 'BoW', 'svm', 'cNEU', 0.5161943319838057],\n",
       " [2467, 'BoW', 'svm', 'cAGR', 0.52834008097166],\n",
       " [2467, 'BoW', 'svm', 'cCON', 0.5080971659919028],\n",
       " [2467, 'BoW', 'svm', 'cOPN', 0.5708502024291497],\n",
       " [2467, 'BoW', 'tree', 'cEXT', 0.5182186234817814],\n",
       " [2467, 'BoW', 'tree', 'cNEU', 0.5445344129554656],\n",
       " [2467, 'BoW', 'tree', 'cAGR', 0.5040485829959515],\n",
       " [2467, 'BoW', 'tree', 'cCON', 0.5141700404858299],\n",
       " [2467, 'BoW', 'tree', 'cOPN', 0.5242914979757085]]"
      ]
     },
     "execution_count": 82,
     "metadata": {},
     "output_type": "execute_result"
    }
   ],
   "source": [
    "evaluation"
   ]
  },
  {
   "cell_type": "code",
   "execution_count": 83,
   "id": "d06f20b1",
   "metadata": {},
   "outputs": [
    {
     "name": "stdout",
     "output_type": "stream",
     "text": [
      "training Extraversion cEXT using dec...\n",
      "cEXT score:  0.5566801619433198\n",
      "training Neuroticism cNEU using dec...\n",
      "cNEU score:  0.4959514170040486\n",
      "training Agreeableness cAGR using using dec...\n",
      "cAGR score:  0.5161943319838057\n",
      "training Conscientiousness cCON using dec...\n",
      "cCON score:  0.5101214574898786\n",
      "training Openness to Experience cOPN using dec...\n",
      "cOPN score:  0.5323886639676113\n"
     ]
    }
   ],
   "source": [
    "## Decision Tree - TFIDF\n",
    "\n",
    "from sklearn import tree\n",
    "name = \"tree\"\n",
    "\n",
    "print(\"training Extraversion cEXT using dec...\")\n",
    "clf_dec_cEXT = tree.DecisionTreeClassifier()\n",
    "clf_dec_cEXT.fit(train_x_vectors_tf, train_y_cEXT)\n",
    "evaluation_tf.append([data, vec_name, name, \"cEXT\", clf_dec_cEXT.score(test_x_vectors_tf, test_y_cEXT)])\n",
    "print(\"cEXT score: \", clf_dec_cEXT.score(test_x_vectors_tf, test_y_cEXT))\n",
    "\n",
    "print(\"training Neuroticism cNEU using dec...\")\n",
    "clf_dec_cNEU = tree.DecisionTreeClassifier()\n",
    "clf_dec_cNEU.fit(train_x_vectors_tf, train_y_cNEU)\n",
    "evaluation_tf.append([data, vec_name, name, \"cNEU\", clf_dec_cNEU.score(test_x_vectors_tf, test_y_cNEU)])\n",
    "print(\"cNEU score: \", clf_dec_cNEU.score(test_x_vectors_tf, test_y_cNEU))\n",
    "\n",
    "print(\"training Agreeableness cAGR using using dec...\")\n",
    "clf_dec_cAGR = tree.DecisionTreeClassifier()\n",
    "clf_dec_cAGR.fit(train_x_vectors_tf, train_y_cAGR)\n",
    "evaluation_tf.append([data, vec_name, name, \"cAGR\", clf_dec_cAGR.score(test_x_vectors_tf, test_y_cAGR)])\n",
    "print(\"cAGR score: \", clf_dec_cAGR.score(test_x_vectors_tf, test_y_cAGR))\n",
    "\n",
    "print(\"training Conscientiousness cCON using dec...\")\n",
    "clf_dec_cCON = tree.DecisionTreeClassifier()\n",
    "clf_dec_cCON.fit(train_x_vectors_tf, train_y_cCON)\n",
    "evaluation_tf.append([data, vec_name, name, \"cCON\", clf_dec_cCON.score(test_x_vectors_tf, test_y_cCON)])\n",
    "print(\"cCON score: \", clf_dec_cCON.score(test_x_vectors_tf, test_y_cCON))\n",
    "\n",
    "print(\"training Openness to Experience cOPN using dec...\")\n",
    "clf_dec_cOPN = tree.DecisionTreeClassifier()\n",
    "clf_dec_cOPN.fit(train_x_vectors_tf, train_y_cOPN)\n",
    "evaluation_tf.append([data, vec_name, name, \"cOPN\", clf_dec_cOPN.score(test_x_vectors_tf, test_y_cOPN)])\n",
    "print(\"cOPN score: \", clf_dec_cOPN.score(test_x_vectors_tf, test_y_cOPN))\n"
   ]
  },
  {
   "cell_type": "code",
   "execution_count": 84,
   "id": "ef18b630",
   "metadata": {},
   "outputs": [
    {
     "data": {
      "text/plain": [
       "[[2467, 'BoW', 'svm', 'cEXT', 0.5384615384615384],\n",
       " [2467, 'BoW', 'svm', 'cNEU', 0.5809716599190283],\n",
       " [2467, 'BoW', 'svm', 'cAGR', 0.5607287449392713],\n",
       " [2467, 'BoW', 'svm', 'cCON', 0.5465587044534413],\n",
       " [2467, 'BoW', 'svm', 'cOPN', 0.6072874493927125],\n",
       " [2467, 'BoW', 'tree', 'cEXT', 0.5566801619433198],\n",
       " [2467, 'BoW', 'tree', 'cNEU', 0.4959514170040486],\n",
       " [2467, 'BoW', 'tree', 'cAGR', 0.5161943319838057],\n",
       " [2467, 'BoW', 'tree', 'cCON', 0.5101214574898786],\n",
       " [2467, 'BoW', 'tree', 'cOPN', 0.5323886639676113]]"
      ]
     },
     "execution_count": 84,
     "metadata": {},
     "output_type": "execute_result"
    }
   ],
   "source": [
    "evaluation_tf"
   ]
  },
  {
   "cell_type": "code",
   "execution_count": 85,
   "id": "510993b5",
   "metadata": {},
   "outputs": [
    {
     "name": "stdout",
     "output_type": "stream",
     "text": [
      "training Extraversion cEXT using GaussianNaiveBayes...\n",
      "cEXT score:  0.5040485829959515\n",
      "training Neuroticism cNEU using GaussianNaiveBayes...\n",
      "cNEU score:  0.5182186234817814\n",
      "training Agreeableness cAGR using using GaussianNaiveBayes...\n",
      "cAGR score:  0.5060728744939271\n",
      "training Conscientiousness cCON using GaussianNaiveBayes...\n",
      "cCON score:  0.5303643724696356\n",
      "training Openness to Experience cOPN using GaussianNaiveBayes...\n",
      "cOPN score:  0.5303643724696356\n"
     ]
    }
   ],
   "source": [
    "## Naive Bayes\n",
    "\n",
    "from sklearn.naive_bayes import GaussianNB\n",
    "name = \"gNB\"\n",
    "\n",
    "print(\"training Extraversion cEXT using GaussianNaiveBayes...\")\n",
    "clf_gnb_cEXT = GaussianNB()\n",
    "clf_gnb_cEXT.fit(train_x_vectors.toarray(), train_y_cEXT)\n",
    "evaluation.append([data, vec_name, name, \"cEXT\", clf_gnb_cEXT.score(test_x_vectors.toarray(), test_y_cEXT)])\n",
    "print(\"cEXT score: \", clf_gnb_cEXT.score(test_x_vectors.toarray(), test_y_cEXT))\n",
    "\n",
    "print(\"training Neuroticism cNEU using GaussianNaiveBayes...\")\n",
    "clf_gnb_cNEU = GaussianNB()\n",
    "clf_gnb_cNEU.fit(train_x_vectors.toarray(), train_y_cNEU)\n",
    "evaluation.append([data, vec_name, name, \"cNEU\", clf_gnb_cNEU.score(test_x_vectors.toarray(), test_y_cNEU)])\n",
    "print(\"cNEU score: \", clf_gnb_cNEU.score(test_x_vectors.toarray(), test_y_cNEU))\n",
    "    \n",
    "print(\"training Agreeableness cAGR using using GaussianNaiveBayes...\")\n",
    "clf_gnb_cAGR = GaussianNB()\n",
    "clf_gnb_cAGR.fit(train_x_vectors.toarray(), train_y_cAGR)\n",
    "evaluation.append([data, vec_name, name, \"cAGR\", clf_gnb_cAGR.score(test_x_vectors.toarray(), test_y_cAGR)])\n",
    "print(\"cAGR score: \", clf_gnb_cAGR.score(test_x_vectors.toarray(), test_y_cAGR))\n",
    "\n",
    "print(\"training Conscientiousness cCON using GaussianNaiveBayes...\")\n",
    "clf_gnb_cCON = GaussianNB()\n",
    "clf_gnb_cCON.fit(train_x_vectors.toarray(), train_y_cCON)\n",
    "evaluation.append([data, vec_name, name, \"cCON\", clf_gnb_cCON.score(test_x_vectors.toarray(), test_y_cCON)])\n",
    "print(\"cCON score: \", clf_gnb_cCON.score(test_x_vectors.toarray(), test_y_cCON))\n",
    "\n",
    "print(\"training Openness to Experience cOPN using GaussianNaiveBayes...\")\n",
    "clf_gnb_cOPN = GaussianNB()\n",
    "clf_gnb_cOPN.fit(train_x_vectors.toarray(), train_y_cOPN)\n",
    "evaluation.append([data, vec_name, name, \"cOPN\", clf_gnb_cOPN.score(test_x_vectors.toarray(), test_y_cOPN)])\n",
    "print(\"cOPN score: \", clf_gnb_cOPN.score(test_x_vectors.toarray(), test_y_cOPN))"
   ]
  },
  {
   "cell_type": "code",
   "execution_count": 86,
   "id": "60fafc47",
   "metadata": {},
   "outputs": [
    {
     "name": "stdout",
     "output_type": "stream",
     "text": [
      "training Extraversion cEXT using GaussianNaiveBayes...\n",
      "cEXT score:  0.4979757085020243\n",
      "training Neuroticism cNEU using GaussianNaiveBayes...\n",
      "cNEU score:  0.52834008097166\n",
      "training Agreeableness cAGR using using GaussianNaiveBayes...\n",
      "cAGR score:  0.5060728744939271\n",
      "training Conscientiousness cCON using GaussianNaiveBayes...\n",
      "cCON score:  0.5222672064777328\n",
      "training Openness to Experience cOPN using GaussianNaiveBayes...\n",
      "cOPN score:  0.5303643724696356\n"
     ]
    }
   ],
   "source": [
    "## Naive Bayes - TFIDF\n",
    "\n",
    "from sklearn.naive_bayes import GaussianNB\n",
    "name = \"gNB\"\n",
    "\n",
    "print(\"training Extraversion cEXT using GaussianNaiveBayes...\")\n",
    "clf_gnb_cEXT = GaussianNB()\n",
    "clf_gnb_cEXT.fit(train_x_vectors_tf.toarray(), train_y_cEXT)\n",
    "evaluation_tf.append([data, vec_name, name, \"cEXT\", clf_gnb_cEXT.score(test_x_vectors_tf.toarray(), test_y_cEXT)])\n",
    "print(\"cEXT score: \", clf_gnb_cEXT.score(test_x_vectors_tf.toarray(), test_y_cEXT))\n",
    "\n",
    "print(\"training Neuroticism cNEU using GaussianNaiveBayes...\")\n",
    "clf_gnb_cNEU = GaussianNB()\n",
    "clf_gnb_cNEU.fit(train_x_vectors_tf.toarray(), train_y_cNEU)\n",
    "evaluation_tf.append([data, vec_name, name, \"cNEU\", clf_gnb_cNEU.score(test_x_vectors_tf.toarray(), test_y_cNEU)])\n",
    "print(\"cNEU score: \", clf_gnb_cNEU.score(test_x_vectors_tf.toarray(), test_y_cNEU))\n",
    "    \n",
    "print(\"training Agreeableness cAGR using using GaussianNaiveBayes...\")\n",
    "clf_gnb_cAGR = GaussianNB()\n",
    "clf_gnb_cAGR.fit(train_x_vectors_tf.toarray(), train_y_cAGR)\n",
    "evaluation_tf.append([data, vec_name, name, \"cAGR\", clf_gnb_cAGR.score(test_x_vectors_tf.toarray(), test_y_cAGR)])\n",
    "print(\"cAGR score: \", clf_gnb_cAGR.score(test_x_vectors_tf.toarray(), test_y_cAGR))\n",
    "\n",
    "print(\"training Conscientiousness cCON using GaussianNaiveBayes...\")\n",
    "clf_gnb_cCON = GaussianNB()\n",
    "clf_gnb_cCON.fit(train_x_vectors_tf.toarray(), train_y_cCON)\n",
    "evaluation_tf.append([data, vec_name, name, \"cCON\", clf_gnb_cCON.score(test_x_vectors_tf.toarray(), test_y_cCON)])\n",
    "print(\"cCON score: \", clf_gnb_cCON.score(test_x_vectors_tf.toarray(), test_y_cCON))\n",
    "\n",
    "print(\"training Openness to Experience cOPN using GaussianNaiveBayes...\")\n",
    "clf_gnb_cOPN = GaussianNB()\n",
    "clf_gnb_cOPN.fit(train_x_vectors_tf.toarray(), train_y_cOPN)\n",
    "evaluation_tf.append([data, vec_name, name, \"cOPN\", clf_gnb_cOPN.score(test_x_vectors_tf.toarray(), test_y_cOPN)])\n",
    "print(\"cOPN score: \", clf_gnb_cOPN.score(test_x_vectors_tf.toarray(), test_y_cOPN))"
   ]
  },
  {
   "cell_type": "code",
   "execution_count": 87,
   "id": "bc84d233",
   "metadata": {},
   "outputs": [
    {
     "data": {
      "text/plain": [
       "[[2467, 'BoW', 'svm', 'cEXT', 0.5384615384615384],\n",
       " [2467, 'BoW', 'svm', 'cNEU', 0.5809716599190283],\n",
       " [2467, 'BoW', 'svm', 'cAGR', 0.5607287449392713],\n",
       " [2467, 'BoW', 'svm', 'cCON', 0.5465587044534413],\n",
       " [2467, 'BoW', 'svm', 'cOPN', 0.6072874493927125],\n",
       " [2467, 'BoW', 'tree', 'cEXT', 0.5566801619433198],\n",
       " [2467, 'BoW', 'tree', 'cNEU', 0.4959514170040486],\n",
       " [2467, 'BoW', 'tree', 'cAGR', 0.5161943319838057],\n",
       " [2467, 'BoW', 'tree', 'cCON', 0.5101214574898786],\n",
       " [2467, 'BoW', 'tree', 'cOPN', 0.5323886639676113],\n",
       " [2467, 'BoW', 'gNB', 'cEXT', 0.4979757085020243],\n",
       " [2467, 'BoW', 'gNB', 'cNEU', 0.52834008097166],\n",
       " [2467, 'BoW', 'gNB', 'cAGR', 0.5060728744939271],\n",
       " [2467, 'BoW', 'gNB', 'cCON', 0.5222672064777328],\n",
       " [2467, 'BoW', 'gNB', 'cOPN', 0.5303643724696356]]"
      ]
     },
     "execution_count": 87,
     "metadata": {},
     "output_type": "execute_result"
    }
   ],
   "source": [
    "evaluation_tf"
   ]
  },
  {
   "cell_type": "code",
   "execution_count": 88,
   "id": "6dab0873",
   "metadata": {},
   "outputs": [
    {
     "name": "stdout",
     "output_type": "stream",
     "text": [
      "training Extraversion cEXT using Logistic Regression...\n",
      "cEXT score:  0.5566801619433198\n",
      "training Neuroticism cNEU using Logistic Regression...\n",
      "cNEU score:  0.5323886639676113\n",
      "training Agreeableness cAGR using using Logistic Regression...\n",
      "cAGR score:  0.5344129554655871\n",
      "training Conscientiousness cCON using Logistic Regression...\n",
      "cCON score:  0.5303643724696356\n",
      "training Openness to Experience cOPN using Logistic Regression...\n",
      "cOPN score:  0.5607287449392713\n"
     ]
    }
   ],
   "source": [
    "## Logistic Regression\n",
    "\n",
    "from sklearn.linear_model import LogisticRegression\n",
    "name=\"logR\"\n",
    "\n",
    "print(\"training Extraversion cEXT using Logistic Regression...\")\n",
    "clf_log_cEXT = LogisticRegression(solver=\"newton-cg\")\n",
    "clf_log_cEXT.fit(train_x_vectors, train_y_cEXT)\n",
    "evaluation.append([data, vec_name, name, \"cEXT\", clf_log_cEXT.score(test_x_vectors, test_y_cEXT)])\n",
    "print(\"cEXT score: \", clf_log_cEXT.score(test_x_vectors, test_y_cEXT))\n",
    "\n",
    "print(\"training Neuroticism cNEU using Logistic Regression...\")\n",
    "clf_log_cNEU = LogisticRegression(solver=\"newton-cg\")\n",
    "clf_log_cNEU.fit(train_x_vectors, train_y_cNEU)\n",
    "evaluation.append([data, vec_name, name, \"cNEU\", clf_log_cNEU.score(test_x_vectors, test_y_cNEU)])\n",
    "print(\"cNEU score: \", clf_log_cNEU.score(test_x_vectors, test_y_cNEU))\n",
    "\n",
    "print(\"training Agreeableness cAGR using using Logistic Regression...\")\n",
    "clf_log_cAGR = LogisticRegression(solver=\"newton-cg\")\n",
    "clf_log_cAGR.fit(train_x_vectors, train_y_cAGR)\n",
    "evaluation.append([data, vec_name, name, \"cAGR\", clf_log_cAGR.score(test_x_vectors, test_y_cAGR)])\n",
    "print(\"cAGR score: \", clf_log_cAGR.score(test_x_vectors, test_y_cAGR))\n",
    "\n",
    "print(\"training Conscientiousness cCON using Logistic Regression...\")\n",
    "clf_log_cCON = LogisticRegression(solver=\"newton-cg\")\n",
    "clf_log_cCON.fit(train_x_vectors, train_y_cCON)\n",
    "evaluation.append([data, vec_name, name, \"cCON\", clf_log_cCON.score(test_x_vectors, test_y_cCON)])\n",
    "print(\"cCON score: \", clf_log_cCON.score(test_x_vectors, test_y_cCON))\n",
    "\n",
    "print(\"training Openness to Experience cOPN using Logistic Regression...\")\n",
    "clf_log_cOPN = LogisticRegression(solver=\"newton-cg\")\n",
    "clf_log_cOPN.fit(train_x_vectors, train_y_cOPN)\n",
    "evaluation.append([data, vec_name, name, \"cOPN\", clf_log_cOPN.score(test_x_vectors, test_y_cOPN)])\n",
    "print(\"cOPN score: \", clf_log_cOPN.score(test_x_vectors, test_y_cOPN))"
   ]
  },
  {
   "cell_type": "code",
   "execution_count": 89,
   "id": "85549582",
   "metadata": {},
   "outputs": [
    {
     "name": "stdout",
     "output_type": "stream",
     "text": [
      "training Extraversion cEXT using Logistic Regression...\n",
      "cEXT score:  0.5506072874493927\n",
      "training Neuroticism cNEU using Logistic Regression...\n",
      "cNEU score:  0.5789473684210527\n",
      "training Agreeableness cAGR using using Logistic Regression...\n",
      "cAGR score:  0.5587044534412956\n",
      "training Conscientiousness cCON using Logistic Regression...\n",
      "cCON score:  0.5566801619433198\n",
      "training Openness to Experience cOPN using Logistic Regression...\n",
      "cOPN score:  0.6052631578947368\n"
     ]
    }
   ],
   "source": [
    "## Logistic Regression - TFIDF\n",
    "\n",
    "from sklearn.linear_model import LogisticRegression\n",
    "name=\"logR\"\n",
    "\n",
    "print(\"training Extraversion cEXT using Logistic Regression...\")\n",
    "clf_log_cEXT = LogisticRegression(solver=\"newton-cg\")\n",
    "clf_log_cEXT.fit(train_x_vectors_tf, train_y_cEXT)\n",
    "evaluation_tf.append([data, vec_name, name, \"cEXT\", clf_log_cEXT.score(test_x_vectors_tf, test_y_cEXT)])\n",
    "print(\"cEXT score: \", clf_log_cEXT.score(test_x_vectors_tf, test_y_cEXT))\n",
    "\n",
    "print(\"training Neuroticism cNEU using Logistic Regression...\")\n",
    "clf_log_cNEU = LogisticRegression(solver=\"newton-cg\")\n",
    "clf_log_cNEU.fit(train_x_vectors_tf, train_y_cNEU)\n",
    "evaluation_tf.append([data, vec_name, name, \"cNEU\", clf_log_cNEU.score(test_x_vectors_tf, test_y_cNEU)])\n",
    "print(\"cNEU score: \", clf_log_cNEU.score(test_x_vectors_tf, test_y_cNEU))\n",
    "\n",
    "print(\"training Agreeableness cAGR using using Logistic Regression...\")\n",
    "clf_log_cAGR = LogisticRegression(solver=\"newton-cg\")\n",
    "clf_log_cAGR.fit(train_x_vectors_tf, train_y_cAGR)\n",
    "evaluation_tf.append([data, vec_name, name, \"cAGR\", clf_log_cAGR.score(test_x_vectors_tf, test_y_cAGR)])\n",
    "print(\"cAGR score: \", clf_log_cAGR.score(test_x_vectors_tf, test_y_cAGR))\n",
    "\n",
    "print(\"training Conscientiousness cCON using Logistic Regression...\")\n",
    "clf_log_cCON = LogisticRegression(solver=\"newton-cg\")\n",
    "clf_log_cCON.fit(train_x_vectors_tf, train_y_cCON)\n",
    "evaluation_tf.append([data, vec_name, name, \"cCON\", clf_log_cCON.score(test_x_vectors_tf, test_y_cCON)])\n",
    "print(\"cCON score: \", clf_log_cCON.score(test_x_vectors_tf, test_y_cCON))\n",
    "\n",
    "print(\"training Openness to Experience cOPN using Logistic Regression...\")\n",
    "clf_log_cOPN = LogisticRegression(solver=\"newton-cg\")\n",
    "clf_log_cOPN.fit(train_x_vectors_tf, train_y_cOPN)\n",
    "evaluation_tf.append([data, vec_name, name, \"cOPN\", clf_log_cOPN.score(test_x_vectors_tf, test_y_cOPN)])\n",
    "print(\"cOPN score: \", clf_log_cOPN.score(test_x_vectors_tf, test_y_cOPN))"
   ]
  },
  {
   "cell_type": "code",
   "execution_count": 90,
   "id": "7712eac1",
   "metadata": {},
   "outputs": [
    {
     "name": "stdout",
     "output_type": "stream",
     "text": [
      "training Extraversion cEXT using Random Forest...\n",
      "cEXT score:  0.5384615384615384\n",
      "training Neuroticism cNEU using Random Forest...\n",
      "cNEU score:  0.562753036437247\n",
      "training Agreeableness cAGR using using Random Forest...\n",
      "cAGR score:  0.5404858299595142\n",
      "training Conscientiousness cCON using Random Forest...\n",
      "cCON score:  0.562753036437247\n",
      "training Openness to Experience cOPN using Random Forest...\n",
      "cOPN score:  0.5910931174089069\n"
     ]
    }
   ],
   "source": [
    "## Random Forest Classifier\n",
    "\n",
    "from sklearn.ensemble import RandomForestClassifier\n",
    "name=\"RF\"\n",
    "\n",
    "\n",
    "print(\"training Extraversion cEXT using Random Forest...\")\n",
    "clf_rf_cEXT = RandomForestClassifier(n_estimators=100)\n",
    "clf_rf_cEXT.fit(train_x_vectors, train_y_cEXT)\n",
    "evaluation.append([data, vec_name, name, \"cEXT\", clf_rf_cEXT.score(test_x_vectors, test_y_cEXT)])\n",
    "print(\"cEXT score: \", clf_rf_cEXT.score(test_x_vectors, test_y_cEXT))\n",
    "\n",
    "print(\"training Neuroticism cNEU using Random Forest...\")\n",
    "clf_rf_cNEU = RandomForestClassifier(n_estimators=100)\n",
    "clf_rf_cNEU.fit(train_x_vectors, train_y_cNEU)\n",
    "evaluation.append([data, vec_name, name, \"cNEU\", clf_rf_cNEU.score(test_x_vectors, test_y_cNEU)])\n",
    "print(\"cNEU score: \", clf_rf_cNEU.score(test_x_vectors, test_y_cNEU))\n",
    "\n",
    "print(\"training Agreeableness cAGR using using Random Forest...\")\n",
    "clf_rf_cAGR = RandomForestClassifier(n_estimators=100)\n",
    "clf_rf_cAGR.fit(train_x_vectors, train_y_cAGR)\n",
    "evaluation.append([data, vec_name, name, \"cAGR\", clf_rf_cAGR.score(test_x_vectors, test_y_cAGR)])\n",
    "print(\"cAGR score: \", clf_rf_cAGR.score(test_x_vectors, test_y_cAGR))\n",
    "\n",
    "print(\"training Conscientiousness cCON using Random Forest...\")\n",
    "clf_rf_cCON = RandomForestClassifier(n_estimators=100)\n",
    "clf_rf_cCON.fit(train_x_vectors, train_y_cCON)\n",
    "evaluation.append([data, vec_name, name, \"cCON\", clf_rf_cCON.score(test_x_vectors, test_y_cCON)])\n",
    "print(\"cCON score: \", clf_rf_cCON.score(test_x_vectors, test_y_cCON))\n",
    "\n",
    "print(\"training Openness to Experience cOPN using Random Forest...\")\n",
    "clf_rf_cOPN = RandomForestClassifier(n_estimators=100)\n",
    "clf_rf_cOPN.fit(train_x_vectors, train_y_cOPN)\n",
    "evaluation.append([data, vec_name, name, \"cOPN\", clf_rf_cOPN.score(test_x_vectors, test_y_cOPN)])\n",
    "print(\"cOPN score: \", clf_rf_cOPN.score(test_x_vectors, test_y_cOPN))\n"
   ]
  },
  {
   "cell_type": "code",
   "execution_count": 91,
   "id": "64613850",
   "metadata": {},
   "outputs": [
    {
     "name": "stdout",
     "output_type": "stream",
     "text": [
      "training Extraversion cEXT using Random Forest...\n",
      "cEXT score:  0.5364372469635628\n",
      "training Neuroticism cNEU using Random Forest...\n",
      "cNEU score:  0.5647773279352226\n",
      "training Agreeableness cAGR using using Random Forest...\n",
      "cAGR score:  0.4979757085020243\n",
      "training Conscientiousness cCON using Random Forest...\n",
      "cCON score:  0.52834008097166\n",
      "training Openness to Experience cOPN using Random Forest...\n",
      "cOPN score:  0.6214574898785425\n"
     ]
    }
   ],
   "source": [
    "## Random Forest Classifier - TFIDF\n",
    "\n",
    "from sklearn.ensemble import RandomForestClassifier\n",
    "name=\"RF\"\n",
    "\n",
    "\n",
    "print(\"training Extraversion cEXT using Random Forest...\")\n",
    "clf_rf_cEXT = RandomForestClassifier(n_estimators=100)\n",
    "clf_rf_cEXT.fit(train_x_vectors_tf, train_y_cEXT)\n",
    "evaluation_tf.append([data, vec_name, name, \"cEXT\", clf_rf_cEXT.score(test_x_vectors_tf, test_y_cEXT)])\n",
    "print(\"cEXT score: \", clf_rf_cEXT.score(test_x_vectors_tf, test_y_cEXT))\n",
    "\n",
    "print(\"training Neuroticism cNEU using Random Forest...\")\n",
    "clf_rf_cNEU = RandomForestClassifier(n_estimators=100)\n",
    "clf_rf_cNEU.fit(train_x_vectors_tf, train_y_cNEU)\n",
    "evaluation_tf.append([data, vec_name, name, \"cNEU\", clf_rf_cNEU.score(test_x_vectors_tf, test_y_cNEU)])\n",
    "print(\"cNEU score: \", clf_rf_cNEU.score(test_x_vectors_tf, test_y_cNEU))\n",
    "\n",
    "print(\"training Agreeableness cAGR using using Random Forest...\")\n",
    "clf_rf_cAGR = RandomForestClassifier(n_estimators=100)\n",
    "clf_rf_cAGR.fit(train_x_vectors_tf, train_y_cAGR)\n",
    "evaluation_tf.append([data, vec_name, name, \"cAGR\", clf_rf_cAGR.score(test_x_vectors_tf, test_y_cAGR)])\n",
    "print(\"cAGR score: \", clf_rf_cAGR.score(test_x_vectors_tf, test_y_cAGR))\n",
    "\n",
    "print(\"training Conscientiousness cCON using Random Forest...\")\n",
    "clf_rf_cCON = RandomForestClassifier(n_estimators=100)\n",
    "clf_rf_cCON.fit(train_x_vectors_tf, train_y_cCON)\n",
    "evaluation_tf.append([data, vec_name, name, \"cCON\", clf_rf_cCON.score(test_x_vectors_tf, test_y_cCON)])\n",
    "print(\"cCON score: \", clf_rf_cCON.score(test_x_vectors_tf, test_y_cCON))\n",
    "\n",
    "print(\"training Openness to Experience cOPN using Random Forest...\")\n",
    "clf_rf_cOPN = RandomForestClassifier(n_estimators=100)\n",
    "clf_rf_cOPN.fit(train_x_vectors_tf, train_y_cOPN)\n",
    "evaluation_tf.append([data, vec_name, name, \"cOPN\", clf_rf_cOPN.score(test_x_vectors_tf, test_y_cOPN)])\n",
    "print(\"cOPN score: \", clf_rf_cOPN.score(test_x_vectors_tf, test_y_cOPN))\n"
   ]
  },
  {
   "cell_type": "code",
   "execution_count": 92,
   "id": "a21fe203",
   "metadata": {},
   "outputs": [
    {
     "name": "stdout",
     "output_type": "stream",
     "text": [
      "evaluation saved as data/evaluation/evaluationnew_count.p\n"
     ]
    }
   ],
   "source": [
    "filename = \"data/evaluation/evaluation\" + \"new_count\" + \".p\"\n",
    "pickle.dump(evaluation, open(filename, \"wb\"))\n",
    "print(\"evaluation saved as\", filename)"
   ]
  },
  {
   "cell_type": "code",
   "execution_count": 93,
   "id": "98ebc902",
   "metadata": {},
   "outputs": [
    {
     "name": "stdout",
     "output_type": "stream",
     "text": [
      "evaluation saved as data/evaluation/evaluationnew_tfidf.p\n"
     ]
    }
   ],
   "source": [
    "filename = \"data/evaluation/evaluation\" + \"new_tfidf\" + \".p\"\n",
    "pickle.dump(evaluation_tf, open(filename, \"wb\"))\n",
    "print(\"evaluation saved as\", filename)"
   ]
  },
  {
   "cell_type": "code",
   "execution_count": 29,
   "id": "f60585fe",
   "metadata": {},
   "outputs": [],
   "source": [
    "pickle.dump(clf_svm_cNEU, open('cNEU_piyush.p', 'wb'))"
   ]
  },
  {
   "cell_type": "code",
   "execution_count": 95,
   "id": "cde88b44",
   "metadata": {},
   "outputs": [],
   "source": [
    "pickle.dump(clf_rf_cNEU, open('cNEU_piyush.p', 'wb'))\n",
    "pickle.dump(clf_rf_cAGR, open('cAGR_piyush.p', 'wb'))\n",
    "pickle.dump(clf_rf_cCON, open('cCON_piyush.p', 'wb'))\n",
    "pickle.dump(clf_rf_cOPN, open('cOPN_piyush.p', 'wb'))"
   ]
  },
  {
   "cell_type": "code",
   "execution_count": 96,
   "id": "5e534646",
   "metadata": {},
   "outputs": [],
   "source": [
    "filename = \"cEXT_piyush_new.p\"\n",
    "\n",
    "with open(filename, 'wb') as fout:\n",
    "    pickle.dump((bow_vectorizer ,clf_rf_cEXT), fout)"
   ]
  },
  {
   "cell_type": "code",
   "execution_count": 97,
   "id": "e0ec29da",
   "metadata": {},
   "outputs": [
    {
     "data": {
      "text/plain": [
       "[[2467, 'BoW', 'svm', 'cEXT', 0.5546558704453441],\n",
       " [2467, 'BoW', 'svm', 'cNEU', 0.5161943319838057],\n",
       " [2467, 'BoW', 'svm', 'cAGR', 0.52834008097166],\n",
       " [2467, 'BoW', 'svm', 'cCON', 0.5080971659919028],\n",
       " [2467, 'BoW', 'svm', 'cOPN', 0.5708502024291497],\n",
       " [2467, 'BoW', 'tree', 'cEXT', 0.5182186234817814],\n",
       " [2467, 'BoW', 'tree', 'cNEU', 0.5445344129554656],\n",
       " [2467, 'BoW', 'tree', 'cAGR', 0.5040485829959515],\n",
       " [2467, 'BoW', 'tree', 'cCON', 0.5141700404858299],\n",
       " [2467, 'BoW', 'tree', 'cOPN', 0.5242914979757085],\n",
       " [2467, 'BoW', 'gNB', 'cEXT', 0.5040485829959515],\n",
       " [2467, 'BoW', 'gNB', 'cNEU', 0.5182186234817814],\n",
       " [2467, 'BoW', 'gNB', 'cAGR', 0.5060728744939271],\n",
       " [2467, 'BoW', 'gNB', 'cCON', 0.5303643724696356],\n",
       " [2467, 'BoW', 'gNB', 'cOPN', 0.5303643724696356],\n",
       " [2467, 'BoW', 'logR', 'cEXT', 0.5566801619433198],\n",
       " [2467, 'BoW', 'logR', 'cNEU', 0.5323886639676113],\n",
       " [2467, 'BoW', 'logR', 'cAGR', 0.5344129554655871],\n",
       " [2467, 'BoW', 'logR', 'cCON', 0.5303643724696356],\n",
       " [2467, 'BoW', 'logR', 'cOPN', 0.5607287449392713],\n",
       " [2467, 'BoW', 'RF', 'cEXT', 0.5384615384615384],\n",
       " [2467, 'BoW', 'RF', 'cNEU', 0.562753036437247],\n",
       " [2467, 'BoW', 'RF', 'cAGR', 0.5404858299595142],\n",
       " [2467, 'BoW', 'RF', 'cCON', 0.562753036437247],\n",
       " [2467, 'BoW', 'RF', 'cOPN', 0.5910931174089069]]"
      ]
     },
     "execution_count": 97,
     "metadata": {},
     "output_type": "execute_result"
    }
   ],
   "source": [
    "evaluation"
   ]
  },
  {
   "cell_type": "code",
   "execution_count": 98,
   "id": "f5a6f60f",
   "metadata": {},
   "outputs": [
    {
     "data": {
      "text/plain": [
       "[[2467, 'BoW', 'svm', 'cEXT', 0.5384615384615384],\n",
       " [2467, 'BoW', 'svm', 'cNEU', 0.5809716599190283],\n",
       " [2467, 'BoW', 'svm', 'cAGR', 0.5607287449392713],\n",
       " [2467, 'BoW', 'svm', 'cCON', 0.5465587044534413],\n",
       " [2467, 'BoW', 'svm', 'cOPN', 0.6072874493927125],\n",
       " [2467, 'BoW', 'tree', 'cEXT', 0.5566801619433198],\n",
       " [2467, 'BoW', 'tree', 'cNEU', 0.4959514170040486],\n",
       " [2467, 'BoW', 'tree', 'cAGR', 0.5161943319838057],\n",
       " [2467, 'BoW', 'tree', 'cCON', 0.5101214574898786],\n",
       " [2467, 'BoW', 'tree', 'cOPN', 0.5323886639676113],\n",
       " [2467, 'BoW', 'gNB', 'cEXT', 0.4979757085020243],\n",
       " [2467, 'BoW', 'gNB', 'cNEU', 0.52834008097166],\n",
       " [2467, 'BoW', 'gNB', 'cAGR', 0.5060728744939271],\n",
       " [2467, 'BoW', 'gNB', 'cCON', 0.5222672064777328],\n",
       " [2467, 'BoW', 'gNB', 'cOPN', 0.5303643724696356],\n",
       " [2467, 'BoW', 'logR', 'cEXT', 0.5506072874493927],\n",
       " [2467, 'BoW', 'logR', 'cNEU', 0.5789473684210527],\n",
       " [2467, 'BoW', 'logR', 'cAGR', 0.5587044534412956],\n",
       " [2467, 'BoW', 'logR', 'cCON', 0.5566801619433198],\n",
       " [2467, 'BoW', 'logR', 'cOPN', 0.6052631578947368],\n",
       " [2467, 'BoW', 'RF', 'cEXT', 0.5364372469635628],\n",
       " [2467, 'BoW', 'RF', 'cNEU', 0.5647773279352226],\n",
       " [2467, 'BoW', 'RF', 'cAGR', 0.4979757085020243],\n",
       " [2467, 'BoW', 'RF', 'cCON', 0.52834008097166],\n",
       " [2467, 'BoW', 'RF', 'cOPN', 0.6214574898785425]]"
      ]
     },
     "execution_count": 98,
     "metadata": {},
     "output_type": "execute_result"
    }
   ],
   "source": [
    "evaluation_tf"
   ]
  },
  {
   "cell_type": "code",
   "execution_count": null,
   "id": "9f495f73",
   "metadata": {},
   "outputs": [],
   "source": []
  }
 ],
 "metadata": {
  "kernelspec": {
   "display_name": "Python 3 (ipykernel)",
   "language": "python",
   "name": "python3"
  },
  "language_info": {
   "codemirror_mode": {
    "name": "ipython",
    "version": 3
   },
   "file_extension": ".py",
   "mimetype": "text/x-python",
   "name": "python",
   "nbconvert_exporter": "python",
   "pygments_lexer": "ipython3",
   "version": "3.9.6"
  }
 },
 "nbformat": 4,
 "nbformat_minor": 5
}
