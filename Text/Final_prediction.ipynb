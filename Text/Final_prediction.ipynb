{
 "cells": [
  {
   "cell_type": "code",
   "execution_count": 1,
   "metadata": {
    "id": "FcEE09uPDsnn"
   },
   "outputs": [],
   "source": [
    "import pickle\n",
    "from sklearn.feature_extraction.text import CountVectorizer\n",
    "from sklearn.feature_extraction.text import TfidfVectorizer\n",
    "import pandas as pd\n",
    "import re"
   ]
  },
  {
   "cell_type": "code",
   "execution_count": 2,
   "metadata": {
    "id": "alY_WtAZD7dk"
   },
   "outputs": [
    {
     "name": "stderr",
     "output_type": "stream",
     "text": [
      "c:\\users\\piyush\\appdata\\local\\programs\\python\\python39\\lib\\site-packages\\sklearn\\base.py:310: UserWarning: Trying to unpickle estimator SVC from version 0.22.2.post1 when using version 0.24.2. This might lead to breaking code or invalid results. Use at your own risk.\n",
      "  warnings.warn(\n",
      "c:\\users\\piyush\\appdata\\local\\programs\\python\\python39\\lib\\site-packages\\sklearn\\base.py:310: UserWarning: Trying to unpickle estimator LogisticRegression from version 0.22.2.post1 when using version 0.24.2. This might lead to breaking code or invalid results. Use at your own risk.\n",
      "  warnings.warn(\n"
     ]
    }
   ],
   "source": [
    "cNEU = pickle.load( open(\"cNEU_piyush.p\", \"rb\"))\n",
    "cEXT = pickle.load( open(\"pickles\\cEXT_project (1).p\", \"rb\"))\n",
    "cAGR = pickle.load( open(\"pickles\\cAGR_project (1).p\", \"rb\"))\n",
    "cCON = pickle.load( open(\"pickles\\cCON_project (1).p\", \"rb\"))\n",
    "cOPN = pickle.load( open(\"pickles\\cOPN_project (1).p\", \"rb\"))"
   ]
  },
  {
   "cell_type": "code",
   "execution_count": 5,
   "metadata": {
    "id": "M_dIUzcWEVEU"
   },
   "outputs": [
    {
     "name": "stderr",
     "output_type": "stream",
     "text": [
      "c:\\users\\piyush\\appdata\\local\\programs\\python\\python39\\lib\\site-packages\\sklearn\\base.py:310: UserWarning: Trying to unpickle estimator TfidfTransformer from version 0.22.2.post1 when using version 0.24.2. This might lead to breaking code or invalid results. Use at your own risk.\n",
      "  warnings.warn(\n",
      "c:\\users\\piyush\\appdata\\local\\programs\\python\\python39\\lib\\site-packages\\sklearn\\base.py:310: UserWarning: Trying to unpickle estimator TfidfVectorizer from version 0.22.2.post1 when using version 0.24.2. This might lead to breaking code or invalid results. Use at your own risk.\n",
      "  warnings.warn(\n"
     ]
    }
   ],
   "source": [
    "with open(\"pickles/tfidf_vectorizer_project (1).p\", 'rb') as f:\n",
    "    tfidf_transformer = pickle.load(f)"
   ]
  },
  {
   "cell_type": "code",
   "execution_count": 6,
   "metadata": {
    "id": "Rn6XwlMfFCCG"
   },
   "outputs": [
    {
     "name": "stderr",
     "output_type": "stream",
     "text": [
      "c:\\users\\piyush\\appdata\\local\\programs\\python\\python39\\lib\\site-packages\\sklearn\\base.py:310: UserWarning: Trying to unpickle estimator CountVectorizer from version 0.22.2.post1 when using version 0.24.2. This might lead to breaking code or invalid results. Use at your own risk.\n",
      "  warnings.warn(\n"
     ]
    }
   ],
   "source": [
    "with open('bow_vectorizer_project.p', 'rb') as f1:\n",
    "    bow_transformer = pickle.load(f1)"
   ]
  },
  {
   "cell_type": "code",
   "execution_count": 7,
   "metadata": {
    "id": "s_jpQhAfEnAr"
   },
   "outputs": [],
   "source": [
    "def predict_personality(text):\n",
    "    sentences = re.split(\"(?<=[.!?]) +\", text)\n",
    "    text_vector_31 = tfidf_transformer.transform(sentences)\n",
    "    text_vector_32 = bow_transformer.transform(sentences)\n",
    "    EXT = cEXT.predict(text_vector_31)\n",
    "    NEU = cNEU.predict(text_vector_32)\n",
    "    AGR = cAGR.predict(text_vector_31)\n",
    "    CON = cCON.predict(text_vector_31)\n",
    "    OPN = cOPN.predict(text_vector_31)\n",
    "    return [EXT[0], NEU[0], AGR[0], CON[0], OPN[0]]\n"
   ]
  },
  {
   "cell_type": "code",
   "execution_count": 8,
   "metadata": {
    "id": "O3J3jjZzSELT"
   },
   "outputs": [],
   "source": [
    "def predict_final(text):\n",
    "  predictions = predict_personality(text)\n",
    "  ll = []\n",
    "  if predictions[0] == 0:\n",
    "    ll.append('Not Extraversion')\n",
    "  elif predictions[0] == 1:\n",
    "    ll.append('Extraversion')\n",
    "\n",
    "  if predictions[1] == 0:\n",
    "    ll.append('Not Neuroticism')\n",
    "  elif predictions[1] == 1:\n",
    "    ll.append('Neuroticism')\n",
    "\n",
    "  if predictions[2] == 0:\n",
    "    ll.append('Not Agreeableness')\n",
    "  elif predictions[2] == 1:\n",
    "    ll.append('Agreeableness')\n",
    "\n",
    "  if predictions[3] == 0:\n",
    "    ll.append('Not Conscientiousness')\n",
    "  elif predictions[3] == 1:\n",
    "    ll.append('Conscientiousness')\n",
    "  \n",
    "  if predictions[4] == 0:\n",
    "    ll.append('Not Openness')\n",
    "  elif predictions[4] == 1:\n",
    "    ll.append('Openness')\n",
    "  \n",
    "  return ll"
   ]
  },
  {
   "cell_type": "code",
   "execution_count": 9,
   "metadata": {
    "id": "I2OWe-hAEtFx"
   },
   "outputs": [],
   "source": [
    "text = 'I cant believe it!  Its really happening!  My pulse is racing like mad. So this is what its like. now I finally know what it feels like. just a few more steps. I wonder if he is going to get any sleep tonight!?  I sure wont!  Well, of course I have a million deadlines to meet tomorrow so Ill be up late anyway. But OH! Im so so excited!  Yes!  Yes!  I cant believe it is finally happening. Wait! Calm down. We arent officially a couple yet. What if I end up not liking him?  That would be horrible. Oh great, I wonder how long itll take me to finish those Calculus problems?  Ill get it done. Dont you always, Amy?  I cant believe Bob did it!  He really did it!  He is THE miracle worker. If things turn out all right I will owe him more than I can ever repay. I wonder what Steve is doing in Malaysia right now?  An entire month!  Ill likely clean out his refrigerator by then. Omigosh!  Food, lunch tomorrow, what will I ever say to him?  He is perfect in every way imaginable. It is so important for him to think of me the same way. well, maybe not Perfect, but certainly dynamic. Who would have ever thought!  Good things do indeed come to those who wait!  Oh, Ill have to remember to sign the poster he made tomorrow morning. I hope Steves alarm clock is reliable and I dont oversleep. That would be tragic if I slept til noon and missed the lunch. Thank goodness Portia is coming along. I will definitely need her support as well as Bobs. just having her there will take away some of the tension and put me more at ease. Ill have to rehearse what I say beforehand. things can only get better from here, right? hopefully. oh, Im so nervous!  He will be too. maybe even more so. it will be ok. Why in the world do humans put themselves through such torture. maybe love is really worth it?'"
   ]
  },
  {
   "cell_type": "code",
   "execution_count": 10,
   "metadata": {
    "colab": {
     "base_uri": "https://localhost:8080/"
    },
    "id": "5xljdNK7EwH4",
    "outputId": "963f4154-6078-4e01-a8fa-9a902fdb57cc"
   },
   "outputs": [
    {
     "ename": "AttributeError",
     "evalue": "'SVC' object has no attribute '_probA'",
     "output_type": "error",
     "traceback": [
      "\u001b[1;31m---------------------------------------------------------------------------\u001b[0m",
      "\u001b[1;31mAttributeError\u001b[0m                            Traceback (most recent call last)",
      "\u001b[1;32m~\\AppData\\Local\\Temp/ipykernel_5488/3827235356.py\u001b[0m in \u001b[0;36m<module>\u001b[1;34m\u001b[0m\n\u001b[1;32m----> 1\u001b[1;33m \u001b[0mpredictions\u001b[0m \u001b[1;33m=\u001b[0m \u001b[0mpredict_personality\u001b[0m\u001b[1;33m(\u001b[0m\u001b[0mtext\u001b[0m\u001b[1;33m)\u001b[0m\u001b[1;33m\u001b[0m\u001b[1;33m\u001b[0m\u001b[0m\n\u001b[0m\u001b[0;32m      2\u001b[0m \u001b[0mprint\u001b[0m\u001b[1;33m(\u001b[0m\u001b[1;34m\"predicted personality:\"\u001b[0m\u001b[1;33m,\u001b[0m \u001b[0mpredictions\u001b[0m\u001b[1;33m)\u001b[0m\u001b[1;33m\u001b[0m\u001b[1;33m\u001b[0m\u001b[0m\n",
      "\u001b[1;32m~\\AppData\\Local\\Temp/ipykernel_5488/398149809.py\u001b[0m in \u001b[0;36mpredict_personality\u001b[1;34m(text)\u001b[0m\n\u001b[0;32m      4\u001b[0m     \u001b[0mtext_vector_32\u001b[0m \u001b[1;33m=\u001b[0m \u001b[0mbow_transformer\u001b[0m\u001b[1;33m.\u001b[0m\u001b[0mtransform\u001b[0m\u001b[1;33m(\u001b[0m\u001b[0msentences\u001b[0m\u001b[1;33m)\u001b[0m\u001b[1;33m\u001b[0m\u001b[1;33m\u001b[0m\u001b[0m\n\u001b[0;32m      5\u001b[0m     \u001b[0mEXT\u001b[0m \u001b[1;33m=\u001b[0m \u001b[0mcEXT\u001b[0m\u001b[1;33m.\u001b[0m\u001b[0mpredict\u001b[0m\u001b[1;33m(\u001b[0m\u001b[0mtext_vector_31\u001b[0m\u001b[1;33m)\u001b[0m\u001b[1;33m\u001b[0m\u001b[1;33m\u001b[0m\u001b[0m\n\u001b[1;32m----> 6\u001b[1;33m     \u001b[0mNEU\u001b[0m \u001b[1;33m=\u001b[0m \u001b[0mcNEU\u001b[0m\u001b[1;33m.\u001b[0m\u001b[0mpredict\u001b[0m\u001b[1;33m(\u001b[0m\u001b[0mtext_vector_32\u001b[0m\u001b[1;33m)\u001b[0m\u001b[1;33m\u001b[0m\u001b[1;33m\u001b[0m\u001b[0m\n\u001b[0m\u001b[0;32m      7\u001b[0m     \u001b[0mAGR\u001b[0m \u001b[1;33m=\u001b[0m \u001b[0mcAGR\u001b[0m\u001b[1;33m.\u001b[0m\u001b[0mpredict\u001b[0m\u001b[1;33m(\u001b[0m\u001b[0mtext_vector_31\u001b[0m\u001b[1;33m)\u001b[0m\u001b[1;33m\u001b[0m\u001b[1;33m\u001b[0m\u001b[0m\n\u001b[0;32m      8\u001b[0m     \u001b[0mCON\u001b[0m \u001b[1;33m=\u001b[0m \u001b[0mcCON\u001b[0m\u001b[1;33m.\u001b[0m\u001b[0mpredict\u001b[0m\u001b[1;33m(\u001b[0m\u001b[0mtext_vector_31\u001b[0m\u001b[1;33m)\u001b[0m\u001b[1;33m\u001b[0m\u001b[1;33m\u001b[0m\u001b[0m\n",
      "\u001b[1;32mc:\\users\\piyush\\appdata\\local\\programs\\python\\python39\\lib\\site-packages\\sklearn\\svm\\_base.py\u001b[0m in \u001b[0;36mpredict\u001b[1;34m(self, X)\u001b[0m\n\u001b[0;32m    622\u001b[0m             \u001b[0my\u001b[0m \u001b[1;33m=\u001b[0m \u001b[0mnp\u001b[0m\u001b[1;33m.\u001b[0m\u001b[0margmax\u001b[0m\u001b[1;33m(\u001b[0m\u001b[0mself\u001b[0m\u001b[1;33m.\u001b[0m\u001b[0mdecision_function\u001b[0m\u001b[1;33m(\u001b[0m\u001b[0mX\u001b[0m\u001b[1;33m)\u001b[0m\u001b[1;33m,\u001b[0m \u001b[0maxis\u001b[0m\u001b[1;33m=\u001b[0m\u001b[1;36m1\u001b[0m\u001b[1;33m)\u001b[0m\u001b[1;33m\u001b[0m\u001b[1;33m\u001b[0m\u001b[0m\n\u001b[0;32m    623\u001b[0m         \u001b[1;32melse\u001b[0m\u001b[1;33m:\u001b[0m\u001b[1;33m\u001b[0m\u001b[1;33m\u001b[0m\u001b[0m\n\u001b[1;32m--> 624\u001b[1;33m             \u001b[0my\u001b[0m \u001b[1;33m=\u001b[0m \u001b[0msuper\u001b[0m\u001b[1;33m(\u001b[0m\u001b[1;33m)\u001b[0m\u001b[1;33m.\u001b[0m\u001b[0mpredict\u001b[0m\u001b[1;33m(\u001b[0m\u001b[0mX\u001b[0m\u001b[1;33m)\u001b[0m\u001b[1;33m\u001b[0m\u001b[1;33m\u001b[0m\u001b[0m\n\u001b[0m\u001b[0;32m    625\u001b[0m         \u001b[1;32mreturn\u001b[0m \u001b[0mself\u001b[0m\u001b[1;33m.\u001b[0m\u001b[0mclasses_\u001b[0m\u001b[1;33m.\u001b[0m\u001b[0mtake\u001b[0m\u001b[1;33m(\u001b[0m\u001b[0mnp\u001b[0m\u001b[1;33m.\u001b[0m\u001b[0masarray\u001b[0m\u001b[1;33m(\u001b[0m\u001b[0my\u001b[0m\u001b[1;33m,\u001b[0m \u001b[0mdtype\u001b[0m\u001b[1;33m=\u001b[0m\u001b[0mnp\u001b[0m\u001b[1;33m.\u001b[0m\u001b[0mintp\u001b[0m\u001b[1;33m)\u001b[0m\u001b[1;33m)\u001b[0m\u001b[1;33m\u001b[0m\u001b[1;33m\u001b[0m\u001b[0m\n\u001b[0;32m    626\u001b[0m \u001b[1;33m\u001b[0m\u001b[0m\n",
      "\u001b[1;32mc:\\users\\piyush\\appdata\\local\\programs\\python\\python39\\lib\\site-packages\\sklearn\\svm\\_base.py\u001b[0m in \u001b[0;36mpredict\u001b[1;34m(self, X)\u001b[0m\n\u001b[0;32m    342\u001b[0m         \u001b[0mX\u001b[0m \u001b[1;33m=\u001b[0m \u001b[0mself\u001b[0m\u001b[1;33m.\u001b[0m\u001b[0m_validate_for_predict\u001b[0m\u001b[1;33m(\u001b[0m\u001b[0mX\u001b[0m\u001b[1;33m)\u001b[0m\u001b[1;33m\u001b[0m\u001b[1;33m\u001b[0m\u001b[0m\n\u001b[0;32m    343\u001b[0m         \u001b[0mpredict\u001b[0m \u001b[1;33m=\u001b[0m \u001b[0mself\u001b[0m\u001b[1;33m.\u001b[0m\u001b[0m_sparse_predict\u001b[0m \u001b[1;32mif\u001b[0m \u001b[0mself\u001b[0m\u001b[1;33m.\u001b[0m\u001b[0m_sparse\u001b[0m \u001b[1;32melse\u001b[0m \u001b[0mself\u001b[0m\u001b[1;33m.\u001b[0m\u001b[0m_dense_predict\u001b[0m\u001b[1;33m\u001b[0m\u001b[1;33m\u001b[0m\u001b[0m\n\u001b[1;32m--> 344\u001b[1;33m         \u001b[1;32mreturn\u001b[0m \u001b[0mpredict\u001b[0m\u001b[1;33m(\u001b[0m\u001b[0mX\u001b[0m\u001b[1;33m)\u001b[0m\u001b[1;33m\u001b[0m\u001b[1;33m\u001b[0m\u001b[0m\n\u001b[0m\u001b[0;32m    345\u001b[0m \u001b[1;33m\u001b[0m\u001b[0m\n\u001b[0;32m    346\u001b[0m     \u001b[1;32mdef\u001b[0m \u001b[0m_dense_predict\u001b[0m\u001b[1;33m(\u001b[0m\u001b[0mself\u001b[0m\u001b[1;33m,\u001b[0m \u001b[0mX\u001b[0m\u001b[1;33m)\u001b[0m\u001b[1;33m:\u001b[0m\u001b[1;33m\u001b[0m\u001b[1;33m\u001b[0m\u001b[0m\n",
      "\u001b[1;32mc:\\users\\piyush\\appdata\\local\\programs\\python\\python39\\lib\\site-packages\\sklearn\\svm\\_base.py\u001b[0m in \u001b[0;36m_sparse_predict\u001b[1;34m(self, X)\u001b[0m\n\u001b[0;32m    387\u001b[0m             \u001b[0mself\u001b[0m\u001b[1;33m.\u001b[0m\u001b[0mnu\u001b[0m\u001b[1;33m,\u001b[0m \u001b[0mself\u001b[0m\u001b[1;33m.\u001b[0m\u001b[0mepsilon\u001b[0m\u001b[1;33m,\u001b[0m \u001b[0mself\u001b[0m\u001b[1;33m.\u001b[0m\u001b[0mshrinking\u001b[0m\u001b[1;33m,\u001b[0m\u001b[1;33m\u001b[0m\u001b[1;33m\u001b[0m\u001b[0m\n\u001b[0;32m    388\u001b[0m             \u001b[0mself\u001b[0m\u001b[1;33m.\u001b[0m\u001b[0mprobability\u001b[0m\u001b[1;33m,\u001b[0m \u001b[0mself\u001b[0m\u001b[1;33m.\u001b[0m\u001b[0m_n_support\u001b[0m\u001b[1;33m,\u001b[0m\u001b[1;33m\u001b[0m\u001b[1;33m\u001b[0m\u001b[0m\n\u001b[1;32m--> 389\u001b[1;33m             self._probA, self._probB)\n\u001b[0m\u001b[0;32m    390\u001b[0m \u001b[1;33m\u001b[0m\u001b[0m\n\u001b[0;32m    391\u001b[0m     \u001b[1;32mdef\u001b[0m \u001b[0m_compute_kernel\u001b[0m\u001b[1;33m(\u001b[0m\u001b[0mself\u001b[0m\u001b[1;33m,\u001b[0m \u001b[0mX\u001b[0m\u001b[1;33m)\u001b[0m\u001b[1;33m:\u001b[0m\u001b[1;33m\u001b[0m\u001b[1;33m\u001b[0m\u001b[0m\n",
      "\u001b[1;31mAttributeError\u001b[0m: 'SVC' object has no attribute '_probA'"
     ]
    }
   ],
   "source": [
    "predictions = predict_personality(text)\n",
    "print(\"predicted personality:\", predictions)"
   ]
  },
  {
   "cell_type": "code",
   "execution_count": null,
   "metadata": {
    "colab": {
     "base_uri": "https://localhost:8080/"
    },
    "id": "yxgDDq78Ms3t",
    "outputId": "286a242c-a39c-4cd0-cbd2-74d4d41c53a9"
   },
   "outputs": [
    {
     "name": "stdout",
     "output_type": "stream",
     "text": [
      "I cant believe it!  Its really happening!  My pulse is racing like mad. So this is what its like. now I finally know what it feels like. just a few more steps. I wonder if he is going to get any sleep tonight!?  I sure wont!  Well, of course I have a million deadlines to meet tomorrow so Ill be up late anyway. But OH! Im so so excited!  Yes!  Yes!  I cant believe it is finally happening. Wait! Calm down. We arent officially a couple yet. What if I end up not liking him?  That would be horrible. Oh great, I wonder how long itll take me to finish those Calculus problems?  Ill get it done. Dont you always, Amy?  I cant believe Bob did it!  He really did it!  He is THE miracle worker. If things turn out all right I will owe him more than I can ever repay. I wonder what Steve is doing in Malaysia right now?  An entire month!  Ill likely clean out his refrigerator by then. Omigosh!  Food, lunch tomorrow, what will I ever say to him?  He is perfect in every way imaginable. It is so important for him to think of me the same way. well, maybe not Perfect, but certainly dynamic. Who would have ever thought!  Good things do indeed come to those who wait!  Oh, Ill have to remember to sign the poster he made tomorrow morning. I hope Steves alarm clock is reliable and I dont oversleep. That would be tragic if I slept til noon and missed the lunch. Thank goodness Portia is coming along. I will definitely need her support as well as Bobs. just having her there will take away some of the tension and put me more at ease. Ill have to rehearse what I say beforehand. things can only get better from here, right? hopefully. oh, Im so nervous!  He will be too. maybe even more so. it will be ok. Why in the world do humans put themselves through such torture. maybe love is really worth it?\n",
      "\n",
      "Predicted personality:\n",
      "['Not Extraversion', 'Not Neuroticism', 'Not Agreeableness', 'Not Conscientiousness', 'Openness']\n"
     ]
    }
   ],
   "source": [
    "res = predict_final(text)\n",
    "print(text)\n",
    "print(\"\\nPredicted personality:\")\n",
    "print(res)"
   ]
  },
  {
   "cell_type": "code",
   "execution_count": null,
   "metadata": {
    "id": "G4jOjUOGPuji"
   },
   "outputs": [],
   "source": [
    " "
   ]
  },
  {
   "cell_type": "code",
   "execution_count": null,
   "metadata": {
    "id": "1Z0SI1bDSxBk"
   },
   "outputs": [],
   "source": [
    "text = \" Today. Had to turn the music down. Today I went to the KVRX meeting. I  will hopefully have my own radio show. I don’t know what I will talk about.\""
   ]
  },
  {
   "cell_type": "code",
   "execution_count": null,
   "metadata": {
    "colab": {
     "base_uri": "https://localhost:8080/"
    },
    "id": "i5NLluT2S7e7",
    "outputId": "0c666037-2ef7-4839-938c-ee820e4375c3"
   },
   "outputs": [
    {
     "name": "stdout",
     "output_type": "stream",
     "text": [
      " Today. Had to turn the music down. Today I went to the KVRX meeting. I  will hopefully have my own radio show. I don’t know what I will talk about.\n",
      "\n",
      "Predicted personality:\n",
      "['Not Extraversion', 'Not Neuroticism', 'Agreeableness', 'Conscientiousness', 'Openness']\n"
     ]
    }
   ],
   "source": [
    "res = predict_final(text)\n",
    "print(text)\n",
    "print(\"\\nPredicted personality:\")\n",
    "print(res)"
   ]
  },
  {
   "cell_type": "code",
   "execution_count": null,
   "metadata": {
    "id": "DjPXGzeqTQTk"
   },
   "outputs": [],
   "source": [
    "text = \"I am not happy\""
   ]
  },
  {
   "cell_type": "code",
   "execution_count": null,
   "metadata": {
    "colab": {
     "base_uri": "https://localhost:8080/"
    },
    "id": "X9oy31EUXHsC",
    "outputId": "a4db3dd0-2696-4afd-fbd6-b57f662384df"
   },
   "outputs": [
    {
     "name": "stdout",
     "output_type": "stream",
     "text": [
      "I am not happy\n",
      "\n",
      "Predicted personality:\n",
      "['Extraversion', 'Not Neuroticism', 'Agreeableness', 'Not Conscientiousness', 'Not Openness']\n"
     ]
    }
   ],
   "source": [
    "res = predict_final(text)\n",
    "print(text)\n",
    "print(\"\\nPredicted personality:\")\n",
    "print(res)"
   ]
  },
  {
   "cell_type": "code",
   "execution_count": null,
   "metadata": {
    "colab": {
     "base_uri": "https://localhost:8080/"
    },
    "id": "YMbrvDAiZhYT",
    "outputId": "65d2fb54-4901-4ad9-c40f-4f7260748390"
   },
   "outputs": [
    {
     "name": "stdout",
     "output_type": "stream",
     "text": [
      "I am open to discuss personal matters with others\n",
      "\n",
      "Predicted personality:\n",
      "['Not Extraversion', 'Not Neuroticism', 'Agreeableness', 'Conscientiousness', 'Openness']\n"
     ]
    }
   ],
   "source": [
    "text = \"I am open to discuss personal matters with others\"\n",
    "\n",
    "res = predict_final(text)\n",
    "print(text)\n",
    "print(\"\\nPredicted personality:\")\n",
    "print(res)"
   ]
  },
  {
   "cell_type": "code",
   "execution_count": null,
   "metadata": {
    "colab": {
     "base_uri": "https://localhost:8080/"
    },
    "id": "xkIiw3A93g28",
    "outputId": "2f0018f8-dbca-4510-a50f-414cd1fc2014"
   },
   "outputs": [
    {
     "name": "stdout",
     "output_type": "stream",
     "text": [
      "I prefer not to discuss personal matters with others\n",
      "\n",
      "Predicted personality:\n",
      "['Not Extraversion', 'Not Neuroticism', 'Not Agreeableness', 'Conscientiousness', 'Openness']\n"
     ]
    }
   ],
   "source": [
    "text = \"I prefer not to discuss personal matters with others\"\n",
    "\n",
    "res = predict_final(text)\n",
    "print(text)\n",
    "print(\"\\nPredicted personality:\")\n",
    "print(res)"
   ]
  },
  {
   "cell_type": "code",
   "execution_count": null,
   "metadata": {
    "colab": {
     "base_uri": "https://localhost:8080/"
    },
    "id": "snjgVBH83gvn",
    "outputId": "b9f0e4ef-b6f6-4dc5-9a66-9f0302b98f98"
   },
   "outputs": [
    {
     "name": "stdout",
     "output_type": "stream",
     "text": [
      "One time my parents were fighting over my dad's affair and my dad pushed my mom. The fall broke her finger.  She's pointed a gun at him and made him get on his knees and beg for his life. She's...|||I'm gonna talk about what a piece of shit my dad is now.  He's an alcoholic and he has some kind of serious mental problem when it comes to complying with the IRS. (In his words, Laws don't apply...|||OMG...at the women's center I lived at, run by a Catholic charity, the fat bully program manager took it upon herself to change policy so that tenants were FORCED to attend the Christmas party. If...|||I don't work, but I have a calling I am 100% committed to 24/7 with no vacation or off days EVER. I'm a Kundalini mystic.  Oh, I don't get paid, either!  It's one of those destined things...|||My art teacher in high school had a stack of art school catalogs. When I saw the one for the school I ended up going to, I immediately knew that was the one. Without any research. It was like when...|||INFJ  Communication Design  Nope, too much execution, I'm a mystic now|||I got a degree from one of the best schools in the world for that field, but actually having a career in it was unsustainable because it engaged my inferior function directly.  So in my case, even...|||Absolutely|||And I don't know who TF you think in this day and age isn't familiar with employment. ??????? What planet are you living on?! And how did you ever pass kindergarten? Somebody actually employs you?...|||No, it's an issue of taking responsibility for your own sexual response. It's called self-discipline. It starts in the mind. Internalize your sexuality, then you're not at the mercy of how other...|||Oh I think I should also say, if I didn't imply or say it above, that this won't make sense if you've always been healthy -- if you were allowed to develop naturally.  This is for people who were...|||Do something out of character (inferior function immersion) -- this will put you in danger, pumping exciting danger/stress chemicals into your body. Going against the grain. It's the psychological...|||It kind of sounds believable[/QUOTE]  You guys haven't been through stuff like this? Man you've had it easy  You know, last year I spent months hauling my tales of woe around Craigslist rants and...|||HOW TO KNOW IF AN ESTP LIKES YOU  1. They put their hand down your pants|||Don't ESTPs like getting beaten with chains, too? Since you guys are immune to physicality and need as much stimulation as possible to even register being alive...  Getting beaten with chains and...|||ENFPs don't get God-oriented in crisis though|||At first I thought he was an INFJ who'd grown up in his inferior function and was living a false ESTP identity, because my life story parallels his so closely, and that's what happened to me. What...|||Sorry INFJ, fellow INFJ here, ESTPs don't care about anything but your flesh. Have you shared your body with your ESTP? They might miss that, I guess, but it's a long shot...  Physical life here on...|||Not have the ballz? I told my ESTP gf she was a parasite when I dumped her...that was AFTER she'd threatened to punch me in the mouth...|||Oh another thing! Have you ever had sex with a Te person? Te vs Fe sex. Here's how it goes down:  Te person will actually SAY TO YOU, I can't do this if you're gonna make those faces, and will...|||The only reason Te people call everything unstable is because they're TOO SENSITIVE!  They're the unstable ones!!! Can't handle a little Fe brow scrunch! Wow, grow up  That case manager also...|||You've probably been treated like shit your whole life by Te people.  I've been treated like shit just for my Fe facial expressions, and I'm a very cold, controlled person. (Capricorn moon square...|||Eternity > no time > Wen-Nefer|||You know who got defragmented? Osiris   Osiris > underworld > Pluto > shamanism, soul retrieval|||What does the exchange look like where you become more physical and less spiritual?  Or is it always less? Every time we meet I'm less and you're less? Where does that lead?       Yikes....|||I had an ISFJ mother who thought Ni stuff was scary, of the devil, or just insane, so I abandoned Ni at age 5 and learned to hate myself in an effort to stay in her good graces and avoid her wrath. ...|||Although, during Pluto transits, the whole point is to get eaten   But I'm talking about my relationship with Se on a daily basis, when it's not crisis time|||My thing that I'm into is using my inferior as a mirror...like gazing into a scrying mirror   Otherwise I just get eaten by it  IMO that's a proper Ni-Se dynamic|||Oh dear. Trees have stronger and weaker roots, but they never have just one root. Not the healthy ones anyway.  May you find balance.  *hug*[/QUOTE]   My problem has been over identification...|||The dirty people also remind me of people who don't know who they are, they are disempowered, they have no sense of their own vitality, so they're zombies. Moths attracted to a source of light (smoke...|||I've made a lot of sacrifices for my Ni|||I think the trade I'm talking about is an Se-dom meets Ni-dom thing. That sort of interaction could generally be characterized as mutual relief of burden. Or at least that's where it's easiest to...|||Do you identify with the woman who takes in the smoke?  https://www.youtube.com/watch?v=LUc_jXBD9DU  What I've noticed is that there's a trade going on between me and people I encounter (whether...|||You must decode the symbol or you will be impoverished|||I think the INFJ who tries to live a normal life is like a criminal on the run. Eventually you have enough inferior Se experiences that you're now a criminal who is surrounded by cops. You have...|||Everything outside of me is a trap.  Everything in the physical world is a trap  If I get a job, something bad will happen   If I take a walk, something bad will happen   I don't like the...|||Ok so I have an alien/ghost living inside me  It left when I was 5. From that age until 30, I had only negative changes due to constant trauma, cuz I was stuck in my inferior function. I literally...|||wow. you obviously made up your mind what advice you wanted and didn't get it so you're throwing a hissy fit. you did that in your cartoon thread too. it's gross that you're even comparing your...|||I don't even know what your situation is but I'm appalled by the invalidating responses. People who preach about gratitude have either had lives that are far too easy OR they live in denial that...|||INFJ  Daria  I think it's more of a Cap moon thing than a type thing|||The person wants to have sex with me (which is horrific, because I hate physical sex)|||I don't have a FB profile   It's definitely bad for you if you don't like your family or people you went to high school with. I fall into both of those categories.  I prefer strangers. I don't...|||Worst  Dillard's sales associate   My first month there, I reported so much theft 10 people were fired.  Store manager thanked me, ops manager told me to stop reporting so she wouldn't lose her...|||Well, I can tell you what happens when it all goes wrong...  In college, I was at a party in a dorm room. In my dorm building. There was a guy I liked, I cornered him in the bathroom and kissed...|||Ha! Not fair? My younger brother has the entire top floor of the house to himself. That's 2 bedrooms, a living area, and a full bath. All to himself. For free! Even though he makes $40,000 a year. ...|||I already talked about this elsewhere but I like saying it as much as possible because it makes people lose their minds  I only shower once a month, when my period is over. I don't shave anywhere....|||Stay on your turf then. Leave MBTI. If you're an SJ you have nothing to complain about in life because society is structured to make sure you have it easy. You don't need a tool like personality...|||Somebody mentioned not blaming personality type for lack of success or something...  For me it has helped to know the limits of my type so I can stop wanting delusional things like being a pop star...|||I used to get really annoyed because I was surrounded by people who turned everything I said into a meme. You know, like, you have a genuine complaint, and the person invalidates you by not saying...|||I think the only sustainable solution for an INFJ is to value the spirit world over the physical. Invisible support.\n",
      "\n",
      "Predicted personality:\n",
      "['Not Extraversion', 'Not Neuroticism', 'Agreeableness', 'Not Conscientiousness', 'Openness']\n"
     ]
    }
   ],
   "source": [
    "## EXAMPLES FROM MBTI DATASET\n",
    "## INFJ\n",
    "## OPN, AGR, CON\n",
    "text = \"One time my parents were fighting over my dad's affair and my dad pushed my mom. The fall broke her finger.  She's pointed a gun at him and made him get on his knees and beg for his life. She's...|||I'm gonna talk about what a piece of shit my dad is now.  He's an alcoholic and he has some kind of serious mental problem when it comes to complying with the IRS. (In his words, Laws don't apply...|||OMG...at the women's center I lived at, run by a Catholic charity, the fat bully program manager took it upon herself to change policy so that tenants were FORCED to attend the Christmas party. If...|||I don't work, but I have a calling I am 100% committed to 24/7 with no vacation or off days EVER. I'm a Kundalini mystic.  Oh, I don't get paid, either!  It's one of those destined things...|||My art teacher in high school had a stack of art school catalogs. When I saw the one for the school I ended up going to, I immediately knew that was the one. Without any research. It was like when...|||INFJ  Communication Design  Nope, too much execution, I'm a mystic now|||I got a degree from one of the best schools in the world for that field, but actually having a career in it was unsustainable because it engaged my inferior function directly.  So in my case, even...|||Absolutely|||And I don't know who TF you think in this day and age isn't familiar with employment. ??????? What planet are you living on?! And how did you ever pass kindergarten? Somebody actually employs you?...|||No, it's an issue of taking responsibility for your own sexual response. It's called self-discipline. It starts in the mind. Internalize your sexuality, then you're not at the mercy of how other...|||Oh I think I should also say, if I didn't imply or say it above, that this won't make sense if you've always been healthy -- if you were allowed to develop naturally.  This is for people who were...|||Do something out of character (inferior function immersion) -- this will put you in danger, pumping exciting danger/stress chemicals into your body. Going against the grain. It's the psychological...|||It kind of sounds believable[/QUOTE]  You guys haven't been through stuff like this? Man you've had it easy  You know, last year I spent months hauling my tales of woe around Craigslist rants and...|||HOW TO KNOW IF AN ESTP LIKES YOU  1. They put their hand down your pants|||Don't ESTPs like getting beaten with chains, too? Since you guys are immune to physicality and need as much stimulation as possible to even register being alive...  Getting beaten with chains and...|||ENFPs don't get God-oriented in crisis though|||At first I thought he was an INFJ who'd grown up in his inferior function and was living a false ESTP identity, because my life story parallels his so closely, and that's what happened to me. What...|||Sorry INFJ, fellow INFJ here, ESTPs don't care about anything but your flesh. Have you shared your body with your ESTP? They might miss that, I guess, but it's a long shot...  Physical life here on...|||Not have the ballz? I told my ESTP gf she was a parasite when I dumped her...that was AFTER she'd threatened to punch me in the mouth...|||Oh another thing! Have you ever had sex with a Te person? Te vs Fe sex. Here's how it goes down:  Te person will actually SAY TO YOU, I can't do this if you're gonna make those faces, and will...|||The only reason Te people call everything unstable is because they're TOO SENSITIVE!  They're the unstable ones!!! Can't handle a little Fe brow scrunch! Wow, grow up  That case manager also...|||You've probably been treated like shit your whole life by Te people.  I've been treated like shit just for my Fe facial expressions, and I'm a very cold, controlled person. (Capricorn moon square...|||Eternity > no time > Wen-Nefer|||You know who got defragmented? Osiris   Osiris > underworld > Pluto > shamanism, soul retrieval|||What does the exchange look like where you become more physical and less spiritual?  Or is it always less? Every time we meet I'm less and you're less? Where does that lead?       Yikes....|||I had an ISFJ mother who thought Ni stuff was scary, of the devil, or just insane, so I abandoned Ni at age 5 and learned to hate myself in an effort to stay in her good graces and avoid her wrath. ...|||Although, during Pluto transits, the whole point is to get eaten   But I'm talking about my relationship with Se on a daily basis, when it's not crisis time|||My thing that I'm into is using my inferior as a mirror...like gazing into a scrying mirror   Otherwise I just get eaten by it  IMO that's a proper Ni-Se dynamic|||Oh dear. Trees have stronger and weaker roots, but they never have just one root. Not the healthy ones anyway.  May you find balance.  *hug*[/QUOTE]   My problem has been over identification...|||The dirty people also remind me of people who don't know who they are, they are disempowered, they have no sense of their own vitality, so they're zombies. Moths attracted to a source of light (smoke...|||I've made a lot of sacrifices for my Ni|||I think the trade I'm talking about is an Se-dom meets Ni-dom thing. That sort of interaction could generally be characterized as mutual relief of burden. Or at least that's where it's easiest to...|||Do you identify with the woman who takes in the smoke?  https://www.youtube.com/watch?v=LUc_jXBD9DU  What I've noticed is that there's a trade going on between me and people I encounter (whether...|||You must decode the symbol or you will be impoverished|||I think the INFJ who tries to live a normal life is like a criminal on the run. Eventually you have enough inferior Se experiences that you're now a criminal who is surrounded by cops. You have...|||Everything outside of me is a trap.  Everything in the physical world is a trap  If I get a job, something bad will happen   If I take a walk, something bad will happen   I don't like the...|||Ok so I have an alien/ghost living inside me  It left when I was 5. From that age until 30, I had only negative changes due to constant trauma, cuz I was stuck in my inferior function. I literally...|||wow. you obviously made up your mind what advice you wanted and didn't get it so you're throwing a hissy fit. you did that in your cartoon thread too. it's gross that you're even comparing your...|||I don't even know what your situation is but I'm appalled by the invalidating responses. People who preach about gratitude have either had lives that are far too easy OR they live in denial that...|||INFJ  Daria  I think it's more of a Cap moon thing than a type thing|||The person wants to have sex with me (which is horrific, because I hate physical sex)|||I don't have a FB profile   It's definitely bad for you if you don't like your family or people you went to high school with. I fall into both of those categories.  I prefer strangers. I don't...|||Worst  Dillard's sales associate   My first month there, I reported so much theft 10 people were fired.  Store manager thanked me, ops manager told me to stop reporting so she wouldn't lose her...|||Well, I can tell you what happens when it all goes wrong...  In college, I was at a party in a dorm room. In my dorm building. There was a guy I liked, I cornered him in the bathroom and kissed...|||Ha! Not fair? My younger brother has the entire top floor of the house to himself. That's 2 bedrooms, a living area, and a full bath. All to himself. For free! Even though he makes $40,000 a year. ...|||I already talked about this elsewhere but I like saying it as much as possible because it makes people lose their minds  I only shower once a month, when my period is over. I don't shave anywhere....|||Stay on your turf then. Leave MBTI. If you're an SJ you have nothing to complain about in life because society is structured to make sure you have it easy. You don't need a tool like personality...|||Somebody mentioned not blaming personality type for lack of success or something...  For me it has helped to know the limits of my type so I can stop wanting delusional things like being a pop star...|||I used to get really annoyed because I was surrounded by people who turned everything I said into a meme. You know, like, you have a genuine complaint, and the person invalidates you by not saying...|||I think the only sustainable solution for an INFJ is to value the spirit world over the physical. Invisible support.\"\n",
    "\n",
    "res = predict_final(text)\n",
    "print(text)\n",
    "print(\"\\nPredicted personality:\")\n",
    "print(res)"
   ]
  },
  {
   "cell_type": "code",
   "execution_count": null,
   "metadata": {
    "colab": {
     "base_uri": "https://localhost:8080/"
    },
    "id": "OnIDc_tF4GDH",
    "outputId": "6c44f144-a7df-414c-e972-a7f0eb39e283"
   },
   "outputs": [
    {
     "name": "stdout",
     "output_type": "stream",
     "text": [
      "'Hey ENFPs. I've posted this thread on the philosophy board too, but I am really curious to reading responses from ENFPs in particular.  I've realized that I am quite prone to the following:    ...|||I don't believe in any religion. I think religions are a form of control to unify a population under a common spirituality, and give room for love, compassion, and communal growth (although,...|||The reconstruction of a planet once called Earth  PART 1 - DARKNESS  You are a transparent blob of energy floating, wandering through this planet.  The only kingdom that exists now is Plantae,...|||Or merely acceptance?  Haha, fuck. Got carried away and pretty much drifted away from the intended topic of discussion, wasn't interested in emphasizing philosophy on this thread, but just to focus...|||Do you cross the line?  Perhaps for the sake of humour and freedom interlinked with a degree of honesty.   You know what people 'tick' or 'react' too. Methods and reactions... Taboo? Irrational...|||I was singing I'm singing in the rain' by Gene Kelly in the shower quite frequently after having watched Clockwork Orange.|||Finish the game?  I basically become the game. I've had plenty of games where I've sat there literally day & night till I've completed it, at which point, I discard the game and never play it...|||We find a hideous looking fish on the beach, whose jaws are clenched tight for some reason, and decide to aid it. Iâ€™m with two people, who help me open the fishâ€™s mouth while I brush it with salt,...|||By accepting that he just wants to be happy, I guess. Yeah no doubt it would be hard to get close eh. :rolleyes:|||Haha yeah, but I also feel like an ass for putting that negative spin on and doubting their sincerity, and reacting to it. That's clearly insecure behaviour, no matter if we are right or wrong. Fe-Ni...|||ENFJs are sneaky little bastards.|||http://www.youtube.com/watch?v=4XmKMdgw68g   Maybe this will give you some ideas.|||Lithium Energizer batteries AA+ right up the butt.  Seriously bound to startle you into hyperactivity.   ...If you're into that sorta thing. :rolleyes:   I'd recommend keeping 'em up there,...|||Described by teachers through the years repeatedly as:  Lazy. Full of potential. (Oh boy do I hear this one a-lot) An uncut diamond. (Seriously) :blushed: A druggy. Not serious. Overly focused...|||I don't think she feels the same way you do, and that can make her feel insincere, and thus fake - which can make her lose her sense of self, make her feel empty. Not good.  Either that or she's...|||Sometimes I feel like I can read people or situations pretty well with my intuition. Although there are times where I realized that although I thought I could read a significant person, it turned out...|||Well there goes one friend down the drain.|||Then I've given you legit advice, girl. If you continue to accept how it is now (with what you've been happy with and with what has been making your heart race) without trying to push it forward...|||Oh yeah, same problem. Alcohol is the solution.   I had this issue just a week ago. A friend of mine had people over at his for a whole bloody week. It was a strange group, but I'm friends with...|||Aye. I agree with that to an extent. I believe a good majority of 'em will end up being too absorbed in their own issues, or just thinking your issues are retarded? Still, I'd like to believe that...|||If he's not interested, then you owe it to yourself to know that he doesn't deserve you.  Don't think of this in a superior way. It's really just being true to yourself.  You deserve love, if he...|||What do you guys think of going to a therapist in times of distress/depression?   Would you deal with it yourself?  Would you find it easier to open up to a therapist rather than a close friend,...|||to get jiggy?|||Haha yeah. The brain is so un-predictable... Always puts on a show at the strangest (usually not appropriate) times. *Sigh*  I relate to you though. Seems a burst of creative thought comes into...|||You become horizontally taller.   Kidding... Kinda. Anyway, I don't want to label it as 'love'. It's just somit you feel. I'd say it's like a drug, which you just can't get enough of. A feeling of...|||Nah, that infection existed a long time ago, my friend. Step 1 is acceptance, not denial.  Did I mention how serious I was?|||Haha didn't even think of it as a poem, but I see. It's more in context with the theory of one-consciousness.   Yeah, an illusion held in place by fear and ignorance.  Thanks man, yeah I did.|||Ripples, waves on an ocean, the source of life, as to matter on pure abstract consciousness, the source of everything.  We are manipulated into being trapped and to direct our attention to several...|||I find my beliefs difficult to explain if I'm not clear headed; because I myself can lose touch with them. I'm not clear headed atm, but anyway.  I believe in an inconceivable higher power. Within...|||Push ups.   Lots of push ups.   It might start off to be something like this:   http://www.youtube.com/watch?v=2OM9XunhU4M|||1. Has anyone been fully engulfed in the present moment? The future and the past wiped clear off the mind.  2. If so, how did it feel?   4. How did you achieve this feeling of presence?   5....|||Yeah, if you want to try the meditation, this will help:   http://www.youtube.com/watch?v=aS5QpPRFdbg|||Time will cure the pain man. Listen to appropriate music, take in the emotion, feel it even if it hurts, let it out. Scream (pillow, under-water e.g. bath) if you need too. Watch comedy stand-ups;...|||Humanity living as one, with love and compassion on every front.  Living with nature in a symbiotic relationship with technology producing a self-sustained community where air is fresh and life is...|||In my heart I see no doubt, That life is love forever sung, In the air it flows with dust, Inside everything made of mud   Out of time.. and creativity. :sad:  EDIT:|||Dreams are just as 'real' as anything else. You experience it, don't you? The same way you experience 'life'.   What if dreams are just the imagination, and the creation of ideas. Those ideas get...|||Song I'm currently stuck on, and is giving me proper chills, especially mid way; a surge of emotion just explodes. I really do advise you wear earphones if you haven't heard this song before.. Lyrics...|||Why do ENFPs think they're close to being an INFP? Fallacy.  Primary Fi w/ auxillary Ne is very different from Primary Ne w/ auxillary Fi.   The auxillaries aim is to support the primary,...|||Ha. What is civilization? Cruelty, injustice, inequality, thievery etc. overshadowed by men dressed in suits and playing with words on live TV? Retail or other industries (food, clothing etc) with no...|||I don't see the issue of being able to watch brutal videos. I can do it quite easily without getting a feeling of utter disgust or cringing.   That doesn't mean I don't care about the state of the...|||Yeah at first glance it is ironic.  But maybe, it expresses people who love Love telling the haters to fuck off... Fuck you, if you don't, err, love....love.|||Oh, I agree.|||Yeah. We emit a certain vibe or energy with our wild and free Ne; so I guess the ladies sense that and are attracted and intrigued.  It's funny watching most of my friends make conscious effort to...|||I believe in in consciousness. The idea of universal 'love', a 'oneness', a deep connection with nature - it is self-awareness that has created subjective interpretations of physical matter and...|||Typical ENTP.. Can't help but flirt. Poor guy. I'm sure you can just keep it light and fun - small talk and what not, he'll eventually understand you're not into him.. Yes, it will happen - my guess...|||Shit man, I think when you produce a mental image of yourself in your head, you directly start to think of who you are as a person subjectively, and produce an subjective mental image based on...|||I'm an INTP male, and have more or less been raped by an INTJ female.  Repeatedly.  I quite enjoyed it.|||^ Probably just the boobs... Or whatever else is 'aesthetically' pleasing. :tongue:|||Why do you think you have potential with her? What age span of lady are we speaking about here?|||Interesting question, of what I'm thinking in the present, is thought linear? Of-course not (Although it seems that is today's civilization's mentality, and you wonder why national happiness or...'\n",
      "\n",
      "Predicted personality:\n",
      "['Extraversion', 'Not Neuroticism', 'Agreeableness', 'Not Conscientiousness', 'Openness']\n"
     ]
    }
   ],
   "source": [
    "## ENFP\n",
    "## EXT, OPN, AGR\n",
    "\n",
    "text = \"'Hey ENFPs. I've posted this thread on the philosophy board too, but I am really curious to reading responses from ENFPs in particular.  I've realized that I am quite prone to the following:    ...|||I don't believe in any religion. I think religions are a form of control to unify a population under a common spirituality, and give room for love, compassion, and communal growth (although,...|||The reconstruction of a planet once called Earth  PART 1 - DARKNESS  You are a transparent blob of energy floating, wandering through this planet.  The only kingdom that exists now is Plantae,...|||Or merely acceptance?  Haha, fuck. Got carried away and pretty much drifted away from the intended topic of discussion, wasn't interested in emphasizing philosophy on this thread, but just to focus...|||Do you cross the line?  Perhaps for the sake of humour and freedom interlinked with a degree of honesty.   You know what people 'tick' or 'react' too. Methods and reactions... Taboo? Irrational...|||I was singing I'm singing in the rain' by Gene Kelly in the shower quite frequently after having watched Clockwork Orange.|||Finish the game?  I basically become the game. I've had plenty of games where I've sat there literally day & night till I've completed it, at which point, I discard the game and never play it...|||We find a hideous looking fish on the beach, whose jaws are clenched tight for some reason, and decide to aid it. Iâ€™m with two people, who help me open the fishâ€™s mouth while I brush it with salt,...|||By accepting that he just wants to be happy, I guess. Yeah no doubt it would be hard to get close eh. :rolleyes:|||Haha yeah, but I also feel like an ass for putting that negative spin on and doubting their sincerity, and reacting to it. That's clearly insecure behaviour, no matter if we are right or wrong. Fe-Ni...|||ENFJs are sneaky little bastards.|||http://www.youtube.com/watch?v=4XmKMdgw68g   Maybe this will give you some ideas.|||Lithium Energizer batteries AA+ right up the butt.  Seriously bound to startle you into hyperactivity.   ...If you're into that sorta thing. :rolleyes:   I'd recommend keeping 'em up there,...|||Described by teachers through the years repeatedly as:  Lazy. Full of potential. (Oh boy do I hear this one a-lot) An uncut diamond. (Seriously) :blushed: A druggy. Not serious. Overly focused...|||I don't think she feels the same way you do, and that can make her feel insincere, and thus fake - which can make her lose her sense of self, make her feel empty. Not good.  Either that or she's...|||Sometimes I feel like I can read people or situations pretty well with my intuition. Although there are times where I realized that although I thought I could read a significant person, it turned out...|||Well there goes one friend down the drain.|||Then I've given you legit advice, girl. If you continue to accept how it is now (with what you've been happy with and with what has been making your heart race) without trying to push it forward...|||Oh yeah, same problem. Alcohol is the solution.   I had this issue just a week ago. A friend of mine had people over at his for a whole bloody week. It was a strange group, but I'm friends with...|||Aye. I agree with that to an extent. I believe a good majority of 'em will end up being too absorbed in their own issues, or just thinking your issues are retarded? Still, I'd like to believe that...|||If he's not interested, then you owe it to yourself to know that he doesn't deserve you.  Don't think of this in a superior way. It's really just being true to yourself.  You deserve love, if he...|||What do you guys think of going to a therapist in times of distress/depression?   Would you deal with it yourself?  Would you find it easier to open up to a therapist rather than a close friend,...|||to get jiggy?|||Haha yeah. The brain is so un-predictable... Always puts on a show at the strangest (usually not appropriate) times. *Sigh*  I relate to you though. Seems a burst of creative thought comes into...|||You become horizontally taller.   Kidding... Kinda. Anyway, I don't want to label it as 'love'. It's just somit you feel. I'd say it's like a drug, which you just can't get enough of. A feeling of...|||Nah, that infection existed a long time ago, my friend. Step 1 is acceptance, not denial.  Did I mention how serious I was?|||Haha didn't even think of it as a poem, but I see. It's more in context with the theory of one-consciousness.   Yeah, an illusion held in place by fear and ignorance.  Thanks man, yeah I did.|||Ripples, waves on an ocean, the source of life, as to matter on pure abstract consciousness, the source of everything.  We are manipulated into being trapped and to direct our attention to several...|||I find my beliefs difficult to explain if I'm not clear headed; because I myself can lose touch with them. I'm not clear headed atm, but anyway.  I believe in an inconceivable higher power. Within...|||Push ups.   Lots of push ups.   It might start off to be something like this:   http://www.youtube.com/watch?v=2OM9XunhU4M|||1. Has anyone been fully engulfed in the present moment? The future and the past wiped clear off the mind.  2. If so, how did it feel?   4. How did you achieve this feeling of presence?   5....|||Yeah, if you want to try the meditation, this will help:   http://www.youtube.com/watch?v=aS5QpPRFdbg|||Time will cure the pain man. Listen to appropriate music, take in the emotion, feel it even if it hurts, let it out. Scream (pillow, under-water e.g. bath) if you need too. Watch comedy stand-ups;...|||Humanity living as one, with love and compassion on every front.  Living with nature in a symbiotic relationship with technology producing a self-sustained community where air is fresh and life is...|||In my heart I see no doubt, That life is love forever sung, In the air it flows with dust, Inside everything made of mud   Out of time.. and creativity. :sad:  EDIT:|||Dreams are just as 'real' as anything else. You experience it, don't you? The same way you experience 'life'.   What if dreams are just the imagination, and the creation of ideas. Those ideas get...|||Song I'm currently stuck on, and is giving me proper chills, especially mid way; a surge of emotion just explodes. I really do advise you wear earphones if you haven't heard this song before.. Lyrics...|||Why do ENFPs think they're close to being an INFP? Fallacy.  Primary Fi w/ auxillary Ne is very different from Primary Ne w/ auxillary Fi.   The auxillaries aim is to support the primary,...|||Ha. What is civilization? Cruelty, injustice, inequality, thievery etc. overshadowed by men dressed in suits and playing with words on live TV? Retail or other industries (food, clothing etc) with no...|||I don't see the issue of being able to watch brutal videos. I can do it quite easily without getting a feeling of utter disgust or cringing.   That doesn't mean I don't care about the state of the...|||Yeah at first glance it is ironic.  But maybe, it expresses people who love Love telling the haters to fuck off... Fuck you, if you don't, err, love....love.|||Oh, I agree.|||Yeah. We emit a certain vibe or energy with our wild and free Ne; so I guess the ladies sense that and are attracted and intrigued.  It's funny watching most of my friends make conscious effort to...|||I believe in in consciousness. The idea of universal 'love', a 'oneness', a deep connection with nature - it is self-awareness that has created subjective interpretations of physical matter and...|||Typical ENTP.. Can't help but flirt. Poor guy. I'm sure you can just keep it light and fun - small talk and what not, he'll eventually understand you're not into him.. Yes, it will happen - my guess...|||Shit man, I think when you produce a mental image of yourself in your head, you directly start to think of who you are as a person subjectively, and produce an subjective mental image based on...|||I'm an INTP male, and have more or less been raped by an INTJ female.  Repeatedly.  I quite enjoyed it.|||^ Probably just the boobs... Or whatever else is 'aesthetically' pleasing. :tongue:|||Why do you think you have potential with her? What age span of lady are we speaking about here?|||Interesting question, of what I'm thinking in the present, is thought linear? Of-course not (Although it seems that is today's civilization's mentality, and you wonder why national happiness or...'\"\n",
    "\n",
    "res = predict_final(text)\n",
    "print(text)\n",
    "print(\"\\nPredicted personality:\")\n",
    "print(res)"
   ]
  },
  {
   "cell_type": "code",
   "execution_count": null,
   "metadata": {
    "colab": {
     "base_uri": "https://localhost:8080/"
    },
    "id": "ywebGaCi5msv",
    "outputId": "167d624d-f373-4b90-f897-218cf7954119"
   },
   "outputs": [
    {
     "name": "stdout",
     "output_type": "stream",
     "text": [
      "I love reading, and I wish I wasn't allergic to dust, so I could read all those beautiful, old, dusty books. I love seeing people smile.|||I like using teaspoons rather tan tablespoons, even for soup :)|||I love funky knee socks!|||When you're about to go abroad for 10 months, on a trip you've been looking forward to for years, and *suddenly* all you can think about is how much you're going to miss all those you love, who...|||Looks as if we INFPs follow the majority of the population in this. Ah, well, we can't all be non-conformists :Pl|||No one's ever said this to me, but I actually am, for the most part, a happy person.|||This time I came out:  Hufflepuff - 15 Ravenclaw - 13 Gryffindor - 9 Slytherin - 7  But I've taken tons of other HP quizzes and they always come out different. Sometimes Ravenclaw, sometimes...|||I second Senhorfrio's notion. People, even parents - especially parents - do not have a right to abuse others, not matter what they do!|||You don't care enough  Don't you ever think about taking a break?  You have no principles|||I Lived  Train me to think Then I will wonder Train me to wonder Then I will blunder Train me to blunder Then I will seek Train me to seek Then I will peek -|||Ever After quote ( I know, I know, sappy movie - but what can I say? At heart I am truly a sap :P )  [after DaVinci opens a locked door by removing the pins from the hinges] Louise: Why, that was...|||You're welcome :)|||Weirdest thing. I was about to answer the poll and I realized I didn't know which answer to click. I used cry quite often, since I've always been sensitive, but recently I've been crying less and...|||Hiya. I'm an INFP girl, but sorry no videos. Even if I was so inclined as to make one, the only computer with internet renders it impossible for multiple reasons. I do enjoy seeing everyone else...|||Great idea! :)  Here's some of mine:  Just because you can't reach the speed of light doesn't mean you shouldn't try and go faster.  We things harder by thinking they are hard.  Happiness is...|||I ditto all that's been said. You definitely did the right thing, try to feel that - even if some tough stuff happens. I wish you all the best.|||The Tunes of Life  March, march Hup to right And march, march Hup to right  Slow and steady Beat by beat We progress, we digress|||Excuse me, but I think you should correct the everyone in that statement. I'm perfectly alright with being a P. More spontaneity can be not such bad thing; - makes life more interesting :) Besides,...|||Hey sorry, but I've got to disagree. I'm an INFP and I'm almost positive I want to be a high school teacher, (though I'm open to the idea of elementary too - I love people, but especially kids). I've...|||I am the one who, when she was four, preferred to sit on the playground and watch others play. I am the one who can secretly cry for your pain, and show you the biggest smile if I know that's what...|||These definitely sound like me, and are things that make my non-idealist friends roll their eyes at me.  None to add of my own since I can't ell how many of my weird habits are INFP-related, how...|||I'm a suburb girl. I really like how where I am mixes nature and civilization. I live around a fifteen minute (give or take) drive from just about any entertainment I could want (library, movie...|||My two newest poems (just typed today):  Flying Sight  To sleep upon the eagle's wings, And dream of flying high. To soar beyond all mundane things; Make real the longing sigh.  Up and up...|||infpnerdgirl, I'm actually quite fond of your name. It makes me smile every time I see it. Goes pretty well with your picture of Belle too :)|||Mine's rather boring, (especially after reading everyone elses' cool explanations), but here we go: A. B. and G. are my initials and 613...is kind of hard to explain - let's just say it's my favorite...|||Thanks for answering! Interesting, I've always been fascinated by the ambiguity of that line; it can be interpreted in so many ways.  Here are my two favorites:  A Psalm of Life  By Henry...|||Hey, SenhorFrio, I've read a bunch of your posts and your thoughts sparked my curioisty. What you think the line  I took the one less traveled by, And that has made all the difference. means? ...|||My mom, (who I'm pretty sure is a Guardian), does that all the time. She can't stay mad. If you smile at her she has to smile back. I'm somewhat like that, but that's only when I'm mad and trying to...|||I stand corrected. You're right, someone might kill someone else for their beliefs in America, but at least it's not legal to dos o (unless of course one's religion says you have to go around killing...|||Ummm might I point out: America is where you have freedom of speech AND  religion ( no one is trying to KILL you because of what you believe -  being from a religion where people having been trying...|||And mine are brown. Just about as brown as eyes can get in fact :)|||I'm an INFP and I'm almost always happy. I don't know if it's about imagining that you're happy, though i do think tour perspective is a big factor. I think it's all about appreciating whatever you...|||*grin* I early started introspecting at age 12. I found out about MBTI at age 16, from a teacher/mentor/friend of mine. It's just one way to look at yourself, and I don't think anyone fits perfectly...|||My advice is: don't wait till you get out. Otherwise you'll have wasted a good chunk of your life! What is that you want to do when you leave, start thinking about it now, or if you already know,...|||It's an interesting idea, but you can have too much of a good thing...|||Hilarious! I agree that I had to work very hard on myself to become a good listener... it's so easy to just wander off into your own mind and get stuck there.  I am the one who longs to share all...|||I just graduated, and I can honestly say I loved high school. Not that I loved every class, or was thrilled at every event, but that generally it was loads of fun and a great learning experience. I'm...|||I like teh song too, but seriously dude, smoking's not just bad for you, it can KILL you. You should try and quit. I mean just go google some pics of a smokers lungs vs. a non smoker - it's enough to...|||I also love being a INFP. I got lucky, though my parents are a guardians they've always been very supportive of me, and encouraged my creativity and different perspective on life. Also, I somehow...|||Thanks, I  really like your poem that's at the top of this page :) If  you'd like to see more of my poetry you can find it on poem hunter. Just  type Atara into the search box, I'm the only Atara...|||Wow, how do I choose just one poem to share? Hmmm - oh I know this is perfect.! it's one I wrote when I was in eighth grade, but I still like it. It's very INFPish *grin*. Well, here we go:  Quite...|||Hmmm, this is such an interesting idea, let's see....small, quirky detail? How about that I have this weird opinion that no one is normal, and that in fact it is utterly impossible to entirely...\n",
      "\n",
      "Predicted personality:\n",
      "['Not Extraversion', 'Not Neuroticism', 'Agreeableness', 'Not Conscientiousness', 'Openness']\n"
     ]
    }
   ],
   "source": [
    "## INFP\n",
    "## AGR, OPN\n",
    "\n",
    "text = \"I love reading, and I wish I wasn't allergic to dust, so I could read all those beautiful, old, dusty books. I love seeing people smile.|||I like using teaspoons rather tan tablespoons, even for soup :)|||I love funky knee socks!|||When you're about to go abroad for 10 months, on a trip you've been looking forward to for years, and *suddenly* all you can think about is how much you're going to miss all those you love, who...|||Looks as if we INFPs follow the majority of the population in this. Ah, well, we can't all be non-conformists :Pl|||No one's ever said this to me, but I actually am, for the most part, a happy person.|||This time I came out:  Hufflepuff - 15 Ravenclaw - 13 Gryffindor - 9 Slytherin - 7  But I've taken tons of other HP quizzes and they always come out different. Sometimes Ravenclaw, sometimes...|||I second Senhorfrio's notion. People, even parents - especially parents - do not have a right to abuse others, not matter what they do!|||You don't care enough  Don't you ever think about taking a break?  You have no principles|||I Lived  Train me to think Then I will wonder Train me to wonder Then I will blunder Train me to blunder Then I will seek Train me to seek Then I will peek -|||Ever After quote ( I know, I know, sappy movie - but what can I say? At heart I am truly a sap :P )  [after DaVinci opens a locked door by removing the pins from the hinges] Louise: Why, that was...|||You're welcome :)|||Weirdest thing. I was about to answer the poll and I realized I didn't know which answer to click. I used cry quite often, since I've always been sensitive, but recently I've been crying less and...|||Hiya. I'm an INFP girl, but sorry no videos. Even if I was so inclined as to make one, the only computer with internet renders it impossible for multiple reasons. I do enjoy seeing everyone else...|||Great idea! :)  Here's some of mine:  Just because you can't reach the speed of light doesn't mean you shouldn't try and go faster.  We things harder by thinking they are hard.  Happiness is...|||I ditto all that's been said. You definitely did the right thing, try to feel that - even if some tough stuff happens. I wish you all the best.|||The Tunes of Life  March, march Hup to right And march, march Hup to right  Slow and steady Beat by beat We progress, we digress|||Excuse me, but I think you should correct the everyone in that statement. I'm perfectly alright with being a P. More spontaneity can be not such bad thing; - makes life more interesting :) Besides,...|||Hey sorry, but I've got to disagree. I'm an INFP and I'm almost positive I want to be a high school teacher, (though I'm open to the idea of elementary too - I love people, but especially kids). I've...|||I am the one who, when she was four, preferred to sit on the playground and watch others play. I am the one who can secretly cry for your pain, and show you the biggest smile if I know that's what...|||These definitely sound like me, and are things that make my non-idealist friends roll their eyes at me.  None to add of my own since I can't ell how many of my weird habits are INFP-related, how...|||I'm a suburb girl. I really like how where I am mixes nature and civilization. I live around a fifteen minute (give or take) drive from just about any entertainment I could want (library, movie...|||My two newest poems (just typed today):  Flying Sight  To sleep upon the eagle's wings, And dream of flying high. To soar beyond all mundane things; Make real the longing sigh.  Up and up...|||infpnerdgirl, I'm actually quite fond of your name. It makes me smile every time I see it. Goes pretty well with your picture of Belle too :)|||Mine's rather boring, (especially after reading everyone elses' cool explanations), but here we go: A. B. and G. are my initials and 613...is kind of hard to explain - let's just say it's my favorite...|||Thanks for answering! Interesting, I've always been fascinated by the ambiguity of that line; it can be interpreted in so many ways.  Here are my two favorites:  A Psalm of Life  By Henry...|||Hey, SenhorFrio, I've read a bunch of your posts and your thoughts sparked my curioisty. What you think the line  I took the one less traveled by, And that has made all the difference. means? ...|||My mom, (who I'm pretty sure is a Guardian), does that all the time. She can't stay mad. If you smile at her she has to smile back. I'm somewhat like that, but that's only when I'm mad and trying to...|||I stand corrected. You're right, someone might kill someone else for their beliefs in America, but at least it's not legal to dos o (unless of course one's religion says you have to go around killing...|||Ummm might I point out: America is where you have freedom of speech AND  religion ( no one is trying to KILL you because of what you believe -  being from a religion where people having been trying...|||And mine are brown. Just about as brown as eyes can get in fact :)|||I'm an INFP and I'm almost always happy. I don't know if it's about imagining that you're happy, though i do think tour perspective is a big factor. I think it's all about appreciating whatever you...|||*grin* I early started introspecting at age 12. I found out about MBTI at age 16, from a teacher/mentor/friend of mine. It's just one way to look at yourself, and I don't think anyone fits perfectly...|||My advice is: don't wait till you get out. Otherwise you'll have wasted a good chunk of your life! What is that you want to do when you leave, start thinking about it now, or if you already know,...|||It's an interesting idea, but you can have too much of a good thing...|||Hilarious! I agree that I had to work very hard on myself to become a good listener... it's so easy to just wander off into your own mind and get stuck there.  I am the one who longs to share all...|||I just graduated, and I can honestly say I loved high school. Not that I loved every class, or was thrilled at every event, but that generally it was loads of fun and a great learning experience. I'm...|||I like teh song too, but seriously dude, smoking's not just bad for you, it can KILL you. You should try and quit. I mean just go google some pics of a smokers lungs vs. a non smoker - it's enough to...|||I also love being a INFP. I got lucky, though my parents are a guardians they've always been very supportive of me, and encouraged my creativity and different perspective on life. Also, I somehow...|||Thanks, I  really like your poem that's at the top of this page :) If  you'd like to see more of my poetry you can find it on poem hunter. Just  type Atara into the search box, I'm the only Atara...|||Wow, how do I choose just one poem to share? Hmmm - oh I know this is perfect.! it's one I wrote when I was in eighth grade, but I still like it. It's very INFPish *grin*. Well, here we go:  Quite...|||Hmmm, this is such an interesting idea, let's see....small, quirky detail? How about that I have this weird opinion that no one is normal, and that in fact it is utterly impossible to entirely...\"\n",
    "\n",
    "res = predict_final(text)\n",
    "print(text)\n",
    "print(\"\\nPredicted personality:\")\n",
    "print(res)"
   ]
  },
  {
   "cell_type": "code",
   "execution_count": null,
   "metadata": {
    "colab": {
     "base_uri": "https://localhost:8080/"
    },
    "id": "mTZ0kd_i7P5P",
    "outputId": "3cc09eed-62f6-4dc0-ab2c-a976f4d1e173"
   },
   "outputs": [
    {
     "name": "stdout",
     "output_type": "stream",
     "text": [
      "I am very happy\n",
      "\n",
      "Predicted personality:\n",
      "['Extraversion', 'Not Neuroticism', 'Agreeableness', 'Not Conscientiousness', 'Openness']\n"
     ]
    }
   ],
   "source": [
    "text = \"I am very happy\"\n",
    "\n",
    "res = predict_final(text)\n",
    "print(text)\n",
    "print(\"\\nPredicted personality:\")\n",
    "print(res)"
   ]
  },
  {
   "cell_type": "code",
   "execution_count": null,
   "metadata": {
    "colab": {
     "base_uri": "https://localhost:8080/"
    },
    "id": "f8BXwda28BSw",
    "outputId": "7a1ea048-f638-4047-f570-87282e1692f1"
   },
   "outputs": [
    {
     "name": "stdout",
     "output_type": "stream",
     "text": [
      "The role is very appealing to me, and I believe that my strong technical experience and education make me a highly competitive candidate for this position. My key strengths that would support my success in this position include:\n",
      "\n",
      "Predicted personality:\n",
      "['Not Extraversion', 'Not Neuroticism', 'Not Agreeableness', 'Not Conscientiousness', 'Openness']\n"
     ]
    }
   ],
   "source": [
    "text = \"The role is very appealing to me, and I believe that my strong technical experience and education make me a highly competitive candidate for this position. My key strengths that would support my success in this position include:\"\n",
    "\n",
    "res = predict_final(text)\n",
    "print(text)\n",
    "print(\"\\nPredicted personality:\")\n",
    "print(res)"
   ]
  },
  {
   "cell_type": "code",
   "execution_count": null,
   "metadata": {
    "id": "ecm2biWg--OW"
   },
   "outputs": [],
   "source": []
  }
 ],
 "metadata": {
  "colab": {
   "collapsed_sections": [],
   "name": "Final_prediction.ipynb",
   "provenance": []
  },
  "kernelspec": {
   "display_name": "Python 3 (ipykernel)",
   "language": "python",
   "name": "python3"
  },
  "language_info": {
   "codemirror_mode": {
    "name": "ipython",
    "version": 3
   },
   "file_extension": ".py",
   "mimetype": "text/x-python",
   "name": "python",
   "nbconvert_exporter": "python",
   "pygments_lexer": "ipython3",
   "version": "3.9.6"
  }
 },
 "nbformat": 4,
 "nbformat_minor": 1
}
