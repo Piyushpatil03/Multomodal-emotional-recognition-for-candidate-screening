{
 "cells": [
  {
   "cell_type": "code",
   "execution_count": 161,
   "id": "56c14f54",
   "metadata": {},
   "outputs": [
    {
     "name": "stderr",
     "output_type": "stream",
     "text": [
      "[nltk_data] Downloading package stopwords to\n",
      "[nltk_data]     C:\\Users\\Piyush\\AppData\\Roaming\\nltk_data...\n",
      "[nltk_data]   Package stopwords is already up-to-date!\n",
      "[nltk_data] Downloading package punkt to\n",
      "[nltk_data]     C:\\Users\\Piyush\\AppData\\Roaming\\nltk_data...\n",
      "[nltk_data]   Package punkt is already up-to-date!\n"
     ]
    }
   ],
   "source": [
    "import pandas as pd\n",
    "import numpy as np\n",
    "import seaborn as sns\n",
    "import matplotlib.pyplot as plt\n",
    "\n",
    "import re\n",
    "import nltk\n",
    "nltk.download('stopwords')\n",
    "nltk.download('punkt')\n",
    "from nltk.corpus import stopwords\n",
    "from nltk.stem import PorterStemmer, WordNetLemmatizer\n",
    "from nltk.tokenize import word_tokenize, sent_tokenize\n",
    "from wordcloud import WordCloud\n",
    "\n",
    "import gensim\n",
    "from gensim.utils import simple_preprocess\n",
    "from gensim.parsing.preprocessing import STOPWORDS\n",
    "\n",
    "from sklearn.model_selection import train_test_split as tts\n",
    "import tensorflow as tf\n",
    "from keras.preprocessing.sequence import pad_sequences\n",
    "from keras.preprocessing.text import one_hot, Tokenizer\n"
   ]
  },
  {
   "cell_type": "code",
   "execution_count": 162,
   "id": "9f7a825b",
   "metadata": {},
   "outputs": [
    {
     "data": {
      "text/html": [
       "<div>\n",
       "<style scoped>\n",
       "    .dataframe tbody tr th:only-of-type {\n",
       "        vertical-align: middle;\n",
       "    }\n",
       "\n",
       "    .dataframe tbody tr th {\n",
       "        vertical-align: top;\n",
       "    }\n",
       "\n",
       "    .dataframe thead th {\n",
       "        text-align: right;\n",
       "    }\n",
       "</style>\n",
       "<table border=\"1\" class=\"dataframe\">\n",
       "  <thead>\n",
       "    <tr style=\"text-align: right;\">\n",
       "      <th></th>\n",
       "      <th>#AUTHID</th>\n",
       "      <th>TEXT</th>\n",
       "      <th>cEXT</th>\n",
       "      <th>cNEU</th>\n",
       "      <th>cAGR</th>\n",
       "      <th>cCON</th>\n",
       "      <th>cOPN</th>\n",
       "    </tr>\n",
       "  </thead>\n",
       "  <tbody>\n",
       "    <tr>\n",
       "      <th>0</th>\n",
       "      <td>1997_504851.txt</td>\n",
       "      <td>Well, right now I just woke up from a mid-day ...</td>\n",
       "      <td>n</td>\n",
       "      <td>y</td>\n",
       "      <td>y</td>\n",
       "      <td>n</td>\n",
       "      <td>y</td>\n",
       "    </tr>\n",
       "    <tr>\n",
       "      <th>1</th>\n",
       "      <td>1997_605191.txt</td>\n",
       "      <td>Well, here we go with the stream of consciousn...</td>\n",
       "      <td>n</td>\n",
       "      <td>n</td>\n",
       "      <td>y</td>\n",
       "      <td>n</td>\n",
       "      <td>n</td>\n",
       "    </tr>\n",
       "    <tr>\n",
       "      <th>2</th>\n",
       "      <td>1997_687252.txt</td>\n",
       "      <td>An open keyboard and buttons to push. The thin...</td>\n",
       "      <td>n</td>\n",
       "      <td>y</td>\n",
       "      <td>n</td>\n",
       "      <td>y</td>\n",
       "      <td>y</td>\n",
       "    </tr>\n",
       "    <tr>\n",
       "      <th>3</th>\n",
       "      <td>1997_568848.txt</td>\n",
       "      <td>I can't believe it!  It's really happening!  M...</td>\n",
       "      <td>y</td>\n",
       "      <td>n</td>\n",
       "      <td>y</td>\n",
       "      <td>y</td>\n",
       "      <td>n</td>\n",
       "    </tr>\n",
       "    <tr>\n",
       "      <th>4</th>\n",
       "      <td>1997_688160.txt</td>\n",
       "      <td>Well, here I go with the good old stream of co...</td>\n",
       "      <td>y</td>\n",
       "      <td>n</td>\n",
       "      <td>y</td>\n",
       "      <td>n</td>\n",
       "      <td>y</td>\n",
       "    </tr>\n",
       "  </tbody>\n",
       "</table>\n",
       "</div>"
      ],
      "text/plain": [
       "           #AUTHID                                               TEXT cEXT  \\\n",
       "0  1997_504851.txt  Well, right now I just woke up from a mid-day ...    n   \n",
       "1  1997_605191.txt  Well, here we go with the stream of consciousn...    n   \n",
       "2  1997_687252.txt  An open keyboard and buttons to push. The thin...    n   \n",
       "3  1997_568848.txt  I can't believe it!  It's really happening!  M...    y   \n",
       "4  1997_688160.txt  Well, here I go with the good old stream of co...    y   \n",
       "\n",
       "  cNEU cAGR cCON cOPN  \n",
       "0    y    y    n    y  \n",
       "1    n    y    n    n  \n",
       "2    y    n    y    y  \n",
       "3    n    y    y    n  \n",
       "4    n    y    n    y  "
      ]
     },
     "execution_count": 162,
     "metadata": {},
     "output_type": "execute_result"
    }
   ],
   "source": [
    "data_essays = pd.read_csv(\"essays.csv\", encoding = \"ISO-8859-1\")\n",
    "data_essays.head()"
   ]
  },
  {
   "cell_type": "code",
   "execution_count": 163,
   "id": "d81d714c",
   "metadata": {},
   "outputs": [
    {
     "data": {
      "text/html": [
       "<div>\n",
       "<style scoped>\n",
       "    .dataframe tbody tr th:only-of-type {\n",
       "        vertical-align: middle;\n",
       "    }\n",
       "\n",
       "    .dataframe tbody tr th {\n",
       "        vertical-align: top;\n",
       "    }\n",
       "\n",
       "    .dataframe thead th {\n",
       "        text-align: right;\n",
       "    }\n",
       "</style>\n",
       "<table border=\"1\" class=\"dataframe\">\n",
       "  <thead>\n",
       "    <tr style=\"text-align: right;\">\n",
       "      <th></th>\n",
       "      <th>#AUTHID</th>\n",
       "      <th>TEXT</th>\n",
       "      <th>cEXT</th>\n",
       "      <th>cNEU</th>\n",
       "      <th>cAGR</th>\n",
       "      <th>cCON</th>\n",
       "      <th>cOPN</th>\n",
       "    </tr>\n",
       "  </thead>\n",
       "  <tbody>\n",
       "    <tr>\n",
       "      <th>0</th>\n",
       "      <td>1997_504851.txt</td>\n",
       "      <td>Well, right now I just woke up from a mid-day ...</td>\n",
       "      <td>0</td>\n",
       "      <td>1</td>\n",
       "      <td>1</td>\n",
       "      <td>0</td>\n",
       "      <td>1</td>\n",
       "    </tr>\n",
       "    <tr>\n",
       "      <th>1</th>\n",
       "      <td>1997_605191.txt</td>\n",
       "      <td>Well, here we go with the stream of consciousn...</td>\n",
       "      <td>0</td>\n",
       "      <td>0</td>\n",
       "      <td>1</td>\n",
       "      <td>0</td>\n",
       "      <td>0</td>\n",
       "    </tr>\n",
       "    <tr>\n",
       "      <th>2</th>\n",
       "      <td>1997_687252.txt</td>\n",
       "      <td>An open keyboard and buttons to push. The thin...</td>\n",
       "      <td>0</td>\n",
       "      <td>1</td>\n",
       "      <td>0</td>\n",
       "      <td>1</td>\n",
       "      <td>1</td>\n",
       "    </tr>\n",
       "    <tr>\n",
       "      <th>3</th>\n",
       "      <td>1997_568848.txt</td>\n",
       "      <td>I can't believe it!  It's really happening!  M...</td>\n",
       "      <td>1</td>\n",
       "      <td>0</td>\n",
       "      <td>1</td>\n",
       "      <td>1</td>\n",
       "      <td>0</td>\n",
       "    </tr>\n",
       "    <tr>\n",
       "      <th>4</th>\n",
       "      <td>1997_688160.txt</td>\n",
       "      <td>Well, here I go with the good old stream of co...</td>\n",
       "      <td>1</td>\n",
       "      <td>0</td>\n",
       "      <td>1</td>\n",
       "      <td>0</td>\n",
       "      <td>1</td>\n",
       "    </tr>\n",
       "  </tbody>\n",
       "</table>\n",
       "</div>"
      ],
      "text/plain": [
       "           #AUTHID                                               TEXT  cEXT  \\\n",
       "0  1997_504851.txt  Well, right now I just woke up from a mid-day ...     0   \n",
       "1  1997_605191.txt  Well, here we go with the stream of consciousn...     0   \n",
       "2  1997_687252.txt  An open keyboard and buttons to push. The thin...     0   \n",
       "3  1997_568848.txt  I can't believe it!  It's really happening!  M...     1   \n",
       "4  1997_688160.txt  Well, here I go with the good old stream of co...     1   \n",
       "\n",
       "   cNEU  cAGR  cCON  cOPN  \n",
       "0     1     1     0     1  \n",
       "1     0     1     0     0  \n",
       "2     1     0     1     1  \n",
       "3     0     1     1     0  \n",
       "4     0     1     0     1  "
      ]
     },
     "execution_count": 163,
     "metadata": {},
     "output_type": "execute_result"
    }
   ],
   "source": [
    "data_essays['cEXT'] = np.where(data_essays['cEXT']=='y', 1, 0)\n",
    "data_essays['cNEU'] = np.where(data_essays['cNEU']=='y', 1, 0)\n",
    "data_essays['cAGR'] = np.where(data_essays['cAGR']=='y', 1, 0)\n",
    "data_essays['cCON'] = np.where(data_essays['cCON']=='y', 1, 0)\n",
    "data_essays['cOPN'] = np.where(data_essays['cOPN']=='y', 1, 0)\n",
    "data_essays.head()"
   ]
  },
  {
   "cell_type": "code",
   "execution_count": 164,
   "id": "7e344b39",
   "metadata": {},
   "outputs": [
    {
     "data": {
      "text/html": [
       "<div>\n",
       "<style scoped>\n",
       "    .dataframe tbody tr th:only-of-type {\n",
       "        vertical-align: middle;\n",
       "    }\n",
       "\n",
       "    .dataframe tbody tr th {\n",
       "        vertical-align: top;\n",
       "    }\n",
       "\n",
       "    .dataframe thead th {\n",
       "        text-align: right;\n",
       "    }\n",
       "</style>\n",
       "<table border=\"1\" class=\"dataframe\">\n",
       "  <thead>\n",
       "    <tr style=\"text-align: right;\">\n",
       "      <th></th>\n",
       "      <th>#AUTHID</th>\n",
       "      <th>TEXT</th>\n",
       "      <th>cEXT</th>\n",
       "      <th>cNEU</th>\n",
       "      <th>cAGR</th>\n",
       "      <th>cCON</th>\n",
       "      <th>cOPN</th>\n",
       "      <th>TEXT_LENGTH</th>\n",
       "    </tr>\n",
       "  </thead>\n",
       "  <tbody>\n",
       "    <tr>\n",
       "      <th>0</th>\n",
       "      <td>1997_504851.txt</td>\n",
       "      <td>Well, right now I just woke up from a mid-day ...</td>\n",
       "      <td>0</td>\n",
       "      <td>1</td>\n",
       "      <td>1</td>\n",
       "      <td>0</td>\n",
       "      <td>1</td>\n",
       "      <td>3249</td>\n",
       "    </tr>\n",
       "    <tr>\n",
       "      <th>1</th>\n",
       "      <td>1997_605191.txt</td>\n",
       "      <td>Well, here we go with the stream of consciousn...</td>\n",
       "      <td>0</td>\n",
       "      <td>0</td>\n",
       "      <td>1</td>\n",
       "      <td>0</td>\n",
       "      <td>0</td>\n",
       "      <td>3316</td>\n",
       "    </tr>\n",
       "    <tr>\n",
       "      <th>2</th>\n",
       "      <td>1997_687252.txt</td>\n",
       "      <td>An open keyboard and buttons to push. The thin...</td>\n",
       "      <td>0</td>\n",
       "      <td>1</td>\n",
       "      <td>0</td>\n",
       "      <td>1</td>\n",
       "      <td>1</td>\n",
       "      <td>3938</td>\n",
       "    </tr>\n",
       "    <tr>\n",
       "      <th>3</th>\n",
       "      <td>1997_568848.txt</td>\n",
       "      <td>I can't believe it!  It's really happening!  M...</td>\n",
       "      <td>1</td>\n",
       "      <td>0</td>\n",
       "      <td>1</td>\n",
       "      <td>1</td>\n",
       "      <td>0</td>\n",
       "      <td>1815</td>\n",
       "    </tr>\n",
       "    <tr>\n",
       "      <th>4</th>\n",
       "      <td>1997_688160.txt</td>\n",
       "      <td>Well, here I go with the good old stream of co...</td>\n",
       "      <td>1</td>\n",
       "      <td>0</td>\n",
       "      <td>1</td>\n",
       "      <td>0</td>\n",
       "      <td>1</td>\n",
       "      <td>4812</td>\n",
       "    </tr>\n",
       "  </tbody>\n",
       "</table>\n",
       "</div>"
      ],
      "text/plain": [
       "           #AUTHID                                               TEXT  cEXT  \\\n",
       "0  1997_504851.txt  Well, right now I just woke up from a mid-day ...     0   \n",
       "1  1997_605191.txt  Well, here we go with the stream of consciousn...     0   \n",
       "2  1997_687252.txt  An open keyboard and buttons to push. The thin...     0   \n",
       "3  1997_568848.txt  I can't believe it!  It's really happening!  M...     1   \n",
       "4  1997_688160.txt  Well, here I go with the good old stream of co...     1   \n",
       "\n",
       "   cNEU  cAGR  cCON  cOPN  TEXT_LENGTH  \n",
       "0     1     1     0     1         3249  \n",
       "1     0     1     0     0         3316  \n",
       "2     1     0     1     1         3938  \n",
       "3     0     1     1     0         1815  \n",
       "4     0     1     0     1         4812  "
      ]
     },
     "execution_count": 164,
     "metadata": {},
     "output_type": "execute_result"
    }
   ],
   "source": [
    "X_essays = data_essays['TEXT'].tolist()\n",
    "Y_essays = data_essays[['cEXT','cNEU', 'cAGR', 'cCON', 'cOPN']]\n",
    "data_essays['TEXT_LENGTH'] = data_essays['TEXT'].apply(len)\n",
    "data_essays.head()"
   ]
  },
  {
   "cell_type": "code",
   "execution_count": 165,
   "id": "d214a4d4",
   "metadata": {},
   "outputs": [
    {
     "data": {
      "image/png": "[encoded data removed]",
      "text/plain": [
       "<Figure size 432x216 with 2 Axes>"
      ]
     },
     "metadata": {
      "needs_background": "light"
     },
     "output_type": "display_data"
    },
    {
     "data": {
      "image/png": "[encoded data removed]",
      "text/plain": [
       "<Figure size 432x216 with 2 Axes>"
      ]
     },
     "metadata": {
      "needs_background": "light"
     },
     "output_type": "display_data"
    },
    {
     "data": {
      "image/png": "[encoded data removed]",
      "text/plain": [
       "<Figure size 432x216 with 2 Axes>"
      ]
     },
     "metadata": {
      "needs_background": "light"
     },
     "output_type": "display_data"
    },
    {
     "data": {
      "image/png": "[encoded data removed]",
      "text/plain": [
       "<Figure size 432x216 with 2 Axes>"
      ]
     },
     "metadata": {
      "needs_background": "light"
     },
     "output_type": "display_data"
    },
    {
     "data": {
      "image/png": "[encoded data removed]",
      "text/plain": [
       "<Figure size 432x216 with 2 Axes>"
      ]
     },
     "metadata": {
      "needs_background": "light"
     },
     "output_type": "display_data"
    }
   ],
   "source": [
    "labels = ['cEXT', 'cNEU', 'cAGR', 'cCON', 'cOPN']\n",
    "for i in labels:\n",
    "    g = sns.FacetGrid(data=data_essays, col=i)\n",
    "    g.map(plt.hist, 'TEXT_LENGTH', bins=50)\n",
    "plt.show()"
   ]
  },
  {
   "cell_type": "code",
   "execution_count": 166,
   "id": "6dc62432",
   "metadata": {},
   "outputs": [],
   "source": [
    "# Data Cleaning\n",
    "\n",
    "stop_words = stopwords.words('English')\n",
    "\n",
    "def preprocess(text):\n",
    "    corpus = []\n",
    "    \n",
    "    for token in gensim.utils.simple_preprocess(text):\n",
    "        if token not in gensim.parsing.preprocessing.STOPWORDS and len(token)>2 and token not in stop_words:\n",
    "            corpus.append(token)\n",
    "    return corpus"
   ]
  },
  {
   "cell_type": "code",
   "execution_count": 167,
   "id": "c4763325",
   "metadata": {},
   "outputs": [],
   "source": [
    "data_essays['clean'] = data_essays['TEXT'].apply(preprocess)"
   ]
  },
  {
   "cell_type": "code",
   "execution_count": 168,
   "id": "f704840e",
   "metadata": {},
   "outputs": [
    {
     "data": {
      "text/html": [
       "<div>\n",
       "<style scoped>\n",
       "    .dataframe tbody tr th:only-of-type {\n",
       "        vertical-align: middle;\n",
       "    }\n",
       "\n",
       "    .dataframe tbody tr th {\n",
       "        vertical-align: top;\n",
       "    }\n",
       "\n",
       "    .dataframe thead th {\n",
       "        text-align: right;\n",
       "    }\n",
       "</style>\n",
       "<table border=\"1\" class=\"dataframe\">\n",
       "  <thead>\n",
       "    <tr style=\"text-align: right;\">\n",
       "      <th></th>\n",
       "      <th>#AUTHID</th>\n",
       "      <th>TEXT</th>\n",
       "      <th>cEXT</th>\n",
       "      <th>cNEU</th>\n",
       "      <th>cAGR</th>\n",
       "      <th>cCON</th>\n",
       "      <th>cOPN</th>\n",
       "      <th>TEXT_LENGTH</th>\n",
       "      <th>clean</th>\n",
       "    </tr>\n",
       "  </thead>\n",
       "  <tbody>\n",
       "    <tr>\n",
       "      <th>0</th>\n",
       "      <td>1997_504851.txt</td>\n",
       "      <td>Well, right now I just woke up from a mid-day ...</td>\n",
       "      <td>0</td>\n",
       "      <td>1</td>\n",
       "      <td>1</td>\n",
       "      <td>0</td>\n",
       "      <td>1</td>\n",
       "      <td>3249</td>\n",
       "      <td>[right, woke, mid, day, nap, sort, weird, move...</td>\n",
       "    </tr>\n",
       "    <tr>\n",
       "      <th>1</th>\n",
       "      <td>1997_605191.txt</td>\n",
       "      <td>Well, here we go with the stream of consciousn...</td>\n",
       "      <td>0</td>\n",
       "      <td>0</td>\n",
       "      <td>1</td>\n",
       "      <td>0</td>\n",
       "      <td>0</td>\n",
       "      <td>3316</td>\n",
       "      <td>[stream, consciousness, essay, things, like, h...</td>\n",
       "    </tr>\n",
       "    <tr>\n",
       "      <th>2</th>\n",
       "      <td>1997_687252.txt</td>\n",
       "      <td>An open keyboard and buttons to push. The thin...</td>\n",
       "      <td>0</td>\n",
       "      <td>1</td>\n",
       "      <td>0</td>\n",
       "      <td>1</td>\n",
       "      <td>1</td>\n",
       "      <td>3938</td>\n",
       "      <td>[open, keyboard, buttons, push, thing, finally...</td>\n",
       "    </tr>\n",
       "    <tr>\n",
       "      <th>3</th>\n",
       "      <td>1997_568848.txt</td>\n",
       "      <td>I can't believe it!  It's really happening!  M...</td>\n",
       "      <td>1</td>\n",
       "      <td>0</td>\n",
       "      <td>1</td>\n",
       "      <td>1</td>\n",
       "      <td>0</td>\n",
       "      <td>1815</td>\n",
       "      <td>[believe, happening, pulse, racing, like, mad,...</td>\n",
       "    </tr>\n",
       "    <tr>\n",
       "      <th>4</th>\n",
       "      <td>1997_688160.txt</td>\n",
       "      <td>Well, here I go with the good old stream of co...</td>\n",
       "      <td>1</td>\n",
       "      <td>0</td>\n",
       "      <td>1</td>\n",
       "      <td>0</td>\n",
       "      <td>1</td>\n",
       "      <td>4812</td>\n",
       "      <td>[good, old, stream, consciousness, assignment,...</td>\n",
       "    </tr>\n",
       "  </tbody>\n",
       "</table>\n",
       "</div>"
      ],
      "text/plain": [
       "           #AUTHID                                               TEXT  cEXT  \\\n",
       "0  1997_504851.txt  Well, right now I just woke up from a mid-day ...     0   \n",
       "1  1997_605191.txt  Well, here we go with the stream of consciousn...     0   \n",
       "2  1997_687252.txt  An open keyboard and buttons to push. The thin...     0   \n",
       "3  1997_568848.txt  I can't believe it!  It's really happening!  M...     1   \n",
       "4  1997_688160.txt  Well, here I go with the good old stream of co...     1   \n",
       "\n",
       "   cNEU  cAGR  cCON  cOPN  TEXT_LENGTH  \\\n",
       "0     1     1     0     1         3249   \n",
       "1     0     1     0     0         3316   \n",
       "2     1     0     1     1         3938   \n",
       "3     0     1     1     0         1815   \n",
       "4     0     1     0     1         4812   \n",
       "\n",
       "                                               clean  \n",
       "0  [right, woke, mid, day, nap, sort, weird, move...  \n",
       "1  [stream, consciousness, essay, things, like, h...  \n",
       "2  [open, keyboard, buttons, push, thing, finally...  \n",
       "3  [believe, happening, pulse, racing, like, mad,...  \n",
       "4  [good, old, stream, consciousness, assignment,...  "
      ]
     },
     "execution_count": 168,
     "metadata": {},
     "output_type": "execute_result"
    }
   ],
   "source": [
    "data_essays.head()"
   ]
  },
  {
   "cell_type": "code",
   "execution_count": 169,
   "id": "60c9f679",
   "metadata": {},
   "outputs": [
    {
     "data": {
      "text/html": [
       "<div>\n",
       "<style scoped>\n",
       "    .dataframe tbody tr th:only-of-type {\n",
       "        vertical-align: middle;\n",
       "    }\n",
       "\n",
       "    .dataframe tbody tr th {\n",
       "        vertical-align: top;\n",
       "    }\n",
       "\n",
       "    .dataframe thead th {\n",
       "        text-align: right;\n",
       "    }\n",
       "</style>\n",
       "<table border=\"1\" class=\"dataframe\">\n",
       "  <thead>\n",
       "    <tr style=\"text-align: right;\">\n",
       "      <th></th>\n",
       "      <th>#AUTHID</th>\n",
       "      <th>TEXT</th>\n",
       "      <th>cEXT</th>\n",
       "      <th>cNEU</th>\n",
       "      <th>cAGR</th>\n",
       "      <th>cCON</th>\n",
       "      <th>cOPN</th>\n",
       "      <th>TEXT_LENGTH</th>\n",
       "      <th>clean</th>\n",
       "      <th>clean_joined</th>\n",
       "    </tr>\n",
       "  </thead>\n",
       "  <tbody>\n",
       "    <tr>\n",
       "      <th>0</th>\n",
       "      <td>1997_504851.txt</td>\n",
       "      <td>Well, right now I just woke up from a mid-day ...</td>\n",
       "      <td>0</td>\n",
       "      <td>1</td>\n",
       "      <td>1</td>\n",
       "      <td>0</td>\n",
       "      <td>1</td>\n",
       "      <td>3249</td>\n",
       "      <td>[right, woke, mid, day, nap, sort, weird, move...</td>\n",
       "      <td>right woke mid day nap sort weird moved texas ...</td>\n",
       "    </tr>\n",
       "    <tr>\n",
       "      <th>1</th>\n",
       "      <td>1997_605191.txt</td>\n",
       "      <td>Well, here we go with the stream of consciousn...</td>\n",
       "      <td>0</td>\n",
       "      <td>0</td>\n",
       "      <td>1</td>\n",
       "      <td>0</td>\n",
       "      <td>0</td>\n",
       "      <td>3316</td>\n",
       "      <td>[stream, consciousness, essay, things, like, h...</td>\n",
       "      <td>stream consciousness essay things like high sc...</td>\n",
       "    </tr>\n",
       "    <tr>\n",
       "      <th>2</th>\n",
       "      <td>1997_687252.txt</td>\n",
       "      <td>An open keyboard and buttons to push. The thin...</td>\n",
       "      <td>0</td>\n",
       "      <td>1</td>\n",
       "      <td>0</td>\n",
       "      <td>1</td>\n",
       "      <td>1</td>\n",
       "      <td>3938</td>\n",
       "      <td>[open, keyboard, buttons, push, thing, finally...</td>\n",
       "      <td>open keyboard buttons push thing finally worke...</td>\n",
       "    </tr>\n",
       "    <tr>\n",
       "      <th>3</th>\n",
       "      <td>1997_568848.txt</td>\n",
       "      <td>I can't believe it!  It's really happening!  M...</td>\n",
       "      <td>1</td>\n",
       "      <td>0</td>\n",
       "      <td>1</td>\n",
       "      <td>1</td>\n",
       "      <td>0</td>\n",
       "      <td>1815</td>\n",
       "      <td>[believe, happening, pulse, racing, like, mad,...</td>\n",
       "      <td>believe happening pulse racing like mad like f...</td>\n",
       "    </tr>\n",
       "    <tr>\n",
       "      <th>4</th>\n",
       "      <td>1997_688160.txt</td>\n",
       "      <td>Well, here I go with the good old stream of co...</td>\n",
       "      <td>1</td>\n",
       "      <td>0</td>\n",
       "      <td>1</td>\n",
       "      <td>0</td>\n",
       "      <td>1</td>\n",
       "      <td>4812</td>\n",
       "      <td>[good, old, stream, consciousness, assignment,...</td>\n",
       "      <td>good old stream consciousness assignment feel ...</td>\n",
       "    </tr>\n",
       "  </tbody>\n",
       "</table>\n",
       "</div>"
      ],
      "text/plain": [
       "           #AUTHID                                               TEXT  cEXT  \\\n",
       "0  1997_504851.txt  Well, right now I just woke up from a mid-day ...     0   \n",
       "1  1997_605191.txt  Well, here we go with the stream of consciousn...     0   \n",
       "2  1997_687252.txt  An open keyboard and buttons to push. The thin...     0   \n",
       "3  1997_568848.txt  I can't believe it!  It's really happening!  M...     1   \n",
       "4  1997_688160.txt  Well, here I go with the good old stream of co...     1   \n",
       "\n",
       "   cNEU  cAGR  cCON  cOPN  TEXT_LENGTH  \\\n",
       "0     1     1     0     1         3249   \n",
       "1     0     1     0     0         3316   \n",
       "2     1     0     1     1         3938   \n",
       "3     0     1     1     0         1815   \n",
       "4     0     1     0     1         4812   \n",
       "\n",
       "                                               clean  \\\n",
       "0  [right, woke, mid, day, nap, sort, weird, move...   \n",
       "1  [stream, consciousness, essay, things, like, h...   \n",
       "2  [open, keyboard, buttons, push, thing, finally...   \n",
       "3  [believe, happening, pulse, racing, like, mad,...   \n",
       "4  [good, old, stream, consciousness, assignment,...   \n",
       "\n",
       "                                        clean_joined  \n",
       "0  right woke mid day nap sort weird moved texas ...  \n",
       "1  stream consciousness essay things like high sc...  \n",
       "2  open keyboard buttons push thing finally worke...  \n",
       "3  believe happening pulse racing like mad like f...  \n",
       "4  good old stream consciousness assignment feel ...  "
      ]
     },
     "execution_count": 169,
     "metadata": {},
     "output_type": "execute_result"
    }
   ],
   "source": [
    "data_essays['clean_joined'] = data_essays['clean'].apply(lambda x:\" \".join(x))\n",
    "data_essays.head()"
   ]
  },
  {
   "cell_type": "code",
   "execution_count": 170,
   "id": "7666c12a",
   "metadata": {},
   "outputs": [],
   "source": [
    "list_of_words = []\n",
    "for i in data_essays['clean']:\n",
    "    for j in i:\n",
    "        list_of_words.append(j)"
   ]
  },
  {
   "cell_type": "code",
   "execution_count": 171,
   "id": "63f49b1f",
   "metadata": {},
   "outputs": [
    {
     "data": {
      "text/plain": [
       "562309"
      ]
     },
     "execution_count": 171,
     "metadata": {},
     "output_type": "execute_result"
    }
   ],
   "source": [
    "len(list_of_words)"
   ]
  },
  {
   "cell_type": "code",
   "execution_count": 172,
   "id": "91688838",
   "metadata": {},
   "outputs": [
    {
     "data": {
      "text/plain": [
       "28764"
      ]
     },
     "execution_count": 172,
     "metadata": {},
     "output_type": "execute_result"
    }
   ],
   "source": [
    "total_words = len(list(set(list_of_words)))\n",
    "total_words"
   ]
  },
  {
   "cell_type": "code",
   "execution_count": 173,
   "id": "5bddf252",
   "metadata": {},
   "outputs": [],
   "source": [
    "# after cleaning texts\n",
    "\n",
    "maxlen = -1\n",
    "for doc in data_essays.clean_joined:\n",
    "    tokens = nltk.word_tokenize(doc)\n",
    "    if maxlen < len(tokens):\n",
    "        maxlen = len(tokens)"
   ]
  },
  {
   "cell_type": "code",
   "execution_count": 174,
   "id": "2f2ced58",
   "metadata": {},
   "outputs": [
    {
     "data": {
      "text/plain": [
       "862"
      ]
     },
     "execution_count": 174,
     "metadata": {},
     "output_type": "execute_result"
    }
   ],
   "source": [
    "maxlen"
   ]
  },
  {
   "cell_type": "code",
   "execution_count": 175,
   "id": "b232c1ce",
   "metadata": {},
   "outputs": [
    {
     "data": {
      "text/plain": [
       "'maxlength = -1\\nfor doc in data_essays.TEXT_LENGTH:\\n    if maxlength < doc:\\n        maxlength = doc\\nmaxlength'"
      ]
     },
     "execution_count": 175,
     "metadata": {},
     "output_type": "execute_result"
    }
   ],
   "source": [
    "# without cleaning the texts\n",
    "'''maxlength = -1\n",
    "for doc in data_essays.TEXT_LENGTH:\n",
    "    if maxlength < doc:\n",
    "        maxlength = doc\n",
    "maxlength'''"
   ]
  },
  {
   "cell_type": "code",
   "execution_count": 176,
   "id": "600c6b6f",
   "metadata": {},
   "outputs": [],
   "source": [
    "# tokenizing - converting texts into sequence of integers\n",
    "\n",
    "X_essays = data_essays['clean_joined'].tolist()\n",
    "Y_essays = data_essays[['cEXT','cNEU', 'cAGR', 'cCON', 'cOPN']]\n",
    "xtrain, xtest, ytrain, ytest = tts(X_essays, Y_essays, test_size = 0.2)\n",
    "tokenizer = Tokenizer(num_words = total_words, lower=True)\n",
    "tokenizer.fit_on_texts(xtrain)"
   ]
  },
  {
   "cell_type": "code",
   "execution_count": 177,
   "id": "97a46c09",
   "metadata": {},
   "outputs": [],
   "source": [
    "train_sequences = tokenizer.texts_to_sequences(xtrain)\n",
    "test_sequences = tokenizer.texts_to_sequences(xtest)"
   ]
  },
  {
   "cell_type": "code",
   "execution_count": 178,
   "id": "01d1ed66",
   "metadata": {},
   "outputs": [
    {
     "data": {
      "text/plain": [
       "1973"
      ]
     },
     "execution_count": 178,
     "metadata": {},
     "output_type": "execute_result"
    }
   ],
   "source": [
    "len(train_sequences)"
   ]
  },
  {
   "cell_type": "code",
   "execution_count": 179,
   "id": "6559d86f",
   "metadata": {},
   "outputs": [
    {
     "data": {
      "text/plain": [
       "494"
      ]
     },
     "execution_count": 179,
     "metadata": {},
     "output_type": "execute_result"
    }
   ],
   "source": [
    "len(test_sequences)"
   ]
  },
  {
   "cell_type": "code",
   "execution_count": 180,
   "id": "91d8e14b",
   "metadata": {},
   "outputs": [
    {
     "name": "stdout",
     "output_type": "stream",
     "text": [
      "heard writing assignment figured difficult writing specified subject matter hopefully minutes talking day feel actually think like start expressing thoughts pre testing required amazing questions completely reflected feel think learned little self esteem self confidence self esteem self confidence hopefully living taking care things austin develop traits came college terrifying life family friends taken care things experience living taking care mean knew laundry essentials came asking questions figuring stuff able example ordered pizza naturally hesitated pizza guy sure sizes deals quickly learned initiative importantly question stupid fact question probably ask benefit think grown great deal aspect college addition friends coming austin feel felt lonely close friends gone colleges usually extroverted way friend past weeks let bravely went random people pretty good friends rewarding feel lost big university greatly improving interpersonal skills characteristic need expected major keen exactly want think want think want single think totally carefree think try original enthusiasm thinking business communications narrowed changing mind subjects know blindly follow dad advice try interests architecture originally interested dad know better told confused hopefully learn college journey \n",
      " [289, 36, 47, 727, 404, 36, 9559, 610, 198, 204, 24, 106, 29, 8, 52, 2, 1, 99, 3349, 93, 749, 1565, 1502, 370, 416, 298, 6700, 8, 2, 481, 34, 314, 1646, 314, 1171, 314, 1646, 314, 1171, 204, 203, 184, 119, 12, 130, 2086, 4443, 137, 31, 7820, 18, 91, 16, 474, 119, 12, 271, 203, 184, 119, 61, 169, 464, 9560, 137, 596, 416, 3571, 59, 95, 593, 3039, 750, 1566, 12993, 750, 69, 51, 9561, 4444, 711, 481, 5257, 2891, 496, 122, 148, 496, 50, 199, 2211, 2, 1172, 71, 270, 1114, 31, 2298, 16, 155, 130, 8, 208, 534, 188, 16, 214, 1919, 194, 7821, 21, 54, 171, 218, 105, 12994, 64, 422, 7, 44, 9, 16, 5258, 8, 282, 104, 377, 2212, 4101, 7822, 1348, 6701, 11, 728, 217, 5259, 303, 6, 2, 6, 2, 6, 799, 2, 277, 4102, 2, 98, 2299, 9562, 30, 349, 2087, 5898, 1009, 43, 1647, 3, 7823, 785, 123, 1604, 98, 1648, 1367, 2657, 497, 123, 3, 45, 118, 621, 204, 236, 31, 4103]\n"
     ]
    }
   ],
   "source": [
    "# encoding of texts\n",
    "\n",
    "print(xtrain[0],\"\\n\",train_sequences[0])"
   ]
  },
  {
   "cell_type": "code",
   "execution_count": 181,
   "id": "ed5d2120",
   "metadata": {},
   "outputs": [],
   "source": [
    "# padding to maxlen\n",
    "\n",
    "padded_train = pad_sequences(train_sequences, maxlen=maxlen, padding=\"post\", truncating=\"post\")\n",
    "padded_test = pad_sequences(test_sequences, maxlen=maxlen, truncating=\"post\")"
   ]
  },
  {
   "cell_type": "code",
   "execution_count": 182,
   "id": "20e75110",
   "metadata": {},
   "outputs": [
    {
     "name": "stdout",
     "output_type": "stream",
     "text": [
      "1  = \n",
      " [  289    36    47   727   404    36  9559   610   198   204    24   106\n",
      "    29     8    52     2     1    99  3349    93   749  1565  1502   370\n",
      "   416   298  6700     8     2   481    34   314  1646   314  1171   314\n",
      "  1646   314  1171   204   203   184   119    12   130  2086  4443   137\n",
      "    31  7820    18    91    16   474   119    12   271   203   184   119\n",
      "    61   169   464  9560   137   596   416  3571    59    95   593  3039\n",
      "   750  1566 12993   750    69    51  9561  4444   711   481  5257  2891\n",
      "   496   122   148   496    50   199  2211     2  1172    71   270  1114\n",
      "    31  2298    16   155   130     8   208   534   188    16   214  1919\n",
      "   194  7821    21    54   171   218   105 12994    64   422     7    44\n",
      "     9    16  5258     8   282   104   377  2212  4101  7822  1348  6701\n",
      "    11   728   217  5259   303     6     2     6     2     6   799     2\n",
      "   277  4102     2    98  2299  9562    30   349  2087  5898  1009    43\n",
      "  1647     3  7823   785   123  1604    98  1648  1367  2657   497   123\n",
      "     3    45   118   621   204   236    31  4103     0     0     0     0\n",
      "     0     0     0     0     0     0     0     0     0     0     0     0\n",
      "     0     0     0     0     0     0     0     0     0     0     0     0\n",
      "     0     0     0     0     0     0     0     0     0     0     0     0\n",
      "     0     0     0     0     0     0     0     0     0     0     0     0\n",
      "     0     0     0     0     0     0     0     0     0     0     0     0\n",
      "     0     0     0     0     0     0     0     0     0     0     0     0\n",
      "     0     0     0     0     0     0     0     0     0     0     0     0\n",
      "     0     0     0     0     0     0     0     0     0     0     0     0\n",
      "     0     0     0     0     0     0     0     0     0     0     0     0\n",
      "     0     0     0     0     0     0     0     0     0     0     0     0\n",
      "     0     0     0     0     0     0     0     0     0     0     0     0\n",
      "     0     0     0     0     0     0     0     0     0     0     0     0\n",
      "     0     0     0     0     0     0     0     0     0     0     0     0\n",
      "     0     0     0     0     0     0     0     0     0     0     0     0\n",
      "     0     0     0     0     0     0     0     0     0     0     0     0\n",
      "     0     0     0     0     0     0     0     0     0     0     0     0\n",
      "     0     0     0     0     0     0     0     0     0     0     0     0\n",
      "     0     0     0     0     0     0     0     0     0     0     0     0\n",
      "     0     0     0     0     0     0     0     0     0     0     0     0\n",
      "     0     0     0     0     0     0     0     0     0     0     0     0\n",
      "     0     0     0     0     0     0     0     0     0     0     0     0\n",
      "     0     0     0     0     0     0     0     0     0     0     0     0\n",
      "     0     0     0     0     0     0     0     0     0     0     0     0\n",
      "     0     0     0     0     0     0     0     0     0     0     0     0\n",
      "     0     0     0     0     0     0     0     0     0     0     0     0\n",
      "     0     0     0     0     0     0     0     0     0     0     0     0\n",
      "     0     0     0     0     0     0     0     0     0     0     0     0\n",
      "     0     0     0     0     0     0     0     0     0     0     0     0\n",
      "     0     0     0     0     0     0     0     0     0     0     0     0\n",
      "     0     0     0     0     0     0     0     0     0     0     0     0\n",
      "     0     0     0     0     0     0     0     0     0     0     0     0\n",
      "     0     0     0     0     0     0     0     0     0     0     0     0\n",
      "     0     0     0     0     0     0     0     0     0     0     0     0\n",
      "     0     0     0     0     0     0     0     0     0     0     0     0\n",
      "     0     0     0     0     0     0     0     0     0     0     0     0\n",
      "     0     0     0     0     0     0     0     0     0     0     0     0\n",
      "     0     0     0     0     0     0     0     0     0     0     0     0\n",
      "     0     0     0     0     0     0     0     0     0     0     0     0\n",
      "     0     0     0     0     0     0     0     0     0     0     0     0\n",
      "     0     0     0     0     0     0     0     0     0     0     0     0\n",
      "     0     0     0     0     0     0     0     0     0     0     0     0\n",
      "     0     0     0     0     0     0     0     0     0     0     0     0\n",
      "     0     0     0     0     0     0     0     0     0     0     0     0\n",
      "     0     0     0     0     0     0     0     0     0     0     0     0\n",
      "     0     0     0     0     0     0     0     0     0     0     0     0\n",
      "     0     0     0     0     0     0     0     0     0     0     0     0\n",
      "     0     0     0     0     0     0     0     0     0     0     0     0\n",
      "     0     0     0     0     0     0     0     0     0     0     0     0\n",
      "     0     0     0     0     0     0     0     0     0     0     0     0\n",
      "     0     0     0     0     0     0     0     0     0     0     0     0\n",
      "     0     0     0     0     0     0     0     0     0     0     0     0\n",
      "     0     0     0     0     0     0     0     0     0     0     0     0\n",
      "     0     0     0     0     0     0     0     0     0     0     0     0\n",
      "     0     0     0     0     0     0     0     0     0     0     0     0\n",
      "     0     0     0     0     0     0     0     0     0     0     0     0\n",
      "     0     0     0     0     0     0     0     0     0     0     0     0\n",
      "     0     0     0     0     0     0     0     0     0     0]\n",
      "2  = \n",
      " [  194     3   194     2   194     2    15     5    99   200     3    10\n",
      "   482   303    36    47   514   100    62    85   531   453  1273   231\n",
      "   134  1137   838     4  1273   218   478   304   202  1123   179    13\n",
      "   172  1295    73    66   831    29    62   125   443    29    62    49\n",
      "     4   292    27   352  9563  2467    54 12995    31   908   408  1295\n",
      "  1080   707 12996    64    62   352   262    46     7   751  1754   290\n",
      "  1030   657   377   261   261   377   122   752   371  1712  2767  1529\n",
      "  6702   229   192  7824    70     7    19    13  1669    63    28    59\n",
      "   177    27   231   517    99     6   154  4104    85   531  4105   517\n",
      "    99     6    22   517   345   374   204    58    19    37    32   644\n",
      "   357    98  3350    82    58     3   357    91  6703   690     6  1815\n",
      "   498   895  6704  7825   370   753    70  1867   532  1189   374     2\n",
      "   805    19  3822   230   377   814  5899    55    13    31  1190   277\n",
      "    90   134    20    83    22    13   825    22   445     4   331    20\n",
      "    19  3040     4  1920  3823   640   155   269     5   289   511   775\n",
      "   367   324   271     5   172   640   857   107   367   463   271     0\n",
      "     0     0     0     0     0     0     0     0     0     0     0     0\n",
      "     0     0     0     0     0     0     0     0     0     0     0     0\n",
      "     0     0     0     0     0     0     0     0     0     0     0     0\n",
      "     0     0     0     0     0     0     0     0     0     0     0     0\n",
      "     0     0     0     0     0     0     0     0     0     0     0     0\n",
      "     0     0     0     0     0     0     0     0     0     0     0     0\n",
      "     0     0     0     0     0     0     0     0     0     0     0     0\n",
      "     0     0     0     0     0     0     0     0     0     0     0     0\n",
      "     0     0     0     0     0     0     0     0     0     0     0     0\n",
      "     0     0     0     0     0     0     0     0     0     0     0     0\n",
      "     0     0     0     0     0     0     0     0     0     0     0     0\n",
      "     0     0     0     0     0     0     0     0     0     0     0     0\n",
      "     0     0     0     0     0     0     0     0     0     0     0     0\n",
      "     0     0     0     0     0     0     0     0     0     0     0     0\n",
      "     0     0     0     0     0     0     0     0     0     0     0     0\n",
      "     0     0     0     0     0     0     0     0     0     0     0     0\n",
      "     0     0     0     0     0     0     0     0     0     0     0     0\n",
      "     0     0     0     0     0     0     0     0     0     0     0     0\n",
      "     0     0     0     0     0     0     0     0     0     0     0     0\n",
      "     0     0     0     0     0     0     0     0     0     0     0     0\n",
      "     0     0     0     0     0     0     0     0     0     0     0     0\n",
      "     0     0     0     0     0     0     0     0     0     0     0     0\n",
      "     0     0     0     0     0     0     0     0     0     0     0     0\n",
      "     0     0     0     0     0     0     0     0     0     0     0     0\n",
      "     0     0     0     0     0     0     0     0     0     0     0     0\n",
      "     0     0     0     0     0     0     0     0     0     0     0     0\n",
      "     0     0     0     0     0     0     0     0     0     0     0     0\n",
      "     0     0     0     0     0     0     0     0     0     0     0     0\n",
      "     0     0     0     0     0     0     0     0     0     0     0     0\n",
      "     0     0     0     0     0     0     0     0     0     0     0     0\n",
      "     0     0     0     0     0     0     0     0     0     0     0     0\n",
      "     0     0     0     0     0     0     0     0     0     0     0     0\n",
      "     0     0     0     0     0     0     0     0     0     0     0     0\n",
      "     0     0     0     0     0     0     0     0     0     0     0     0\n",
      "     0     0     0     0     0     0     0     0     0     0     0     0\n",
      "     0     0     0     0     0     0     0     0     0     0     0     0\n",
      "     0     0     0     0     0     0     0     0     0     0     0     0\n",
      "     0     0     0     0     0     0     0     0     0     0     0     0\n",
      "     0     0     0     0     0     0     0     0     0     0     0     0\n",
      "     0     0     0     0     0     0     0     0     0     0     0     0\n",
      "     0     0     0     0     0     0     0     0     0     0     0     0\n",
      "     0     0     0     0     0     0     0     0     0     0     0     0\n",
      "     0     0     0     0     0     0     0     0     0     0     0     0\n",
      "     0     0     0     0     0     0     0     0     0     0     0     0\n",
      "     0     0     0     0     0     0     0     0     0     0     0     0\n",
      "     0     0     0     0     0     0     0     0     0     0     0     0\n",
      "     0     0     0     0     0     0     0     0     0     0     0     0\n",
      "     0     0     0     0     0     0     0     0     0     0     0     0\n",
      "     0     0     0     0     0     0     0     0     0     0     0     0\n",
      "     0     0     0     0     0     0     0     0     0     0     0     0\n",
      "     0     0     0     0     0     0     0     0     0     0     0     0\n",
      "     0     0     0     0     0     0     0     0     0     0     0     0\n",
      "     0     0     0     0     0     0     0     0     0     0     0     0\n",
      "     0     0     0     0     0     0     0     0     0     0     0     0\n",
      "     0     0     0     0     0     0     0     0     0     0     0     0\n",
      "     0     0     0     0     0     0     0     0     0     0]\n"
     ]
    }
   ],
   "source": [
    "for i,doc in enumerate(padded_train[:2]):\n",
    "    print(i+1,\" = \\n\", doc)"
   ]
  },
  {
   "cell_type": "code",
   "execution_count": 183,
   "id": "b2a6d6bd",
   "metadata": {},
   "outputs": [
    {
     "data": {
      "text/plain": [
       "(1973, 862)"
      ]
     },
     "execution_count": 183,
     "metadata": {},
     "output_type": "execute_result"
    }
   ],
   "source": [
    "padded_train.shape"
   ]
  },
  {
   "cell_type": "code",
   "execution_count": 184,
   "id": "90ac3e9a",
   "metadata": {},
   "outputs": [],
   "source": [
    "#from tensorflow.keras.utils import to_categorical\n",
    "#ytrain = to_categorical(ytrain, 5)\n",
    "#ytest = to_categorical(ytest, 5)"
   ]
  },
  {
   "cell_type": "code",
   "execution_count": 185,
   "id": "f6e96885",
   "metadata": {},
   "outputs": [],
   "source": [
    "#ytrain = np.asarray(ytrain)"
   ]
  },
  {
   "cell_type": "code",
   "execution_count": 186,
   "id": "f8be0740",
   "metadata": {},
   "outputs": [
    {
     "data": {
      "text/plain": [
       "\"from keras import layers, Sequential\\nmodel = Sequential()\\nmodel.add(layers.Dense(8, activation='relu', input_shape=(padded_train.shape[1], )))\\nmodel.add(layers.Dense(10, activation='relu'))\\nmodel.add(layers.Dense(5, activation='sigmoid'))\\nmodel.compile(optimizer='rmsprop', loss='binary_crossentropy', metrics=['accuracy'])\""
      ]
     },
     "execution_count": 186,
     "metadata": {},
     "output_type": "execute_result"
    }
   ],
   "source": [
    "# Create model using Keras\n",
    "'''from keras import layers, Sequential\n",
    "model = Sequential()\n",
    "model.add(layers.Dense(8, activation='relu', input_shape=(padded_train.shape[1], )))\n",
    "model.add(layers.Dense(10, activation='relu'))\n",
    "model.add(layers.Dense(5, activation='sigmoid'))\n",
    "model.compile(optimizer='rmsprop', loss='binary_crossentropy', metrics=['accuracy'])'''"
   ]
  },
  {
   "cell_type": "code",
   "execution_count": 187,
   "id": "18664848",
   "metadata": {},
   "outputs": [],
   "source": [
    "from keras.models import Sequential, Model\n",
    "from keras.layers.normalization import BatchNormalization\n",
    "from keras.layers import Dense, LSTM, Conv1D, MaxPooling1D, Activation, SpatialDropout1D, Input, Embedding, Flatten"
   ]
  },
  {
   "cell_type": "code",
   "execution_count": 188,
   "id": "0d9f5288",
   "metadata": {},
   "outputs": [
    {
     "name": "stdout",
     "output_type": "stream",
     "text": [
      "Model: \"sequential_35\"\n",
      "_________________________________________________________________\n",
      "Layer (type)                 Output Shape              Param #   \n",
      "=================================================================\n",
      "embedding_27 (Embedding)     (None, 862, 300)          8629200   \n",
      "_________________________________________________________________\n",
      "conv1d_89 (Conv1D)           (None, 862, 128)          307328    \n",
      "_________________________________________________________________\n",
      "max_pooling1d_88 (MaxPooling (None, 431, 128)          0         \n",
      "_________________________________________________________________\n",
      "spatial_dropout1d_86 (Spatia (None, 431, 128)          0         \n",
      "_________________________________________________________________\n",
      "batch_normalization_86 (Batc (None, 431, 128)          512       \n",
      "_________________________________________________________________\n",
      "conv1d_90 (Conv1D)           (None, 431, 256)          262400    \n",
      "_________________________________________________________________\n",
      "max_pooling1d_89 (MaxPooling (None, 215, 256)          0         \n",
      "_________________________________________________________________\n",
      "spatial_dropout1d_87 (Spatia (None, 215, 256)          0         \n",
      "_________________________________________________________________\n",
      "batch_normalization_87 (Batc (None, 215, 256)          1024      \n",
      "_________________________________________________________________\n",
      "conv1d_91 (Conv1D)           (None, 215, 512)          1049088   \n",
      "_________________________________________________________________\n",
      "max_pooling1d_90 (MaxPooling (None, 107, 512)          0         \n",
      "_________________________________________________________________\n",
      "spatial_dropout1d_88 (Spatia (None, 107, 512)          0         \n",
      "_________________________________________________________________\n",
      "batch_normalization_88 (Batc (None, 107, 512)          2048      \n",
      "_________________________________________________________________\n",
      "flatten_4 (Flatten)          (None, 54784)             0         \n",
      "_________________________________________________________________\n",
      "dense_52 (Dense)             (None, 128)               7012480   \n",
      "_________________________________________________________________\n",
      "dense_53 (Dense)             (None, 5)                 645       \n",
      "=================================================================\n",
      "Total params: 17,264,725\n",
      "Trainable params: 17,262,933\n",
      "Non-trainable params: 1,792\n",
      "_________________________________________________________________\n"
     ]
    }
   ],
   "source": [
    "model = Sequential()\n",
    "model.add(Embedding(total_words, output_dim=300, input_length=padded_train.shape[1]))\n",
    "\n",
    "# 1st layer\n",
    "model.add(Conv1D(128, kernel_size = 8, padding=\"same\", activation=\"relu\"))\n",
    "model.add(MaxPooling1D(pool_size=2))\n",
    "model.add(SpatialDropout1D(0.3))\n",
    "model.add(BatchNormalization())\n",
    "\n",
    "# 2nd layer\n",
    "model.add(Conv1D(256, kernel_size = 8, padding=\"same\", activation=\"relu\"))\n",
    "model.add(MaxPooling1D(pool_size=2))\n",
    "model.add(SpatialDropout1D(0.3))\n",
    "model.add(BatchNormalization())\n",
    "\n",
    "# 3rd layer\n",
    "model.add(Conv1D(512, kernel_size = 8, padding=\"same\", activation=\"relu\"))\n",
    "model.add(MaxPooling1D(pool_size=2))\n",
    "model.add(SpatialDropout1D(0.3))\n",
    "model.add(BatchNormalization())\n",
    "\n",
    "model.add(Flatten())\n",
    "\n",
    "# lSTM Layers\n",
    "#model.add(LSTM(180, return_sequences=True, dropout=0.3))\n",
    "#model.add(LSTM(180, return_sequences=True, dropout=0.3))\n",
    "#model.add(LSTM(180, dropout=0.3))\n",
    "\n",
    "model.add(Dense(128, activation=\"softmax\"))\n",
    "model.add(Dense(5, activation=\"softmax\"))\n",
    "\n",
    "model.compile(optimizer=\"adam\", loss=\"categorical_crossentropy\", metrics=[\"accuracy\"])\n",
    "model.summary()\n"
   ]
  },
  {
   "cell_type": "code",
   "execution_count": 190,
   "id": "23f44fd2",
   "metadata": {},
   "outputs": [
    {
     "name": "stdout",
     "output_type": "stream",
     "text": [
      "Epoch 1/5\n",
      "31/31 [==============================] - 145s 5s/step - loss: 4.1487 - accuracy: 0.5413\n",
      "Epoch 2/5\n",
      "31/31 [==============================] - 151s 5s/step - loss: 4.1487 - accuracy: 0.5413\n",
      "Epoch 3/5\n",
      "31/31 [==============================] - 149s 5s/step - loss: 4.1486 - accuracy: 0.5418\n",
      "Epoch 4/5\n",
      "31/31 [==============================] - 167s 5s/step - loss: 4.1486 - accuracy: 0.5383\n",
      "Epoch 5/5\n",
      "31/31 [==============================] - 152s 5s/step - loss: 4.1487 - accuracy: 0.5408\n"
     ]
    },
    {
     "data": {
      "text/plain": [
       "<tensorflow.python.keras.callbacks.History at 0x273940631c0>"
      ]
     },
     "execution_count": 190,
     "metadata": {},
     "output_type": "execute_result"
    }
   ],
   "source": [
    "model.fit(padded_train, ytrain, batch_size=64, epochs=5)"
   ]
  },
  {
   "cell_type": "code",
   "execution_count": 191,
   "id": "9a7e4745",
   "metadata": {},
   "outputs": [],
   "source": [
    "from tensorflow.keras.models import load_model\n",
    "model.save('NNmodel.h5')"
   ]
  },
  {
   "cell_type": "code",
   "execution_count": 201,
   "id": "52f1885d",
   "metadata": {},
   "outputs": [],
   "source": [
    "###########\n",
    "def multiclass_accuracy(predictions, target):\n",
    "        \"Returns the multiclass accuracy of the classifier's predictions\"\n",
    "        score = []\n",
    "        for j in range(0, 5):\n",
    "            count = 0\n",
    "            for i in range(len(predictions)):\n",
    "                if predictions[i][j] == target[i][j]:\n",
    "                    count += 1\n",
    "            score.append(count / len(predictions))\n",
    "        return score\n"
   ]
  },
  {
   "cell_type": "code",
   "execution_count": 202,
   "id": "a33d957d",
   "metadata": {},
   "outputs": [],
   "source": [
    "y_pred = model.predict(padded_test)"
   ]
  },
  {
   "cell_type": "code",
   "execution_count": 216,
   "id": "0a987d04",
   "metadata": {},
   "outputs": [],
   "source": [
    "y_pred_classes = [[0 if el < 0.2 else 1 for el in item] for item in y_pred]"
   ]
  },
  {
   "cell_type": "code",
   "execution_count": 217,
   "id": "2b2de866",
   "metadata": {},
   "outputs": [
    {
     "data": {
      "text/plain": [
       "array([[0.1765689 , 0.2104571 , 0.18142228, 0.229171  , 0.20238072],\n",
       "       [0.20848273, 0.19984405, 0.21940663, 0.19592908, 0.17633748],\n",
       "       [0.1765689 , 0.2104571 , 0.18142228, 0.229171  , 0.20238072],\n",
       "       ...,\n",
       "       [0.20166868, 0.1919455 , 0.20369855, 0.18814184, 0.21454543],\n",
       "       [0.1765689 , 0.2104571 , 0.18142228, 0.229171  , 0.20238072],\n",
       "       [0.1765689 , 0.2104571 , 0.18142228, 0.229171  , 0.20238072]],\n",
       "      dtype=float32)"
      ]
     },
     "execution_count": 217,
     "metadata": {},
     "output_type": "execute_result"
    }
   ],
   "source": [
    "y_pred"
   ]
  },
  {
   "cell_type": "code",
   "execution_count": 218,
   "id": "58005ac8",
   "metadata": {},
   "outputs": [
    {
     "name": "stdout",
     "output_type": "stream",
     "text": [
      "[0.48582995951417, 0.46558704453441296, 0.44534412955465585, 0.5040485829959515, 0.4777327935222672]\n"
     ]
    }
   ],
   "source": [
    "print(multiclass_accuracy(ytest.values.tolist(), y_pred_classes))"
   ]
  },
  {
   "cell_type": "code",
   "execution_count": null,
   "id": "6248d6bf",
   "metadata": {},
   "outputs": [],
   "source": []
  }
 ],
 "metadata": {
  "kernelspec": {
   "display_name": "Python 3",
   "language": "python",
   "name": "python3"
  },
  "language_info": {
   "codemirror_mode": {
    "name": "ipython",
    "version": 3
   },
   "file_extension": ".py",
   "mimetype": "text/x-python",
   "name": "python",
   "nbconvert_exporter": "python",
   "pygments_lexer": "ipython3",
   "version": "3.8.8"
  }
 },
 "nbformat": 4,
 "nbformat_minor": 5
}
