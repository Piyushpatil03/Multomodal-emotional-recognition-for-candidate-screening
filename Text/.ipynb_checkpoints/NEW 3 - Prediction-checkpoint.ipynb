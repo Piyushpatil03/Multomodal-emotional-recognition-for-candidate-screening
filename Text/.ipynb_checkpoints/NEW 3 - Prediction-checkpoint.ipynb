{
 "cells": [
  {
   "cell_type": "code",
   "execution_count": 58,
   "id": "f37aafda",
   "metadata": {},
   "outputs": [],
   "source": [
    "import pickle\n",
    "from sklearn.feature_extraction.text import CountVectorizer\n",
    "import plotly.express as px\n",
    "import pandas as pd\n",
    "import re"
   ]
  },
  {
   "cell_type": "code",
   "execution_count": 59,
   "id": "c91068ed",
   "metadata": {},
   "outputs": [],
   "source": [
    "#cEXT = pickle.load( open(\"cEXT_piyush.p\", \"rb\"))\n",
    "cNEU = pickle.load( open(\"cNEU_p.p\", \"rb\"))\n",
    "cAGR = pickle.load( open(\"cAGR_p.p\", \"rb\"))\n",
    "cCON = pickle.load( open(\"cCON_p.p\", \"rb\"))\n",
    "cOPN = pickle.load( open(\"cOPN_p.p\", \"rb\"))"
   ]
  },
  {
   "cell_type": "code",
   "execution_count": 60,
   "id": "a7aef8b8",
   "metadata": {},
   "outputs": [],
   "source": [
    "with open('cEXT_piyush_new.p', 'rb') as f:\n",
    "    bow_transformer, cEXT = pickle.load(f)"
   ]
  },
  {
   "cell_type": "code",
   "execution_count": 91,
   "id": "59b6c1f7",
   "metadata": {},
   "outputs": [],
   "source": [
    "def predict_personality(text):\n",
    "    sentences = re.split(\"(?<=[.!?]) +\", text)\n",
    "    text_vector_31 = bow_transformer.transform(sentences)\n",
    "    EXT = cEXT.predict(text_vector_31)\n",
    "    NEU = cNEU.predict(text_vector_31)\n",
    "    AGR = cAGR.predict(text_vector_31)\n",
    "    CON = cCON.predict(text_vector_31)\n",
    "    OPN = cOPN.predict(text_vector_31)\n",
    "    return [EXT[0], NEU[0], AGR[0], CON[0], OPN[0]]\n"
   ]
  },
  {
   "cell_type": "code",
   "execution_count": 92,
   "id": "153cc0af",
   "metadata": {},
   "outputs": [],
   "source": [
    "text = 'It is important to note that each of the five personality factors represents a range between two extremes. For example, extraversion represents a continuum between extreme extraversion and extreme introversion. In the real world, most people lie somewhere in between the two polar ends of each dimension. These five categories are usually described as follows.'"
   ]
  },
  {
   "cell_type": "code",
   "execution_count": 93,
   "id": "a3111e6c",
   "metadata": {},
   "outputs": [
    {
     "name": "stdout",
     "output_type": "stream",
     "text": [
      "predicted personality: [1, 0, 1, 0, 1]\n"
     ]
    }
   ],
   "source": [
    "predictions = predict_personality(text)\n",
    "print(\"predicted personality:\", predictions)"
   ]
  },
  {
   "cell_type": "code",
   "execution_count": null,
   "id": "f1b2c4b6",
   "metadata": {},
   "outputs": [],
   "source": []
  }
 ],
 "metadata": {
  "kernelspec": {
   "display_name": "Python 3 (ipykernel)",
   "language": "python",
   "name": "python3"
  },
  "language_info": {
   "codemirror_mode": {
    "name": "ipython",
    "version": 3
   },
   "file_extension": ".py",
   "mimetype": "text/x-python",
   "name": "python",
   "nbconvert_exporter": "python",
   "pygments_lexer": "ipython3",
   "version": "3.9.6"
  }
 },
 "nbformat": 4,
 "nbformat_minor": 5
}
