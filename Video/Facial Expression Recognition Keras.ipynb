{
 "cells": [
  {
   "cell_type": "code",
   "execution_count": 1,
   "metadata": {},
   "outputs": [],
   "source": [
    "import numpy as np\n",
    "import seaborn as sns\n",
    "import matplotlib.pyplot as plt\n",
    "import utils\n",
    "import os\n",
    "%matplotlib inline\n",
    "\n",
    "from tensorflow.keras.preprocessing.image import ImageDataGenerator\n",
    "from tensorflow.keras.layers import Dense, Input, Dropout, Flatten, Conv2D\n",
    "from tensorflow.keras.layers import BatchNormalization, Activation, MaxPooling2D\n",
    "from tensorflow.keras.models import Model, Sequential\n",
    "from tensorflow.keras.optimizers import Adam\n",
    "from tensorflow.keras.callbacks import ModelCheckpoint, ReduceLROnPlateau\n",
    "from tensorflow.keras.utils import plot_model\n",
    "\n",
    "from IPython.display import SVG, Image\n",
    "import tensorflow as tf"
   ]
  },
  {
   "cell_type": "markdown",
   "metadata": {},
   "source": [
    "# category images"
   ]
  },
  {
   "cell_type": "code",
   "execution_count": 2,
   "metadata": {},
   "outputs": [
    {
     "name": "stdout",
     "output_type": "stream",
     "text": [
      "3995 angry images\n",
      "436 disgust images\n",
      "4097 fear images\n",
      "7214 happy images\n",
      "4965 neutral images\n",
      "4830 sad images\n",
      "3171 surprise images\n"
     ]
    }
   ],
   "source": [
    "for expression in os.listdir(\"train/\"):\n",
    "    print(str(len(os.listdir(\"train/\" + expression))) + \" \" + expression + \" images\")  \n",
    "    "
   ]
  },
  {
   "cell_type": "markdown",
   "metadata": {},
   "source": [
    "# Generate Training and Validation Batches "
   ]
  },
  {
   "cell_type": "code",
   "execution_count": 3,
   "metadata": {},
   "outputs": [
    {
     "name": "stdout",
     "output_type": "stream",
     "text": [
      "Found 28708 images belonging to 7 classes.\n",
      "Found 7178 images belonging to 7 classes.\n"
     ]
    }
   ],
   "source": [
    "img_size = 48\n",
    "batch_size = 64\n",
    "\n",
    "datagen_train = ImageDataGenerator(horizontal_flip=True)\n",
    "train_generator = datagen_train.flow_from_directory(\"train/\",\n",
    "                                                   target_size = (img_size,img_size),\n",
    "                                                    color_mode = 'grayscale',\n",
    "                                                    batch_size = batch_size, \n",
    "                                                    class_mode = 'categorical',\n",
    "                                                    shuffle = True)\n",
    "\n",
    "datagen_validation = ImageDataGenerator(horizontal_flip=True)\n",
    "validation_generator = datagen_validation.flow_from_directory(\"test/\",\n",
    "                                                   target_size = (img_size,img_size),\n",
    "                                                    color_mode = 'grayscale',\n",
    "                                                    batch_size = batch_size, \n",
    "                                                    class_mode = 'categorical',\n",
    "                                                    shuffle = True)\n",
    "                                                    "
   ]
  },
  {
   "cell_type": "markdown",
   "metadata": {},
   "source": [
    "# Create CNN model"
   ]
  },
  {
   "cell_type": "code",
   "execution_count": 4,
   "metadata": {},
   "outputs": [],
   "source": [
    "model = Sequential()\n",
    "\n",
    "# 1 - conv layer\n",
    "model.add(Conv2D(64, (3,3), padding='same', input_shape=(48,48,1)))\n",
    "model.add(BatchNormalization())\n",
    "model.add(Activation('relu'))\n",
    "model.add(MaxPooling2D(pool_size=(2,2)))\n",
    "model.add(Dropout(0.25))\n",
    "\n",
    "# 2 - conv layer\n",
    "model.add(Conv2D(128, (5,5), padding='same'))\n",
    "model.add(BatchNormalization())\n",
    "model.add(Activation('relu'))\n",
    "model.add(MaxPooling2D(pool_size=(2,2)))\n",
    "model.add(Dropout(0.25))\n",
    "\n",
    "# 3 - conv layer\n",
    "model.add(Conv2D(512, (3,3), padding='same'))\n",
    "model.add(BatchNormalization())\n",
    "model.add(Activation('relu'))\n",
    "model.add(MaxPooling2D(pool_size=(2,2)))\n",
    "model.add(Dropout(0.25))\n",
    "\n",
    "# 4 - conv layer\n",
    "model.add(Conv2D(512, (3,3), padding='same'))\n",
    "model.add(BatchNormalization())\n",
    "model.add(Activation('relu'))\n",
    "model.add(MaxPooling2D(pool_size=(2,2)))\n",
    "model.add(Dropout(0.25))\n",
    "\n",
    "model.add(Flatten())\n",
    "\n",
    "# FC 1\n",
    "model.add(Dense(256))\n",
    "model.add(BatchNormalization())\n",
    "model.add(Activation('relu'))\n",
    "model.add(Dropout(0.25))\n",
    "\n",
    "# FC 2\n",
    "model.add(Dense(512))\n",
    "model.add(BatchNormalization())\n",
    "model.add(Activation('relu'))\n",
    "model.add(Dropout(0.25))\n",
    "\n",
    "model.add(Dense(7, activation='softmax'))"
   ]
  },
  {
   "cell_type": "code",
   "execution_count": 5,
   "metadata": {},
   "outputs": [
    {
     "name": "stdout",
     "output_type": "stream",
     "text": [
      "Model: \"sequential\"\n",
      "_________________________________________________________________\n",
      "Layer (type)                 Output Shape              Param #   \n",
      "=================================================================\n",
      "conv2d (Conv2D)              (None, 48, 48, 64)        640       \n",
      "_________________________________________________________________\n",
      "batch_normalization (BatchNo (None, 48, 48, 64)        256       \n",
      "_________________________________________________________________\n",
      "activation (Activation)      (None, 48, 48, 64)        0         \n",
      "_________________________________________________________________\n",
      "max_pooling2d (MaxPooling2D) (None, 24, 24, 64)        0         \n",
      "_________________________________________________________________\n",
      "dropout (Dropout)            (None, 24, 24, 64)        0         \n",
      "_________________________________________________________________\n",
      "conv2d_1 (Conv2D)            (None, 24, 24, 128)       204928    \n",
      "_________________________________________________________________\n",
      "batch_normalization_1 (Batch (None, 24, 24, 128)       512       \n",
      "_________________________________________________________________\n",
      "activation_1 (Activation)    (None, 24, 24, 128)       0         \n",
      "_________________________________________________________________\n",
      "max_pooling2d_1 (MaxPooling2 (None, 12, 12, 128)       0         \n",
      "_________________________________________________________________\n",
      "dropout_1 (Dropout)          (None, 12, 12, 128)       0         \n",
      "_________________________________________________________________\n",
      "conv2d_2 (Conv2D)            (None, 12, 12, 512)       590336    \n",
      "_________________________________________________________________\n",
      "batch_normalization_2 (Batch (None, 12, 12, 512)       2048      \n",
      "_________________________________________________________________\n",
      "activation_2 (Activation)    (None, 12, 12, 512)       0         \n",
      "_________________________________________________________________\n",
      "max_pooling2d_2 (MaxPooling2 (None, 6, 6, 512)         0         \n",
      "_________________________________________________________________\n",
      "dropout_2 (Dropout)          (None, 6, 6, 512)         0         \n",
      "_________________________________________________________________\n",
      "conv2d_3 (Conv2D)            (None, 6, 6, 512)         2359808   \n",
      "_________________________________________________________________\n",
      "batch_normalization_3 (Batch (None, 6, 6, 512)         2048      \n",
      "_________________________________________________________________\n",
      "activation_3 (Activation)    (None, 6, 6, 512)         0         \n",
      "_________________________________________________________________\n",
      "max_pooling2d_3 (MaxPooling2 (None, 3, 3, 512)         0         \n",
      "_________________________________________________________________\n",
      "dropout_3 (Dropout)          (None, 3, 3, 512)         0         \n",
      "_________________________________________________________________\n",
      "flatten (Flatten)            (None, 4608)              0         \n",
      "_________________________________________________________________\n",
      "dense (Dense)                (None, 256)               1179904   \n",
      "_________________________________________________________________\n",
      "batch_normalization_4 (Batch (None, 256)               1024      \n",
      "_________________________________________________________________\n",
      "activation_4 (Activation)    (None, 256)               0         \n",
      "_________________________________________________________________\n",
      "dropout_4 (Dropout)          (None, 256)               0         \n",
      "_________________________________________________________________\n",
      "dense_1 (Dense)              (None, 512)               131584    \n",
      "_________________________________________________________________\n",
      "batch_normalization_5 (Batch (None, 512)               2048      \n",
      "_________________________________________________________________\n",
      "activation_5 (Activation)    (None, 512)               0         \n",
      "_________________________________________________________________\n",
      "dropout_5 (Dropout)          (None, 512)               0         \n",
      "_________________________________________________________________\n",
      "dense_2 (Dense)              (None, 7)                 3591      \n",
      "=================================================================\n",
      "Total params: 4,478,727\n",
      "Trainable params: 4,474,759\n",
      "Non-trainable params: 3,968\n",
      "_________________________________________________________________\n"
     ]
    }
   ],
   "source": [
    "opt = Adam(lr = 0.0005)\n",
    "\n",
    "model.compile(optimizer = opt,\n",
    "             loss = 'categorical_crossentropy',\n",
    "             metrics = ['accuracy'])\n",
    "model.summary()"
   ]
  },
  {
   "cell_type": "markdown",
   "metadata": {},
   "source": [
    "# Train and Evaluate Model"
   ]
  },
  {
   "cell_type": "code",
   "execution_count": 6,
   "metadata": {},
   "outputs": [
    {
     "name": "stdout",
     "output_type": "stream",
     "text": [
      "Epoch 1/15\n",
      "448/448 [==============================] - ETA: 0s - loss: 1.7940 - accuracy: 0.3110\n",
      "Epoch 00001: saving model to model_weight.h5\n",
      "448/448 [==============================] - 1176s 3s/step - loss: 1.7940 - accuracy: 0.3110 - val_loss: 1.6287 - val_accuracy: 0.3876\n",
      "Epoch 2/15\n",
      "448/448 [==============================] - ETA: 0s - loss: 1.4767 - accuracy: 0.4335\n",
      "Epoch 00002: saving model to model_weight.h5\n",
      "448/448 [==============================] - 1006s 2s/step - loss: 1.4767 - accuracy: 0.4335 - val_loss: 1.4151 - val_accuracy: 0.4453\n",
      "Epoch 3/15\n",
      "448/448 [==============================] - ETA: 0s - loss: 1.3244 - accuracy: 0.4920\n",
      "Epoch 00003: saving model to model_weight.h5\n",
      "448/448 [==============================] - 933s 2s/step - loss: 1.3244 - accuracy: 0.4920 - val_loss: 1.5212 - val_accuracy: 0.4455\n",
      "Epoch 4/15\n",
      "448/448 [==============================] - ETA: 0s - loss: 1.2437 - accuracy: 0.5265\n",
      "Epoch 00004: saving model to model_weight.h5\n",
      "448/448 [==============================] - 1001s 2s/step - loss: 1.2437 - accuracy: 0.5265 - val_loss: 1.2539 - val_accuracy: 0.5191\n",
      "Epoch 5/15\n",
      "448/448 [==============================] - ETA: 0s - loss: 1.1878 - accuracy: 0.5495\n",
      "Epoch 00005: saving model to model_weight.h5\n",
      "448/448 [==============================] - 985s 2s/step - loss: 1.1878 - accuracy: 0.5495 - val_loss: 1.1947 - val_accuracy: 0.5463\n",
      "Epoch 6/15\n",
      "448/448 [==============================] - ETA: 0s - loss: 1.1501 - accuracy: 0.5652\n",
      "Epoch 00006: saving model to model_weight.h5\n",
      "448/448 [==============================] - 1042s 2s/step - loss: 1.1501 - accuracy: 0.5652 - val_loss: 1.1748 - val_accuracy: 0.5601\n",
      "Epoch 7/15\n",
      "448/448 [==============================] - ETA: 0s - loss: 1.1177 - accuracy: 0.5733\n",
      "Epoch 00007: saving model to model_weight.h5\n",
      "448/448 [==============================] - 1010s 2s/step - loss: 1.1177 - accuracy: 0.5733 - val_loss: 1.2115 - val_accuracy: 0.5379\n",
      "Epoch 8/15\n",
      "448/448 [==============================] - ETA: 0s - loss: 1.0832 - accuracy: 0.5880\n",
      "Epoch 00008: saving model to model_weight.h5\n",
      "448/448 [==============================] - 1143s 3s/step - loss: 1.0832 - accuracy: 0.5880 - val_loss: 1.0945 - val_accuracy: 0.5822\n",
      "Epoch 9/15\n",
      "448/448 [==============================] - ETA: 0s - loss: 1.0593 - accuracy: 0.5976\n",
      "Epoch 00009: saving model to model_weight.h5\n",
      "448/448 [==============================] - 982s 2s/step - loss: 1.0593 - accuracy: 0.5976 - val_loss: 1.1533 - val_accuracy: 0.5686\n",
      "Epoch 10/15\n",
      "448/448 [==============================] - ETA: 0s - loss: 1.0339 - accuracy: 0.6056\n",
      "Epoch 00010: saving model to model_weight.h5\n",
      "448/448 [==============================] - 929s 2s/step - loss: 1.0339 - accuracy: 0.6056 - val_loss: 1.1091 - val_accuracy: 0.5823\n",
      "Epoch 11/15\n",
      "448/448 [==============================] - ETA: 0s - loss: 0.9641 - accuracy: 0.6384\n",
      "Epoch 00011: saving model to model_weight.h5\n",
      "448/448 [==============================] - 922s 2s/step - loss: 0.9641 - accuracy: 0.6384 - val_loss: 0.9930 - val_accuracy: 0.6335\n",
      "Epoch 12/15\n",
      "448/448 [==============================] - ETA: 0s - loss: 0.9448 - accuracy: 0.6439\n",
      "Epoch 00012: saving model to model_weight.h5\n",
      "448/448 [==============================] - 906s 2s/step - loss: 0.9448 - accuracy: 0.6439 - val_loss: 0.9934 - val_accuracy: 0.6286\n",
      "Epoch 13/15\n",
      "448/448 [==============================] - ETA: 0s - loss: 0.9300 - accuracy: 0.6486\n",
      "Epoch 00013: saving model to model_weight.h5\n",
      "448/448 [==============================] - 852s 2s/step - loss: 0.9300 - accuracy: 0.6486 - val_loss: 0.9873 - val_accuracy: 0.6324\n",
      "Epoch 14/15\n",
      "448/448 [==============================] - ETA: 0s - loss: 0.9180 - accuracy: 0.6543\n",
      "Epoch 00014: saving model to model_weight.h5\n",
      "448/448 [==============================] - 836s 2s/step - loss: 0.9180 - accuracy: 0.6543 - val_loss: 0.9978 - val_accuracy: 0.6274\n",
      "Epoch 15/15\n",
      "448/448 [==============================] - ETA: 0s - loss: 0.9075 - accuracy: 0.6586\n",
      "Epoch 00015: saving model to model_weight.h5\n",
      "448/448 [==============================] - 877s 2s/step - loss: 0.9075 - accuracy: 0.6586 - val_loss: 0.9833 - val_accuracy: 0.6381\n"
     ]
    }
   ],
   "source": [
    "epochs = 15\n",
    "steps_per_epoch = train_generator.n//train_generator.batch_size\n",
    "validation_steps = validation_generator.n//validation_generator.batch_size\n",
    "\n",
    "checkpoint = ModelCheckpoint(\"model_weight.h5\",\n",
    "                            monitor = 'val_accuracy',\n",
    "                            save_weights_only = True,\n",
    "                            mode = 'max',\n",
    "                            verbose=1)\n",
    "\n",
    "reduce_lr = ReduceLROnPlateau(monitor = 'val_loss',\n",
    "                             factor=0.1,\n",
    "                             patience=2,\n",
    "                             min_lr=0.00001,\n",
    "                             mode='auto')\n",
    "\n",
    "callbacks = [checkpoint, reduce_lr]\n",
    "\n",
    "history = model.fit(x=train_generator,\n",
    "                   steps_per_epoch=steps_per_epoch,\n",
    "                   epochs=epochs,\n",
    "                   validation_data=validation_generator,\n",
    "                   validation_steps=validation_steps,\n",
    "                   callbacks=callbacks)\n"
   ]
  },
  {
   "cell_type": "code",
   "execution_count": 7,
   "metadata": {},
   "outputs": [],
   "source": [
    "model_json = model.to_json()\n",
    "with open (\"model.json\",\"w\") as json_file:\n",
    "    json_file.write(model_json)"
   ]
  },
  {
   "cell_type": "code",
   "execution_count": null,
   "metadata": {},
   "outputs": [],
   "source": []
  }
 ],
 "metadata": {
  "kernelspec": {
   "display_name": "Python 3",
   "language": "python",
   "name": "python3"
  },
  "language_info": {
   "codemirror_mode": {
    "name": "ipython",
    "version": 3
   },
   "file_extension": ".py",
   "mimetype": "text/x-python",
   "name": "python",
   "nbconvert_exporter": "python",
   "pygments_lexer": "ipython3",
   "version": "3.8.8"
  }
 },
 "nbformat": 4,
 "nbformat_minor": 4
}
